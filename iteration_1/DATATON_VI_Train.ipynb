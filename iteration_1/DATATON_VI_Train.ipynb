{
 "cells": [
  {
   "cell_type": "markdown",
   "metadata": {},
   "source": [
    "# PREPROCESAMIENTO - TRAIN"
   ]
  },
  {
   "cell_type": "markdown",
   "metadata": {},
   "source": [
    "El objetivo del presente notebook consiste en la eliminación de outliers con base en variables previamente seleccionadas mediante análisis del diccionario de datos y tipo de datos por variable, junto con la dumización de las variables categóricas."
   ]
  },
  {
   "cell_type": "markdown",
   "metadata": {},
   "source": [
    "## SET UP"
   ]
  },
  {
   "cell_type": "code",
   "execution_count": 1,
   "metadata": {},
   "outputs": [
    {
     "name": "stdout",
     "output_type": "stream",
     "text": [
      "Requirement already satisfied: findspark in c:\\users\\sobando\\anaconda3\\lib\\site-packages (1.3.0)\n"
     ]
    }
   ],
   "source": [
    "!pip install findspark\n",
    "\n",
    "import findspark\n",
    "findspark.init()"
   ]
  },
  {
   "cell_type": "markdown",
   "metadata": {},
   "source": [
    "## LIBRERIAS"
   ]
  },
  {
   "cell_type": "code",
   "execution_count": 2,
   "metadata": {},
   "outputs": [],
   "source": [
    "# Cargar Pyspark\n",
    "from pyspark.sql import SparkSession\n",
    "from pyspark import SparkContext\n",
    "from pyspark import SparkConf\n",
    "from pyspark.sql.functions import *\n",
    "\n",
    "spark = SparkSession.builder.appName(\"Test_spark\").master(\"local[*]\").getOrCreate()"
   ]
  },
  {
   "cell_type": "code",
   "execution_count": 3,
   "metadata": {},
   "outputs": [],
   "source": [
    "from pyspark.sql.functions import *\n",
    "from pyspark.sql import Window\n",
    "from pyspark.sql.types import *\n",
    "from pyspark.ml.feature import StringIndexer\n",
    "from pyspark.ml.feature import OneHotEncoder"
   ]
  },
  {
   "cell_type": "code",
   "execution_count": 4,
   "metadata": {},
   "outputs": [],
   "source": [
    "import pandas as pd\n",
    "import numpy as np\n",
    "import seaborn as sns\n",
    "import matplotlib.pyplot as plt"
   ]
  },
  {
   "cell_type": "markdown",
   "metadata": {},
   "source": [
    "## CARGAR DATOS"
   ]
  },
  {
   "cell_type": "code",
   "execution_count": 5,
   "metadata": {},
   "outputs": [],
   "source": [
    "schema = StructType([\n",
    "    StructField('periodo',IntegerType(), True),\n",
    "    StructField('id_cli',IntegerType(), True),\n",
    "    StructField('fecha_nacimiento',IntegerType(), True),\n",
    "    StructField('edad',DoubleType(), True),\n",
    "    StructField('genero',StringType(), True),\n",
    "    StructField('estado_civil',StringType(), True),\n",
    "    StructField('nivel_academico',StringType(), True),\n",
    "    StructField('profesion',StringType(), True),\n",
    "    StructField('ocupacion',StringType(), True),\n",
    "    StructField('tipo_vivienda',StringType(), True),\n",
    "    StructField('ult_actual',IntegerType(), True),\n",
    "    StructField('categoria',DoubleType(), True),\n",
    "    StructField('codigo_ciiu',IntegerType(), True),\n",
    "    StructField('ind_mora_vigente',StringType(), True),\n",
    "    StructField('cartera_castigada',StringType(), True),\n",
    "    StructField('ciudad_residencia',StringType(), True),\n",
    "    StructField('departamento_residencia',StringType(), True),\n",
    "    StructField('ciudad_laboral',StringType(), True),\n",
    "    StructField('departamento_laboral',StringType(), True),\n",
    "    StructField('rechazo_credito',StringType(), True),\n",
    "    StructField('mora_max',DoubleType(), True),\n",
    "    StructField('cant_moras_30_ult_12_meses',DoubleType(), True),\n",
    "    StructField('cant_moras_60_ult_12_meses',DoubleType(), True),\n",
    "    StructField('cant_moras_90_ult_12_meses',DoubleType(), True),\n",
    "    StructField('cupo_total_tc',DoubleType(), True),\n",
    "    StructField('tenencia_tc',StringType(), True),\n",
    "    StructField('cuota_tc_bancolombia',DoubleType(), True),\n",
    "    StructField('tiene_consumo',StringType(), True),\n",
    "    StructField('tiene_crediagil',StringType(), True),\n",
    "    StructField('nro_tot_cuentas',IntegerType(), True),\n",
    "    StructField('ctas_activas',IntegerType(), True),\n",
    "    StructField('tiene_ctas_activas',StringType(), True),\n",
    "    StructField('ctas_embargadas',IntegerType(), True),\n",
    "    StructField('tiene_ctas_embargadas',StringType(), True),\n",
    "    StructField('pension_fopep',StringType(), True),\n",
    "    StructField('cuota_cred_hipot',DoubleType(), True),\n",
    "    StructField('tiene_cred_hipo_1',StringType(), True),\n",
    "    StructField('tiene_cred_hipo_2',StringType(), True),\n",
    "    StructField('mediana_nom3',DoubleType(), True),\n",
    "    StructField('mediana_pen3',DoubleType(), True),\n",
    "    StructField('ingreso_nompen',DoubleType(), True),\n",
    "    StructField('cat_ingreso',StringType(), True),\n",
    "    StructField('ingreso_final',DoubleType(), True),\n",
    "    StructField('cant_mora_30_tdc_ult_3m_sf',DoubleType(), True),\n",
    "    StructField('cant_mora_30_consum_ult_3m_sf',DoubleType(), True),\n",
    "    StructField('cuota_de_vivienda',DoubleType(), True),\n",
    "    StructField('cuota_de_consumo',DoubleType(), True),\n",
    "    StructField('cuota_rotativos',DoubleType(), True),\n",
    "    StructField('cuota_tarjeta_de_credito',DoubleType(), True),\n",
    "    StructField('cuota_de_sector_solidario',DoubleType(), True),\n",
    "    StructField('cuota_sector_real_comercio',DoubleType(), True),\n",
    "    StructField('cupo_tc_mdo',DoubleType(), True),\n",
    "    StructField('saldo_prom3_tdc_mdo',DoubleType(), True),\n",
    "    StructField('cuota_tc_mdo',DoubleType(), True),\n",
    "    StructField('saldo_no_rot_mdo',DoubleType(), True),\n",
    "    StructField('cuota_libranza_sf',DoubleType(), True),\n",
    "    StructField('cant_oblig_tot_sf',DoubleType(), True),\n",
    "    StructField('cant_cast_ult_12m_sr',DoubleType(), True),\n",
    "    StructField('ind',DoubleType(), True),\n",
    "    StructField('rep_calif_cred',StringType(), True),\n",
    "    StructField('pol_centr_ext',DoubleType(), True),\n",
    "    StructField('convenio_lib',StringType(), True),\n",
    "    StructField('ingreso_nomina',DoubleType(), True),\n",
    "    StructField('ingreso_segurida_social',DoubleType(), True),\n",
    "    StructField('gasto_familiar',DoubleType(), True)\n",
    "])"
   ]
  },
  {
   "cell_type": "code",
   "execution_count": 6,
   "metadata": {},
   "outputs": [],
   "source": [
    "df = spark.read.schema(schema).option(\"delimiter\", \";\").option(\"nullValue\", \"\\\\N\").csv(\"input/Dataton_train_semicolon.csv\")"
   ]
  },
  {
   "cell_type": "code",
   "execution_count": 7,
   "metadata": {},
   "outputs": [
    {
     "data": {
      "text/plain": [
       "20988748"
      ]
     },
     "execution_count": 7,
     "metadata": {},
     "output_type": "execute_result"
    }
   ],
   "source": [
    "df.count()"
   ]
  },
  {
   "cell_type": "markdown",
   "metadata": {},
   "source": [
    "## PREPROCESAMIENTO"
   ]
  },
  {
   "cell_type": "markdown",
   "metadata": {},
   "source": [
    "### Variables seleccionadas para reducir columnas"
   ]
  },
  {
   "cell_type": "code",
   "execution_count": 8,
   "metadata": {},
   "outputs": [],
   "source": [
    "lista = ['tiene_ctas_embargadas', 'rechazo_credito', 'pension_fopep', 'tiene_cred_hipo_2', 'tiene_cred_hipo_1', 'cuota_cred_hipot', 'tiene_consumo', 'tiene_crediagil', 'convenio_lib', 'ingreso_nomina', 'ingreso_segurida_social','ciudad_residencia','ciudad_laboral','departamento_laboral']"
   ]
  },
  {
   "cell_type": "markdown",
   "metadata": {},
   "source": [
    "### Eliminación de dimensionalidad"
   ]
  },
  {
   "cell_type": "code",
   "execution_count": 9,
   "metadata": {},
   "outputs": [],
   "source": [
    "df = df.drop(*lista)"
   ]
  },
  {
   "cell_type": "markdown",
   "metadata": {},
   "source": [
    "### Variables seleccionadas para reducir registros"
   ]
  },
  {
   "cell_type": "code",
   "execution_count": 10,
   "metadata": {},
   "outputs": [],
   "source": [
    "variables = ['ind','ingreso_final','cupo_total_tc','cuota_tc_bancolombia','mediana_nom3','cuota_de_consumo','cuota_tarjeta_de_credito','cupo_tc_mdo','saldo_prom3_tdc_mdo','cuota_tc_mdo','saldo_no_rot_mdo']"
   ]
  },
  {
   "cell_type": "markdown",
   "metadata": {},
   "source": [
    "### Resumen estadístico por variable para obtener la reglas a aplicar en los outliers"
   ]
  },
  {
   "cell_type": "code",
   "execution_count": 11,
   "metadata": {},
   "outputs": [],
   "source": [
    "summary = pd.read_csv(\"summary.csv\")\n",
    "summary = summary.rename(columns={'Unnamed: 0': 'summary'})\n",
    "summary = summary.set_index(\"summary\")"
   ]
  },
  {
   "cell_type": "code",
   "execution_count": 12,
   "metadata": {},
   "outputs": [
    {
     "data": {
      "text/html": [
       "<div>\n",
       "<style scoped>\n",
       "    .dataframe tbody tr th:only-of-type {\n",
       "        vertical-align: middle;\n",
       "    }\n",
       "\n",
       "    .dataframe tbody tr th {\n",
       "        vertical-align: top;\n",
       "    }\n",
       "\n",
       "    .dataframe thead th {\n",
       "        text-align: right;\n",
       "    }\n",
       "</style>\n",
       "<table border=\"1\" class=\"dataframe\">\n",
       "  <thead>\n",
       "    <tr style=\"text-align: right;\">\n",
       "      <th></th>\n",
       "      <th>count</th>\n",
       "      <th>mean</th>\n",
       "      <th>stddev</th>\n",
       "      <th>min</th>\n",
       "      <th>25%</th>\n",
       "      <th>50%</th>\n",
       "      <th>75%</th>\n",
       "      <th>max</th>\n",
       "      <th>IQR</th>\n",
       "      <th>upper</th>\n",
       "      <th>lower</th>\n",
       "    </tr>\n",
       "    <tr>\n",
       "      <th>summary</th>\n",
       "      <th></th>\n",
       "      <th></th>\n",
       "      <th></th>\n",
       "      <th></th>\n",
       "      <th></th>\n",
       "      <th></th>\n",
       "      <th></th>\n",
       "      <th></th>\n",
       "      <th></th>\n",
       "      <th></th>\n",
       "      <th></th>\n",
       "    </tr>\n",
       "  </thead>\n",
       "  <tbody>\n",
       "    <tr>\n",
       "      <th>mora_max</th>\n",
       "      <td>15017120</td>\n",
       "      <td>5.008723e+00</td>\n",
       "      <td>2.371134e+01</td>\n",
       "      <td>0.0</td>\n",
       "      <td>0.0</td>\n",
       "      <td>0.0</td>\n",
       "      <td>1.0</td>\n",
       "      <td>999.000</td>\n",
       "      <td>1.0</td>\n",
       "      <td>2.5</td>\n",
       "      <td>-1.5</td>\n",
       "    </tr>\n",
       "    <tr>\n",
       "      <th>cupo_total_tc</th>\n",
       "      <td>20988748</td>\n",
       "      <td>4.426551e+06</td>\n",
       "      <td>1.093624e+07</td>\n",
       "      <td>0.0</td>\n",
       "      <td>0.0</td>\n",
       "      <td>0.0</td>\n",
       "      <td>4700000.0</td>\n",
       "      <td>9999999.000</td>\n",
       "      <td>4700000.0</td>\n",
       "      <td>11750000.0</td>\n",
       "      <td>-7050000.0</td>\n",
       "    </tr>\n",
       "    <tr>\n",
       "      <th>cuota_tc_bancolombia</th>\n",
       "      <td>20988748</td>\n",
       "      <td>1.949875e+05</td>\n",
       "      <td>6.079431e+05</td>\n",
       "      <td>0.0</td>\n",
       "      <td>0.0</td>\n",
       "      <td>0.0</td>\n",
       "      <td>197200.0</td>\n",
       "      <td>999999.999</td>\n",
       "      <td>197200.0</td>\n",
       "      <td>493000.0</td>\n",
       "      <td>-295800.0</td>\n",
       "    </tr>\n",
       "    <tr>\n",
       "      <th>nro_tot_cuentas</th>\n",
       "      <td>20988520</td>\n",
       "      <td>1.077879e+00</td>\n",
       "      <td>4.400288e-01</td>\n",
       "      <td>0.0</td>\n",
       "      <td>1.0</td>\n",
       "      <td>1.0</td>\n",
       "      <td>1.0</td>\n",
       "      <td>9.000</td>\n",
       "      <td>0.0</td>\n",
       "      <td>1.0</td>\n",
       "      <td>1.0</td>\n",
       "    </tr>\n",
       "    <tr>\n",
       "      <th>ctas_activas</th>\n",
       "      <td>20988520</td>\n",
       "      <td>1.020634e+00</td>\n",
       "      <td>4.069990e-01</td>\n",
       "      <td>0.0</td>\n",
       "      <td>1.0</td>\n",
       "      <td>1.0</td>\n",
       "      <td>1.0</td>\n",
       "      <td>9.000</td>\n",
       "      <td>0.0</td>\n",
       "      <td>1.0</td>\n",
       "      <td>1.0</td>\n",
       "    </tr>\n",
       "  </tbody>\n",
       "</table>\n",
       "</div>"
      ],
      "text/plain": [
       "                         count          mean        stddev  min  25%  50%  \\\n",
       "summary                                                                     \n",
       "mora_max              15017120  5.008723e+00  2.371134e+01  0.0  0.0  0.0   \n",
       "cupo_total_tc         20988748  4.426551e+06  1.093624e+07  0.0  0.0  0.0   \n",
       "cuota_tc_bancolombia  20988748  1.949875e+05  6.079431e+05  0.0  0.0  0.0   \n",
       "nro_tot_cuentas       20988520  1.077879e+00  4.400288e-01  0.0  1.0  1.0   \n",
       "ctas_activas          20988520  1.020634e+00  4.069990e-01  0.0  1.0  1.0   \n",
       "\n",
       "                            75%          max        IQR       upper      lower  \n",
       "summary                                                                         \n",
       "mora_max                    1.0      999.000        1.0         2.5       -1.5  \n",
       "cupo_total_tc         4700000.0  9999999.000  4700000.0  11750000.0 -7050000.0  \n",
       "cuota_tc_bancolombia   197200.0   999999.999   197200.0    493000.0  -295800.0  \n",
       "nro_tot_cuentas             1.0        9.000        0.0         1.0        1.0  \n",
       "ctas_activas                1.0        9.000        0.0         1.0        1.0  "
      ]
     },
     "execution_count": 12,
     "metadata": {},
     "output_type": "execute_result"
    }
   ],
   "source": [
    "summary.head()"
   ]
  },
  {
   "cell_type": "markdown",
   "metadata": {},
   "source": [
    "### Eliminación de outliers"
   ]
  },
  {
   "cell_type": "code",
   "execution_count": 13,
   "metadata": {},
   "outputs": [],
   "source": [
    "data = df"
   ]
  },
  {
   "cell_type": "code",
   "execution_count": 14,
   "metadata": {},
   "outputs": [
    {
     "name": "stdout",
     "output_type": "stream",
     "text": [
      "variable: ind ,rows: 18354590\n",
      "variable: ingreso_final ,rows: 17872401\n",
      "variable: cupo_total_tc ,rows: 16243361\n",
      "variable: cuota_tc_bancolombia ,rows: 15736006\n",
      "variable: mediana_nom3 ,rows: 14799177\n",
      "variable: cuota_de_consumo ,rows: 13865267\n",
      "variable: cuota_tarjeta_de_credito ,rows: 13531170\n",
      "variable: cupo_tc_mdo ,rows: 12870610\n",
      "variable: saldo_prom3_tdc_mdo ,rows: 11994388\n",
      "variable: cuota_tc_mdo ,rows: 11421656\n",
      "variable: saldo_no_rot_mdo ,rows: 10665003\n"
     ]
    }
   ],
   "source": [
    "# Getting summary of variables\n",
    "# Initialize missing variables\n",
    "error = []\n",
    "# Get the path\n",
    "for var in variables:\n",
    "    try:\n",
    "        # Getting parameters\n",
    "        upper =summary[summary.index == var].iloc[0][\"upper\"].astype(\"float64\")\n",
    "        lower = summary[summary.index == var].iloc[0][\"lower\"].astype(\"float64\")\n",
    "        # Dropping outliers\n",
    "        data = data.where((col(var)>lower) & (col(var)<upper))\n",
    "        print(\"variable: \" + str(var),\",rows: \" + str(data.count()))\n",
    "    except:\n",
    "        # Getting missing variables\n",
    "        error.append(var)\n",
    "        pass "
   ]
  },
  {
   "cell_type": "code",
   "execution_count": 15,
   "metadata": {},
   "outputs": [
    {
     "name": "stdout",
     "output_type": "stream",
     "text": [
      "[]\n"
     ]
    }
   ],
   "source": [
    "print(error)"
   ]
  },
  {
   "cell_type": "code",
   "execution_count": 16,
   "metadata": {},
   "outputs": [
    {
     "data": {
      "text/plain": [
       "10660715"
      ]
     },
     "execution_count": 16,
     "metadata": {},
     "output_type": "execute_result"
    }
   ],
   "source": [
    "# Dropping outliers of Edad\n",
    "data = data.withColumn(\"edad\",round(col(\"edad\"),0))\n",
    "data = data.where((col(\"edad\")<99) & (col(\"edad\")>=18))\n",
    "data.count()"
   ]
  },
  {
   "cell_type": "code",
   "execution_count": 17,
   "metadata": {},
   "outputs": [],
   "source": [
    "data_preprocessed = data"
   ]
  },
  {
   "cell_type": "markdown",
   "metadata": {},
   "source": [
    "## One hot encoding"
   ]
  },
  {
   "cell_type": "code",
   "execution_count": 18,
   "metadata": {},
   "outputs": [],
   "source": [
    "categorical_variables = ['genero','estado_civil','nivel_academico','profesion','ocupacion','tipo_vivienda','departamento_residencia','cat_ingreso','rep_calif_cred','ind_mora_vigente','cartera_castigada','tenencia_tc','tiene_ctas_activas']"
   ]
  },
  {
   "cell_type": "code",
   "execution_count": 19,
   "metadata": {},
   "outputs": [],
   "source": [
    "data_preprocessed = data_preprocessed.fillna(\"NA\")"
   ]
  },
  {
   "cell_type": "code",
   "execution_count": 20,
   "metadata": {},
   "outputs": [],
   "source": [
    "dummy = \"_dummy\"\n",
    "dumies = []\n",
    "for var in categorical_variables:\n",
    "    dumies.append(var + dummy)"
   ]
  },
  {
   "cell_type": "code",
   "execution_count": 21,
   "metadata": {},
   "outputs": [],
   "source": [
    "indexer = \"_indexer\"\n",
    "indexers = []\n",
    "for var in categorical_variables:\n",
    "    indexers.append(var + indexer)"
   ]
  },
  {
   "cell_type": "code",
   "execution_count": 22,
   "metadata": {},
   "outputs": [],
   "source": [
    "indexed = data_preprocessed\n",
    "\n",
    "for i in range(len(categorical_variables)):\n",
    "    indexer = StringIndexer(inputCol = categorical_variables[i], outputCol=indexers[i])\n",
    "    indexed = indexer.fit(indexed).transform(indexed)"
   ]
  },
  {
   "cell_type": "code",
   "execution_count": 23,
   "metadata": {},
   "outputs": [],
   "source": [
    "df_encode = indexed\n",
    "\n",
    "for i in range(len(categorical_variables)):\n",
    "    encoder = OneHotEncoder(inputCol=indexers[i], outputCol=dumies[i])\n",
    "    encoder = encoder.fit(df_encode)\n",
    "    df_encode = encoder.transform(df_encode)"
   ]
  },
  {
   "cell_type": "code",
   "execution_count": 24,
   "metadata": {},
   "outputs": [],
   "source": [
    "## clean variables\n",
    "df_encode = df_encode.drop(*categorical_variables)\n",
    "df_encode = df_encode.drop(*indexers)"
   ]
  },
  {
   "cell_type": "code",
   "execution_count": 25,
   "metadata": {},
   "outputs": [
    {
     "data": {
      "text/plain": [
       "['periodo',\n",
       " 'id_cli',\n",
       " 'fecha_nacimiento',\n",
       " 'edad',\n",
       " 'ult_actual',\n",
       " 'categoria',\n",
       " 'codigo_ciiu',\n",
       " 'mora_max',\n",
       " 'cant_moras_30_ult_12_meses',\n",
       " 'cant_moras_60_ult_12_meses',\n",
       " 'cant_moras_90_ult_12_meses',\n",
       " 'cupo_total_tc',\n",
       " 'cuota_tc_bancolombia',\n",
       " 'nro_tot_cuentas',\n",
       " 'ctas_activas',\n",
       " 'ctas_embargadas',\n",
       " 'mediana_nom3',\n",
       " 'mediana_pen3',\n",
       " 'ingreso_nompen',\n",
       " 'ingreso_final',\n",
       " 'cant_mora_30_tdc_ult_3m_sf',\n",
       " 'cant_mora_30_consum_ult_3m_sf',\n",
       " 'cuota_de_vivienda',\n",
       " 'cuota_de_consumo',\n",
       " 'cuota_rotativos',\n",
       " 'cuota_tarjeta_de_credito',\n",
       " 'cuota_de_sector_solidario',\n",
       " 'cuota_sector_real_comercio',\n",
       " 'cupo_tc_mdo',\n",
       " 'saldo_prom3_tdc_mdo',\n",
       " 'cuota_tc_mdo',\n",
       " 'saldo_no_rot_mdo',\n",
       " 'cuota_libranza_sf',\n",
       " 'cant_oblig_tot_sf',\n",
       " 'cant_cast_ult_12m_sr',\n",
       " 'ind',\n",
       " 'pol_centr_ext',\n",
       " 'gasto_familiar',\n",
       " 'genero_dummy',\n",
       " 'estado_civil_dummy',\n",
       " 'nivel_academico_dummy',\n",
       " 'profesion_dummy',\n",
       " 'ocupacion_dummy',\n",
       " 'tipo_vivienda_dummy',\n",
       " 'departamento_residencia_dummy',\n",
       " 'cat_ingreso_dummy',\n",
       " 'rep_calif_cred_dummy',\n",
       " 'ind_mora_vigente_dummy',\n",
       " 'cartera_castigada_dummy',\n",
       " 'tenencia_tc_dummy',\n",
       " 'tiene_ctas_activas_dummy']"
      ]
     },
     "execution_count": 25,
     "metadata": {},
     "output_type": "execute_result"
    }
   ],
   "source": [
    "df_encode.columns"
   ]
  },
  {
   "cell_type": "code",
   "execution_count": 26,
   "metadata": {},
   "outputs": [
    {
     "data": {
      "text/plain": [
       "10660715"
      ]
     },
     "execution_count": 26,
     "metadata": {},
     "output_type": "execute_result"
    }
   ],
   "source": [
    "df_encode.count()"
   ]
  },
  {
   "cell_type": "code",
   "execution_count": 28,
   "metadata": {},
   "outputs": [],
   "source": [
    "# Save as parquet file\n",
    "df_encode.write.parquet(\"output/preprocessing/preprocessing_data.parquet\")"
   ]
  }
 ],
 "metadata": {
  "kernelspec": {
   "display_name": "Python 3",
   "language": "python",
   "name": "python3"
  },
  "language_info": {
   "codemirror_mode": {
    "name": "ipython",
    "version": 3
   },
   "file_extension": ".py",
   "mimetype": "text/x-python",
   "name": "python",
   "nbconvert_exporter": "python",
   "pygments_lexer": "ipython3",
   "version": "3.8.3"
  }
 },
 "nbformat": 4,
 "nbformat_minor": 4
}
