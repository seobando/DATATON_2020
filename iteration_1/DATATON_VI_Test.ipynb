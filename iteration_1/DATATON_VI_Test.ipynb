{
 "cells": [
  {
   "cell_type": "markdown",
   "metadata": {},
   "source": [
    "# PREPROCESAMIENTO - TEST"
   ]
  },
  {
   "cell_type": "markdown",
   "metadata": {},
   "source": [
    "El objetivo del presente notebook consiste en la eliminación de variables previamente seleccionadas mediante análisis del diccionario de datos y tipo de datos por variable, junto con la dumización de las variables categóricas."
   ]
  },
  {
   "cell_type": "markdown",
   "metadata": {},
   "source": [
    "## SET UP"
   ]
  },
  {
   "cell_type": "code",
   "execution_count": 1,
   "metadata": {},
   "outputs": [
    {
     "name": "stdout",
     "output_type": "stream",
     "text": [
      "Requirement already satisfied: findspark in c:\\users\\sobando\\anaconda3\\lib\\site-packages (1.3.0)\n"
     ]
    }
   ],
   "source": [
    "!pip install findspark\n",
    "\n",
    "import findspark\n",
    "findspark.init()"
   ]
  },
  {
   "cell_type": "markdown",
   "metadata": {},
   "source": [
    "## LIBRERIAS"
   ]
  },
  {
   "cell_type": "code",
   "execution_count": 2,
   "metadata": {},
   "outputs": [],
   "source": [
    "# Cargar Pyspark\n",
    "from pyspark.sql import SparkSession\n",
    "from pyspark import SparkContext\n",
    "from pyspark import SparkConf\n",
    "from pyspark.sql.functions import *\n",
    "\n",
    "spark = SparkSession.builder.appName(\"preprocessing\").master(\"local[*]\").getOrCreate()"
   ]
  },
  {
   "cell_type": "code",
   "execution_count": 3,
   "metadata": {},
   "outputs": [],
   "source": [
    "from pyspark.sql.functions import *\n",
    "from pyspark.sql import Window\n",
    "from pyspark.sql.types import *\n",
    "from pyspark.ml.feature import StringIndexer\n",
    "from pyspark.ml.feature import OneHotEncoder"
   ]
  },
  {
   "cell_type": "code",
   "execution_count": 4,
   "metadata": {},
   "outputs": [],
   "source": [
    "import pandas as pd\n",
    "import numpy as np\n",
    "import seaborn as sns\n",
    "import matplotlib.pyplot as plt"
   ]
  },
  {
   "cell_type": "markdown",
   "metadata": {},
   "source": [
    "## CARGAR DATOS"
   ]
  },
  {
   "cell_type": "code",
   "execution_count": 5,
   "metadata": {},
   "outputs": [],
   "source": [
    "df = spark.read.option(\"header\",\"true\").option(\"inferschema\",\"true\").option(\"delimiter\", \";\").option(\"nullValue\", \"\\\\N\").csv(\"input/dt2020_base_evaluar_semicolon.csv\")"
   ]
  },
  {
   "cell_type": "code",
   "execution_count": 6,
   "metadata": {},
   "outputs": [
    {
     "data": {
      "text/plain": [
       "281666"
      ]
     },
     "execution_count": 6,
     "metadata": {},
     "output_type": "execute_result"
    }
   ],
   "source": [
    "df.count()"
   ]
  },
  {
   "cell_type": "markdown",
   "metadata": {},
   "source": [
    "## PREPROCESAMIENTO"
   ]
  },
  {
   "cell_type": "markdown",
   "metadata": {},
   "source": [
    "### Variables seleccionadas para reducir columnas"
   ]
  },
  {
   "cell_type": "code",
   "execution_count": 7,
   "metadata": {},
   "outputs": [],
   "source": [
    "lista = ['tiene_ctas_embargadas', 'rechazo_credito', 'pension_fopep', 'tiene_cred_hipo_2', 'tiene_cred_hipo_1', 'cuota_cred_hipot', 'tiene_consumo', 'tiene_crediagil', 'convenio_lib', 'ingreso_nomina', 'ingreso_segurida_social','ciudad_residencia','ciudad_laboral','departamento_laboral']"
   ]
  },
  {
   "cell_type": "markdown",
   "metadata": {},
   "source": [
    "### Eliminación de dimensionalidad"
   ]
  },
  {
   "cell_type": "code",
   "execution_count": 8,
   "metadata": {},
   "outputs": [],
   "source": [
    "df = df.drop(*lista)"
   ]
  },
  {
   "cell_type": "markdown",
   "metadata": {},
   "source": [
    "### Variables seleccionadas para reducir registros"
   ]
  },
  {
   "cell_type": "code",
   "execution_count": 9,
   "metadata": {},
   "outputs": [],
   "source": [
    "variables = ['ind','ingreso_final','cupo_total_tc','cuota_tc_bancolombia','mediana_nom3','cuota_de_consumo','cuota_tarjeta_de_credito','cupo_tc_mdo','saldo_prom3_tdc_mdo','cuota_tc_mdo','saldo_no_rot_mdo']"
   ]
  },
  {
   "cell_type": "code",
   "execution_count": 10,
   "metadata": {},
   "outputs": [],
   "source": [
    "data_preprocessed = df"
   ]
  },
  {
   "cell_type": "markdown",
   "metadata": {},
   "source": [
    "## One hot encoding"
   ]
  },
  {
   "cell_type": "code",
   "execution_count": 11,
   "metadata": {},
   "outputs": [],
   "source": [
    "categorical_variables = ['genero','estado_civil','nivel_academico','profesion','ocupacion','tipo_vivienda','departamento_residencia','cat_ingreso','rep_calif_cred','ind_mora_vigente','cartera_castigada','tenencia_tc','tiene_ctas_activas']"
   ]
  },
  {
   "cell_type": "code",
   "execution_count": 12,
   "metadata": {},
   "outputs": [],
   "source": [
    "data_preprocessed = data_preprocessed.fillna(\"NA\")"
   ]
  },
  {
   "cell_type": "code",
   "execution_count": 13,
   "metadata": {},
   "outputs": [],
   "source": [
    "dummy = \"_dummy\"\n",
    "dumies = []\n",
    "for var in categorical_variables:\n",
    "    dumies.append(var + dummy)"
   ]
  },
  {
   "cell_type": "code",
   "execution_count": 14,
   "metadata": {},
   "outputs": [],
   "source": [
    "indexer = \"_indexer\"\n",
    "indexers = []\n",
    "for var in categorical_variables:\n",
    "    indexers.append(var + indexer)"
   ]
  },
  {
   "cell_type": "code",
   "execution_count": 15,
   "metadata": {},
   "outputs": [],
   "source": [
    "indexed = data_preprocessed\n",
    "\n",
    "for i in range(len(categorical_variables)):\n",
    "    indexer = StringIndexer(inputCol = categorical_variables[i], outputCol=indexers[i])\n",
    "    indexed = indexer.fit(indexed).transform(indexed)"
   ]
  },
  {
   "cell_type": "code",
   "execution_count": 16,
   "metadata": {},
   "outputs": [],
   "source": [
    "df_encode = indexed\n",
    "\n",
    "for i in range(len(categorical_variables)):\n",
    "    encoder = OneHotEncoder(inputCol=indexers[i], outputCol=dumies[i])\n",
    "    encoder = encoder.fit(df_encode)\n",
    "    df_encode = encoder.transform(df_encode)"
   ]
  },
  {
   "cell_type": "code",
   "execution_count": 17,
   "metadata": {},
   "outputs": [],
   "source": [
    "## clean variables\n",
    "df_encode = df_encode.drop(*categorical_variables)\n",
    "df_encode = df_encode.drop(*indexers)"
   ]
  },
  {
   "cell_type": "code",
   "execution_count": 18,
   "metadata": {},
   "outputs": [
    {
     "data": {
      "text/plain": [
       "['id_registro',\n",
       " 'periodo',\n",
       " 'id_cli',\n",
       " 'fecha_nacimiento',\n",
       " 'edad',\n",
       " 'ult_actual',\n",
       " 'categoria',\n",
       " 'codigo_ciiu',\n",
       " 'mora_max',\n",
       " 'cant_moras_30_ult_12_meses',\n",
       " 'cant_moras_60_ult_12_meses',\n",
       " 'cant_moras_90_ult_12_meses',\n",
       " 'cupo_total_tc',\n",
       " 'cuota_tc_bancolombia',\n",
       " 'nro_tot_cuentas',\n",
       " 'ctas_activas',\n",
       " 'ctas_embargadas',\n",
       " 'mediana_nom3',\n",
       " 'mediana_pen3',\n",
       " 'ingreso_nompen',\n",
       " 'ingreso_final',\n",
       " 'cant_mora_30_tdc_ult_3m_sf',\n",
       " 'cant_mora_30_consum_ult_3m_sf',\n",
       " 'cuota_de_vivienda',\n",
       " 'cuota_de_consumo',\n",
       " 'cuota_rotativos',\n",
       " 'cuota_tarjeta_de_credito',\n",
       " 'cuota_de_sector_solidario',\n",
       " 'cuota_sector_real_comercio',\n",
       " 'cupo_tc_mdo',\n",
       " 'saldo_prom3_tdc_mdo',\n",
       " 'cuota_tc_mdo',\n",
       " 'saldo_no_rot_mdo',\n",
       " 'cuota_libranza_sf',\n",
       " 'cant_oblig_tot_sf',\n",
       " 'cant_cast_ult_12m_sr',\n",
       " 'ind',\n",
       " 'pol_centr_ext',\n",
       " 'genero_dummy',\n",
       " 'estado_civil_dummy',\n",
       " 'nivel_academico_dummy',\n",
       " 'profesion_dummy',\n",
       " 'ocupacion_dummy',\n",
       " 'tipo_vivienda_dummy',\n",
       " 'departamento_residencia_dummy',\n",
       " 'cat_ingreso_dummy',\n",
       " 'rep_calif_cred_dummy',\n",
       " 'ind_mora_vigente_dummy',\n",
       " 'cartera_castigada_dummy',\n",
       " 'tenencia_tc_dummy',\n",
       " 'tiene_ctas_activas_dummy']"
      ]
     },
     "execution_count": 18,
     "metadata": {},
     "output_type": "execute_result"
    }
   ],
   "source": [
    "df_encode.columns"
   ]
  },
  {
   "cell_type": "code",
   "execution_count": 19,
   "metadata": {},
   "outputs": [
    {
     "data": {
      "text/plain": [
       "281666"
      ]
     },
     "execution_count": 19,
     "metadata": {},
     "output_type": "execute_result"
    }
   ],
   "source": [
    "df_encode.count()"
   ]
  },
  {
   "cell_type": "code",
   "execution_count": 21,
   "metadata": {},
   "outputs": [],
   "source": [
    "df_encode.write.parquet(\"output/preprocessing/preprocessing_data_test.parquet\")"
   ]
  }
 ],
 "metadata": {
  "kernelspec": {
   "display_name": "Python 3",
   "language": "python",
   "name": "python3"
  },
  "language_info": {
   "codemirror_mode": {
    "name": "ipython",
    "version": 3
   },
   "file_extension": ".py",
   "mimetype": "text/x-python",
   "name": "python",
   "nbconvert_exporter": "python",
   "pygments_lexer": "ipython3",
   "version": "3.8.3"
  }
 },
 "nbformat": 4,
 "nbformat_minor": 4
}
