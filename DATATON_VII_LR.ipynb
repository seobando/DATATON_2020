{
 "cells": [
  {
   "cell_type": "markdown",
   "metadata": {},
   "source": [
    "# ENTRENAMIENTO - LINEAR REGRESSION"
   ]
  },
  {
   "cell_type": "markdown",
   "metadata": {},
   "source": [
    "El objetivo del presente notebook consiste en entrenar un modelo de regression multiple para aplicarlo a los datos de prueba."
   ]
  },
  {
   "cell_type": "markdown",
   "metadata": {},
   "source": [
    "## SET UP"
   ]
  },
  {
   "cell_type": "code",
   "execution_count": 1,
   "metadata": {},
   "outputs": [
    {
     "name": "stdout",
     "output_type": "stream",
     "text": [
      "Requirement already satisfied: findspark in c:\\users\\sobando\\anaconda3\\lib\\site-packages (1.3.0)\n"
     ]
    }
   ],
   "source": [
    "!pip install findspark\n",
    "\n",
    "import findspark\n",
    "findspark.init()"
   ]
  },
  {
   "cell_type": "markdown",
   "metadata": {},
   "source": [
    "## LIBRERIAS"
   ]
  },
  {
   "cell_type": "code",
   "execution_count": 2,
   "metadata": {},
   "outputs": [],
   "source": [
    "# Cargar Pyspark\n",
    "from pyspark.sql import SparkSession\n",
    "from pyspark import SparkContext\n",
    "from pyspark import SparkConf\n",
    "from pyspark.sql.functions import *\n",
    "\n",
    "spark = SparkSession.builder.appName(\"model\").master(\"local[*]\").getOrCreate()"
   ]
  },
  {
   "cell_type": "code",
   "execution_count": 3,
   "metadata": {},
   "outputs": [],
   "source": [
    "from pyspark.sql.functions import *\n",
    "from pyspark.sql import Window\n",
    "from pyspark.sql.types import *\n",
    "from pyspark.ml.feature import VectorAssembler\n",
    "from pyspark.ml.regression import LinearRegression \n",
    "from pyspark.mllib.regression import LabeledPoint\n",
    "from pyspark.mllib.util import MLUtils"
   ]
  },
  {
   "cell_type": "code",
   "execution_count": 4,
   "metadata": {},
   "outputs": [],
   "source": [
    "import pandas as pd\n",
    "import numpy as np\n",
    "import seaborn as sns\n",
    "import matplotlib.pyplot as plt\n",
    "import warnings\n",
    "import math\n",
    "warnings.filterwarnings('ignore')"
   ]
  },
  {
   "cell_type": "markdown",
   "metadata": {},
   "source": [
    "## CARGAR DATOS"
   ]
  },
  {
   "cell_type": "code",
   "execution_count": 5,
   "metadata": {},
   "outputs": [],
   "source": [
    "# Path definition\n",
    "path = \"output/preprocessing/preprocessing_data.parquet\""
   ]
  },
  {
   "cell_type": "code",
   "execution_count": 6,
   "metadata": {},
   "outputs": [],
   "source": [
    "# Read dataframe\n",
    "df = spark.read.parquet(path, header= True, inferSchema=True)"
   ]
  },
  {
   "cell_type": "code",
   "execution_count": 7,
   "metadata": {},
   "outputs": [
    {
     "data": {
      "text/plain": [
       "10660715"
      ]
     },
     "execution_count": 7,
     "metadata": {},
     "output_type": "execute_result"
    }
   ],
   "source": [
    "# Verify rows\n",
    "df.count()"
   ]
  },
  {
   "cell_type": "code",
   "execution_count": 8,
   "metadata": {},
   "outputs": [],
   "source": [
    "# Set input and drop variables\n",
    "input_values = df.columns\n",
    "drop_values = ['periodo','id_cli','fecha_nacimiento','ult_actual','gasto_familiar']"
   ]
  },
  {
   "cell_type": "code",
   "execution_count": 9,
   "metadata": {},
   "outputs": [],
   "source": [
    "# Clean input variables\n",
    "input_features = [x for x in input_values if x not in drop_values]"
   ]
  },
  {
   "cell_type": "code",
   "execution_count": 10,
   "metadata": {},
   "outputs": [],
   "source": [
    "# Replace null\n",
    "train = df.fillna(0)"
   ]
  },
  {
   "cell_type": "markdown",
   "metadata": {},
   "source": [
    "## MODELADO"
   ]
  },
  {
   "cell_type": "markdown",
   "metadata": {},
   "source": [
    "### Vectorizar - Train"
   ]
  },
  {
   "cell_type": "code",
   "execution_count": 11,
   "metadata": {},
   "outputs": [],
   "source": [
    "# Vectorize variables to define the features column\n",
    "feat_vector = VectorAssembler(inputCols=input_features, outputCol= \"features\")"
   ]
  },
  {
   "cell_type": "code",
   "execution_count": 12,
   "metadata": {},
   "outputs": [],
   "source": [
    "# Appply vectorization to train\n",
    "transTrain = feat_vector.transform(train)"
   ]
  },
  {
   "cell_type": "code",
   "execution_count": 13,
   "metadata": {},
   "outputs": [],
   "source": [
    "# select variables for the train model\n",
    "train_model = transTrain.select(\"id_cli\",\"periodo\",\"features\",\"gasto_familiar\")\n",
    "train_model = train_model.fillna(\"NA\")"
   ]
  },
  {
   "cell_type": "code",
   "execution_count": 14,
   "metadata": {},
   "outputs": [],
   "source": [
    "# Split\n",
    "splits = train_model.randomSplit([0.7, 0.3])\n",
    "train_df = splits[0]\n",
    "test_df = splits[1]"
   ]
  },
  {
   "cell_type": "code",
   "execution_count": 34,
   "metadata": {},
   "outputs": [],
   "source": [
    "# Apply statistical learning\n",
    "regression = LinearRegression(labelCol='gasto_familiar',maxIter=10,regParam=0.3, elasticNetParam=0.8)\n",
    "regression = regression.fit(train_df)"
   ]
  },
  {
   "cell_type": "code",
   "execution_count": 35,
   "metadata": {},
   "outputs": [],
   "source": [
    "# Predict\n",
    "predictions = regression.transform(test_df)"
   ]
  },
  {
   "cell_type": "code",
   "execution_count": 36,
   "metadata": {},
   "outputs": [
    {
     "name": "stdout",
     "output_type": "stream",
     "text": [
      "+------+-------+--------------------+--------------+------------------+\n",
      "|id_cli|periodo|            features|gasto_familiar|        prediction|\n",
      "+------+-------+--------------------+--------------+------------------+\n",
      "|    17| 201903|(212,[0,1,2,7,8,1...|       33350.0| 557001.8999391494|\n",
      "|    17| 201910|(212,[0,1,2,3,4,7...|      456092.0|  777464.283014857|\n",
      "|    17| 201911|(212,[0,1,2,3,4,7...|      722670.0| 795243.0997271333|\n",
      "|    17| 202004|(212,[0,1,2,3,4,7...|      338407.0| 864202.9904496818|\n",
      "|    17| 202008|(212,[0,1,2,7,8,9...|      294113.0| 802104.4736187836|\n",
      "|    17| 202009|(212,[0,1,2,7,8,9...|      172379.0| 728024.7795735411|\n",
      "|   213| 201904|(212,[0,1,2,3,9,1...|      918071.0| 522370.7110925317|\n",
      "|   213| 201905|(212,[0,1,2,3,9,1...|      662900.0| 522370.7110925317|\n",
      "|   213| 201911|(212,[0,1,2,9,10,...|      196736.0| 593066.3217000682|\n",
      "|   213| 202001|(212,[0,1,2,9,10,...|           0.0| 617089.4188316514|\n",
      "|   213| 202004|(212,[0,1,2,9,10,...|      352859.0| 625418.5439857439|\n",
      "|   213| 202005|(212,[0,1,2,9,10,...|      285728.0|   559115.04601236|\n",
      "|   213| 202008|(212,[0,1,2,9,10,...|      521768.0| 550272.6431850082|\n",
      "|   274| 202009|(212,[0,1,2,9,10,...|      505399.0| 860235.3384508649|\n",
      "|   332| 201907|(212,[0,1,2,7,8,9...|     152067.95| 812542.9226471953|\n",
      "|   332| 201910|(212,[0,1,2,3,7,8...|     152067.95| 847538.4959882563|\n",
      "|   332| 201911|(212,[0,1,2,3,7,8...|     151938.51| 831575.1416064955|\n",
      "|   332| 202010|(212,[0,1,2,3,7,8...|     154362.51|  871165.690379369|\n",
      "|   345| 201904|(212,[0,1,2,9,10,...|      452323.0| 614038.1129008438|\n",
      "|   400| 201905|(212,[0,1,2,3,9,1...|      135138.0|372798.63809345086|\n",
      "+------+-------+--------------------+--------------+------------------+\n",
      "only showing top 20 rows\n",
      "\n"
     ]
    }
   ],
   "source": [
    "# Show prediction\n",
    "predictions.select(\"id_cli\",\"periodo\",\"features\",\"gasto_familiar\",\"prediction\").show()"
   ]
  },
  {
   "cell_type": "code",
   "execution_count": 18,
   "metadata": {},
   "outputs": [
    {
     "data": {
      "text/plain": [
       "3198308"
      ]
     },
     "execution_count": 18,
     "metadata": {},
     "output_type": "execute_result"
    }
   ],
   "source": [
    "# Count rows\n",
    "predictions.count()"
   ]
  },
  {
   "cell_type": "markdown",
   "metadata": {},
   "source": [
    "## EVALUACIÓN"
   ]
  },
  {
   "cell_type": "code",
   "execution_count": 19,
   "metadata": {},
   "outputs": [
    {
     "name": "stdout",
     "output_type": "stream",
     "text": [
      "+-------+--------------------+\n",
      "|summary|          difference|\n",
      "+-------+--------------------+\n",
      "|  count|             2996400|\n",
      "|   mean|  189.57669576803443|\n",
      "| stddev|   115252.4795068138|\n",
      "|    min| -17.461297507113862|\n",
      "|    max|1.7960568374397865E8|\n",
      "+-------+--------------------+\n",
      "\n"
     ]
    }
   ],
   "source": [
    "# Show mean (MAPE)\n",
    "evaluation = predictions.withColumn(\"difference\",abs(col(\"gasto_familiar\")-col(\"prediction\"))/col(\"gasto_familiar\"))\n",
    "evaluation[[\"difference\"]].describe().show()"
   ]
  },
  {
   "cell_type": "code",
   "execution_count": 20,
   "metadata": {},
   "outputs": [
    {
     "name": "stdout",
     "output_type": "stream",
     "text": [
      "RMSE: 1368251.616789\n",
      "r2: 0.049794\n"
     ]
    }
   ],
   "source": [
    "# Show evaluation metrics\n",
    "regression_summary = regression.summary\n",
    "print(\"RMSE: %f\" % regression_summary.rootMeanSquaredError)\n",
    "print(\"r2: %f\" % regression_summary.r2)"
   ]
  },
  {
   "cell_type": "markdown",
   "metadata": {},
   "source": [
    "## ANÁLISIS"
   ]
  },
  {
   "cell_type": "code",
   "execution_count": 21,
   "metadata": {},
   "outputs": [],
   "source": [
    "# Check mape levels\n",
    "revision = (evaluation.withColumn(\"categoria\",\n",
    "                                   when(col(\"difference\")>10,10)\n",
    "                                   .when(col(\"difference\")>9,9)\n",
    "                                   .when(col(\"difference\")>8,8)\n",
    "                                   .when(col(\"difference\")>7,7)\n",
    "                                   .when(col(\"difference\")>6,6)\n",
    "                                   .when(col(\"difference\")>5,5)\n",
    "                                   .when(col(\"difference\")>4,4)\n",
    "                                   .when(col(\"difference\")>3,3)\n",
    "                                   .when(col(\"difference\")>2,2)\n",
    "                                   .when(col(\"difference\")>1,1)\n",
    "                                   .otherwise(0)))"
   ]
  },
  {
   "cell_type": "code",
   "execution_count": 22,
   "metadata": {},
   "outputs": [],
   "source": [
    "# get total of prediction row\n",
    "rows = revision.count()"
   ]
  },
  {
   "cell_type": "code",
   "execution_count": 23,
   "metadata": {},
   "outputs": [],
   "source": [
    "# Estimate frecuency and percentage per category\n",
    "participation = revision.groupby(\"categoria\").count()\n",
    "participation = participation.withColumn(\"%\",round(col(\"count\")/rows,2))"
   ]
  },
  {
   "cell_type": "code",
   "execution_count": 24,
   "metadata": {},
   "outputs": [
    {
     "name": "stdout",
     "output_type": "stream",
     "text": [
      "+---------+-------+----+\n",
      "|categoria|  count|   %|\n",
      "+---------+-------+----+\n",
      "|        9|  17978|0.01|\n",
      "|        7|  29163|0.01|\n",
      "|        8|  22667|0.01|\n",
      "|        6|  38496|0.01|\n",
      "|        4|  77345|0.02|\n",
      "|        5|  53123|0.02|\n",
      "|        3| 124347|0.04|\n",
      "|       10| 144534|0.05|\n",
      "|        2| 211805|0.07|\n",
      "|        1| 402271|0.13|\n",
      "|        0|2076579|0.65|\n",
      "+---------+-------+----+\n",
      "\n"
     ]
    }
   ],
   "source": [
    "# Show results\n",
    "participation.orderBy(\"%\").show()"
   ]
  },
  {
   "cell_type": "markdown",
   "metadata": {},
   "source": [
    "## IMPLEMENTACIÓN"
   ]
  },
  {
   "cell_type": "code",
   "execution_count": 25,
   "metadata": {},
   "outputs": [
    {
     "data": {
      "text/plain": [
       "281666"
      ]
     },
     "execution_count": 25,
     "metadata": {},
     "output_type": "execute_result"
    }
   ],
   "source": [
    "# Set testing path\n",
    "path = \"output/preprocessing/preprocessing_data_test.parquet\"\n",
    "# Read dataframe\n",
    "df_2 = spark.read.parquet(path, header= True, inferSchema=True)\n",
    "# Replace null\n",
    "test = df_2.fillna(0)\n",
    "# Verify rows\n",
    "df_2.count()"
   ]
  },
  {
   "cell_type": "code",
   "execution_count": 26,
   "metadata": {},
   "outputs": [],
   "source": [
    "# Appply vectorization to test\n",
    "transTest = feat_vector.transform(test)"
   ]
  },
  {
   "cell_type": "code",
   "execution_count": 27,
   "metadata": {},
   "outputs": [],
   "source": [
    "# select variables for the test model\n",
    "test_model = transTest.select(\"id_cli\",\"periodo\",\"features\")\n",
    "test_model = test_model.fillna(\"NA\")"
   ]
  },
  {
   "cell_type": "code",
   "execution_count": 28,
   "metadata": {},
   "outputs": [],
   "source": [
    "# Apply statistical learning\n",
    "regression = LinearRegression(labelCol='gasto_familiar',maxIter=10,regParam=0.3, elasticNetParam=0.8)\n",
    "regression = regression.fit(train_model)"
   ]
  },
  {
   "cell_type": "code",
   "execution_count": 33,
   "metadata": {},
   "outputs": [
    {
     "name": "stdout",
     "output_type": "stream",
     "text": [
      "+-------+-------+--------------------+\n",
      "| id_cli|periodo|            features|\n",
      "+-------+-------+--------------------+\n",
      "|2311966| 202001|(211,[0,1,2,7,8,9...|\n",
      "|3161308| 202003|(211,[0,1,2,9,10,...|\n",
      "|3175733| 202003|(211,[0,1,2,7,8,9...|\n",
      "|3180301| 202003|(211,[0,1,2,9,10,...|\n",
      "|3189113| 202004|(211,[0,1,2,9,10,...|\n",
      "+-------+-------+--------------------+\n",
      "only showing top 5 rows\n",
      "\n"
     ]
    }
   ],
   "source": [
    "test_model.show(5)"
   ]
  },
  {
   "cell_type": "code",
   "execution_count": 29,
   "metadata": {},
   "outputs": [],
   "source": [
    "# Predict\n",
    "predictions = regression.transform(test_model)"
   ]
  },
  {
   "cell_type": "code",
   "execution_count": 45,
   "metadata": {},
   "outputs": [
    {
     "name": "stdout",
     "output_type": "stream",
     "text": [
      "+-----------+------------------+\n",
      "|id_registro|    gasto_familiar|\n",
      "+-----------+------------------+\n",
      "|  17#201903| 557001.8999391494|\n",
      "|  17#201910|  777464.283014857|\n",
      "|  17#201911| 795243.0997271333|\n",
      "|  17#202004| 864202.9904496818|\n",
      "|  17#202008| 802104.4736187836|\n",
      "|  17#202009| 728024.7795735411|\n",
      "| 213#201904| 522370.7110925317|\n",
      "| 213#201905| 522370.7110925317|\n",
      "| 213#201911| 593066.3217000682|\n",
      "| 213#202001| 617089.4188316514|\n",
      "| 213#202004| 625418.5439857439|\n",
      "| 213#202005|   559115.04601236|\n",
      "| 213#202008| 550272.6431850082|\n",
      "| 274#202009| 860235.3384508649|\n",
      "| 332#201907| 812542.9226471953|\n",
      "| 332#201910| 847538.4959882563|\n",
      "| 332#201911| 831575.1416064955|\n",
      "| 332#202010|  871165.690379369|\n",
      "| 345#201904| 614038.1129008438|\n",
      "| 400#201905|372798.63809345086|\n",
      "+-----------+------------------+\n",
      "only showing top 20 rows\n",
      "\n"
     ]
    }
   ],
   "source": [
    "# Show prediction\n",
    "df_final = predictions.select(concat(str(\"id_cli\"),lit('#'),str(\"periodo\")).alias(\"id_registro\"),col(\"prediction\").alias(\"gasto_familiar\"))\n",
    "df_final.show()"
   ]
  },
  {
   "cell_type": "code",
   "execution_count": 47,
   "metadata": {},
   "outputs": [
    {
     "data": {
      "text/plain": [
       "3198308"
      ]
     },
     "execution_count": 47,
     "metadata": {},
     "output_type": "execute_result"
    }
   ],
   "source": [
    "df_final.count()"
   ]
  },
  {
   "cell_type": "code",
   "execution_count": 48,
   "metadata": {},
   "outputs": [],
   "source": [
    "df_final.toPandas().to_csv(\"output/implementations/df_final_20200127.csv\", index=False)"
   ]
  }
 ],
 "metadata": {
  "kernelspec": {
   "display_name": "Python 3",
   "language": "python",
   "name": "python3"
  },
  "language_info": {
   "codemirror_mode": {
    "name": "ipython",
    "version": 3
   },
   "file_extension": ".py",
   "mimetype": "text/x-python",
   "name": "python",
   "nbconvert_exporter": "python",
   "pygments_lexer": "ipython3",
   "version": "3.8.3"
  }
 },
 "nbformat": 4,
 "nbformat_minor": 4
}
