{
 "cells": [
  {
   "cell_type": "markdown",
   "metadata": {},
   "source": [
    "# ENTENDIMIENTO DE LOS DATOS"
   ]
  },
  {
   "cell_type": "markdown",
   "metadata": {},
   "source": [
    "El presente notebook busca ayudar a entender cuál es la tipologia de datos de las variables independientes, para estructurar el esquema de la base de datos y definir tratamientos posteriores a partir del dataset de prueba."
   ]
  },
  {
   "cell_type": "markdown",
   "metadata": {},
   "source": [
    "## SET UP"
   ]
  },
  {
   "cell_type": "code",
   "execution_count": 1,
   "metadata": {},
   "outputs": [
    {
     "name": "stdout",
     "output_type": "stream",
     "text": [
      "Requirement already satisfied: findspark in c:\\users\\sobando\\anaconda3\\lib\\site-packages (1.3.0)\n"
     ]
    }
   ],
   "source": [
    "!pip install findspark\n",
    "\n",
    "import findspark\n",
    "findspark.init()"
   ]
  },
  {
   "cell_type": "markdown",
   "metadata": {},
   "source": [
    "## LIBRERIAS"
   ]
  },
  {
   "cell_type": "code",
   "execution_count": 2,
   "metadata": {},
   "outputs": [],
   "source": [
    "# Cargar Pyspark\n",
    "from pyspark.sql import SparkSession\n",
    "from pyspark import SparkContext\n",
    "from pyspark import SparkConf\n",
    "from pyspark.sql.functions import *\n",
    "\n",
    "spark = SparkSession.builder.appName(\"Test_spark\").master(\"local[*]\").getOrCreate()"
   ]
  },
  {
   "cell_type": "code",
   "execution_count": 3,
   "metadata": {},
   "outputs": [],
   "source": [
    "from pyspark.sql.functions import *\n",
    "from pyspark.sql import Window\n",
    "from pyspark.sql.types import *"
   ]
  },
  {
   "cell_type": "code",
   "execution_count": 4,
   "metadata": {},
   "outputs": [],
   "source": [
    "import pandas as pd\n",
    "import seaborn as sns\n",
    "import matplotlib.pyplot as plt"
   ]
  },
  {
   "cell_type": "markdown",
   "metadata": {},
   "source": [
    "## CARGAR DATOS"
   ]
  },
  {
   "cell_type": "code",
   "execution_count": 9,
   "metadata": {},
   "outputs": [],
   "source": [
    "schema = StructType([\n",
    "    StructField('periodo',StringType(), True),\n",
    "    StructField('id_cli',StringType(), True),\n",
    "    StructField('fecha_nacimiento',StringType(), True),\n",
    "    StructField('edad',StringType(), True),\n",
    "    StructField('genero',StringType(), True),\n",
    "    StructField('estado_civil',StringType(), True),\n",
    "    StructField('nivel_academico',StringType(), True),\n",
    "    StructField('profesion',StringType(), True),\n",
    "    StructField('ocupacion',StringType(), True),\n",
    "    StructField('tipo_vivienda',StringType(), True),\n",
    "    StructField('ult_actual',StringType(), True),\n",
    "    StructField('categoria',StringType(), True),\n",
    "    StructField('codigo_ciiu',StringType(), True),\n",
    "    StructField('ind_mora_vigente',StringType(), True),\n",
    "    StructField('cartera_castigada',StringType(), True),\n",
    "    StructField('ciudad_residencia',StringType(), True),\n",
    "    StructField('departamento_residencia',StringType(), True),\n",
    "    StructField('ciudad_laboral',StringType(), True),\n",
    "    StructField('departamento_laboral',StringType(), True),\n",
    "    StructField('rechazo_credito',StringType(), True),\n",
    "    StructField('mora_max',StringType(), True),\n",
    "    StructField('cant_moras_30_ult_12_meses',StringType(), True),\n",
    "    StructField('cant_moras_60_ult_12_meses',StringType(), True),\n",
    "    StructField('cant_moras_90_ult_12_meses',StringType(), True),\n",
    "    StructField('cupo_total_tc',StringType(), True),\n",
    "    StructField('tenencia_tc',StringType(), True),\n",
    "    StructField('cuota_tc_bancolombia',StringType(), True),\n",
    "    StructField('tiene_consumo',StringType(), True),\n",
    "    StructField('tiene_crediagil',StringType(), True),\n",
    "    StructField('nro_tot_cuentas',StringType(), True),\n",
    "    StructField('ctas_activas',StringType(), True),\n",
    "    StructField('tiene_ctas_activas',StringType(), True),\n",
    "    StructField('ctas_embargadas',StringType(), True),\n",
    "    StructField('tiene_ctas_embargadas',StringType(), True),\n",
    "    StructField('pension_fopep',StringType(), True),\n",
    "    StructField('cuota_cred_hipot',StringType(), True),\n",
    "    StructField('tiene_cred_hipo_1',StringType(), True),\n",
    "    StructField('tiene_cred_hipo_2',StringType(), True),\n",
    "    StructField('mediana_nom3',StringType(), True),\n",
    "    StructField('mediana_pen3',StringType(), True),\n",
    "    StructField('ingreso_nompen',StringType(), True),\n",
    "    StructField('cat_ingreso',StringType(), True),\n",
    "    StructField('ingreso_final',StringType(), True),\n",
    "    StructField('cant_mora_30_tdc_ult_3m_sf',StringType(), True),\n",
    "    StructField('cant_mora_30_consum_ult_3m_sf',StringType(), True),\n",
    "    StructField('cuota_de_vivienda',StringType(), True),\n",
    "    StructField('cuota_de_consumo',StringType(), True),\n",
    "    StructField('cuota_rotativos',StringType(), True),\n",
    "    StructField('cuota_tarjeta_de_credito',StringType(), True),\n",
    "    StructField('cuota_de_sector_solidario',StringType(), True),\n",
    "    StructField('cuota_sector_real_comercio',StringType(), True),\n",
    "    StructField('cupo_tc_mdo',StringType(), True),\n",
    "    StructField('saldo_prom3_tdc_mdo',StringType(), True),\n",
    "    StructField('cuota_tc_mdo',StringType(), True),\n",
    "    StructField('saldo_no_rot_mdo',StringType(), True),\n",
    "    StructField('cuota_libranza_sf',StringType(), True),\n",
    "    StructField('cant_oblig_tot_sf',StringType(), True),\n",
    "    StructField('cant_cast_ult_12m_sr',StringType(), True),\n",
    "    StructField('ind',StringType(), True),\n",
    "    StructField('rep_calif_cred',StringType(), True),\n",
    "    StructField('pol_centr_ext',StringType(), True),\n",
    "    StructField('convenio_lib',StringType(), True),\n",
    "    StructField('ingreso_nomina',StringType(), True),\n",
    "    StructField('ingreso_segurida_social',StringType(), True),\n",
    "    StructField('gasto_familiar',StringType(), True)\n",
    "])"
   ]
  },
  {
   "cell_type": "code",
   "execution_count": 17,
   "metadata": {},
   "outputs": [],
   "source": [
    "df = spark.read.option(\"header\",True).option(\"inferschema\",True).option(\"delimiter\", \";\").csv(\"input/dt2020_base_evaluar_semicolon.csv\")"
   ]
  },
  {
   "cell_type": "code",
   "execution_count": 5,
   "metadata": {},
   "outputs": [
    {
     "ename": "TypeError",
     "evalue": "csv() got an unexpected keyword argument 'inferschema'",
     "output_type": "error",
     "traceback": [
      "\u001b[1;31m---------------------------------------------------------------------------\u001b[0m",
      "\u001b[1;31mTypeError\u001b[0m                                 Traceback (most recent call last)",
      "\u001b[1;32m<ipython-input-5-2f1b0580146e>\u001b[0m in \u001b[0;36m<module>\u001b[1;34m\u001b[0m\n\u001b[1;32m----> 1\u001b[1;33m \u001b[0mdf\u001b[0m \u001b[1;33m=\u001b[0m \u001b[0mspark\u001b[0m\u001b[1;33m.\u001b[0m\u001b[0mread\u001b[0m\u001b[1;33m.\u001b[0m\u001b[0mcsv\u001b[0m\u001b[1;33m(\u001b[0m\u001b[1;34m\"input/dt2020_base_evaluar_semicolon.csv\"\u001b[0m\u001b[1;33m,\u001b[0m\u001b[0minferschema\u001b[0m\u001b[1;33m=\u001b[0m\u001b[1;32mTrue\u001b[0m\u001b[1;33m)\u001b[0m\u001b[1;33m\u001b[0m\u001b[1;33m\u001b[0m\u001b[0m\n\u001b[0m",
      "\u001b[1;31mTypeError\u001b[0m: csv() got an unexpected keyword argument 'inferschema'"
     ]
    }
   ],
   "source": [
    "df = spark.read.csv(\"input/dt2020_base_evaluar_semicolon.csv\",inferschema=True)"
   ]
  },
  {
   "cell_type": "code",
   "execution_count": 13,
   "metadata": {},
   "outputs": [
    {
     "name": "stdout",
     "output_type": "stream",
     "text": [
      "+-------+------------------+\n",
      "|summary|              edad|\n",
      "+-------+------------------+\n",
      "|  count|            281666|\n",
      "|   mean| 43.41776703356966|\n",
      "| stddev| 13.04667930330127|\n",
      "|    min|18.455852156057496|\n",
      "|    max| 99.63860369609856|\n",
      "+-------+------------------+\n",
      "\n"
     ]
    }
   ],
   "source": [
    "df[[\"edad\"]].describe().show()"
   ]
  },
  {
   "cell_type": "code",
   "execution_count": 18,
   "metadata": {},
   "outputs": [
    {
     "data": {
      "text/plain": [
       "[('id_registro', 'string'),\n",
       " ('periodo', 'int'),\n",
       " ('id_cli', 'int'),\n",
       " ('fecha_nacimiento', 'int'),\n",
       " ('edad', 'double'),\n",
       " ('genero', 'string'),\n",
       " ('estado_civil', 'string'),\n",
       " ('nivel_academico', 'string'),\n",
       " ('profesion', 'string'),\n",
       " ('ocupacion', 'string'),\n",
       " ('tipo_vivienda', 'string'),\n",
       " ('ult_actual', 'int'),\n",
       " ('categoria', 'double'),\n",
       " ('codigo_ciiu', 'int'),\n",
       " ('ind_mora_vigente', 'string'),\n",
       " ('cartera_castigada', 'string'),\n",
       " ('ciudad_residencia', 'string'),\n",
       " ('departamento_residencia', 'string'),\n",
       " ('ciudad_laboral', 'string'),\n",
       " ('departamento_laboral', 'string'),\n",
       " ('rechazo_credito', 'string'),\n",
       " ('mora_max', 'double'),\n",
       " ('cant_moras_30_ult_12_meses', 'double'),\n",
       " ('cant_moras_60_ult_12_meses', 'double'),\n",
       " ('cant_moras_90_ult_12_meses', 'double'),\n",
       " ('cupo_total_tc', 'double'),\n",
       " ('tenencia_tc', 'string'),\n",
       " ('cuota_tc_bancolombia', 'double'),\n",
       " ('tiene_consumo', 'string'),\n",
       " ('tiene_crediagil', 'string'),\n",
       " ('nro_tot_cuentas', 'int'),\n",
       " ('ctas_activas', 'int'),\n",
       " ('tiene_ctas_activas', 'string'),\n",
       " ('ctas_embargadas', 'int'),\n",
       " ('tiene_ctas_embargadas', 'string'),\n",
       " ('pension_fopep', 'string'),\n",
       " ('cuota_cred_hipot', 'double'),\n",
       " ('tiene_cred_hipo_1', 'string'),\n",
       " ('tiene_cred_hipo_2', 'string'),\n",
       " ('mediana_nom3', 'double'),\n",
       " ('mediana_pen3', 'double'),\n",
       " ('ingreso_nompen', 'double'),\n",
       " ('cat_ingreso', 'string'),\n",
       " ('ingreso_final', 'double'),\n",
       " ('cant_mora_30_tdc_ult_3m_sf', 'double'),\n",
       " ('cant_mora_30_consum_ult_3m_sf', 'double'),\n",
       " ('cuota_de_vivienda', 'double'),\n",
       " ('cuota_de_consumo', 'double'),\n",
       " ('cuota_rotativos', 'double'),\n",
       " ('cuota_tarjeta_de_credito', 'double'),\n",
       " ('cuota_de_sector_solidario', 'double'),\n",
       " ('cuota_sector_real_comercio', 'double'),\n",
       " ('cupo_tc_mdo', 'double'),\n",
       " ('saldo_prom3_tdc_mdo', 'double'),\n",
       " ('cuota_tc_mdo', 'double'),\n",
       " ('saldo_no_rot_mdo', 'double'),\n",
       " ('cuota_libranza_sf', 'double'),\n",
       " ('cant_oblig_tot_sf', 'double'),\n",
       " ('cant_cast_ult_12m_sr', 'double'),\n",
       " ('ind', 'double'),\n",
       " ('rep_calif_cred', 'string'),\n",
       " ('pol_centr_ext', 'double'),\n",
       " ('convenio_lib', 'string'),\n",
       " ('ingreso_nomina', 'double'),\n",
       " ('ingreso_segurida_social', 'double')]"
      ]
     },
     "execution_count": 18,
     "metadata": {},
     "output_type": "execute_result"
    }
   ],
   "source": [
    "df.dtypes"
   ]
  }
 ],
 "metadata": {
  "kernelspec": {
   "display_name": "Python 3",
   "language": "python",
   "name": "python3"
  },
  "language_info": {
   "codemirror_mode": {
    "name": "ipython",
    "version": 3
   },
   "file_extension": ".py",
   "mimetype": "text/x-python",
   "name": "python",
   "nbconvert_exporter": "python",
   "pygments_lexer": "ipython3",
   "version": "3.8.3"
  }
 },
 "nbformat": 4,
 "nbformat_minor": 4
}
