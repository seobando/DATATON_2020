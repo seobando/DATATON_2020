{
 "cells": [
  {
   "cell_type": "markdown",
   "metadata": {},
   "source": [
    "# PRE-PROCESSING - TEST"
   ]
  },
  {
   "cell_type": "markdown",
   "metadata": {},
   "source": [
    "The objective of this notebook consists of the elimination of variables previously selected by means of analysis of the data dictionary and data type by variable, together with the categorical variables' dummarization."
   ]
  },
  {
   "cell_type": "markdown",
   "metadata": {},
   "source": [
    "## SET UP"
   ]
  },
  {
   "cell_type": "code",
   "execution_count": 15,
   "metadata": {},
   "outputs": [
    {
     "name": "stdout",
     "output_type": "stream",
     "text": [
      "Requirement already satisfied: findspark in c:\\users\\sobando\\anaconda3\\lib\\site-packages (1.3.0)\n"
     ]
    }
   ],
   "source": [
    "!pip install findspark\n",
    "\n",
    "import findspark\n",
    "findspark.init()"
   ]
  },
  {
   "cell_type": "markdown",
   "metadata": {},
   "source": [
    "## LIBRARIES"
   ]
  },
  {
   "cell_type": "code",
   "execution_count": 16,
   "metadata": {},
   "outputs": [],
   "source": [
    "# Cargar Pyspark\n",
    "from pyspark.sql import SparkSession\n",
    "from pyspark import SparkContext\n",
    "from pyspark import SparkConf\n",
    "from pyspark.sql.functions import *\n",
    "\n",
    "spark = SparkSession.builder.appName(\"Test_spark\").master(\"local[*]\").getOrCreate()"
   ]
  },
  {
   "cell_type": "code",
   "execution_count": 17,
   "metadata": {},
   "outputs": [],
   "source": [
    "from pyspark.sql.functions import *\n",
    "from pyspark.sql import Window\n",
    "from pyspark.sql.types import *\n",
    "from pyspark.ml.feature import StringIndexer\n",
    "from pyspark.ml.feature import OneHotEncoder"
   ]
  },
  {
   "cell_type": "code",
   "execution_count": 18,
   "metadata": {},
   "outputs": [],
   "source": [
    "import pandas as pd\n",
    "import numpy as np\n",
    "import seaborn as sns\n",
    "import matplotlib.pyplot as plt"
   ]
  },
  {
   "cell_type": "markdown",
   "metadata": {},
   "source": [
    "## LOAD DATA"
   ]
  },
  {
   "cell_type": "code",
   "execution_count": 19,
   "metadata": {},
   "outputs": [],
   "source": [
    "df = spark.read.option(\"header\",\"true\").option(\"inferschema\",\"true\").option(\"delimiter\", \",\").option(\"nullValue\", \"\\\\N\").csv(\"../iteration_1/input/dt2020_base_evaluar_semicolon.csv\")"
   ]
  },
  {
   "cell_type": "code",
   "execution_count": 20,
   "metadata": {},
   "outputs": [
    {
     "data": {
      "text/plain": [
       "281666"
      ]
     },
     "execution_count": 20,
     "metadata": {},
     "output_type": "execute_result"
    }
   ],
   "source": [
    "df.count()"
   ]
  },
  {
   "cell_type": "code",
   "execution_count": 21,
   "metadata": {},
   "outputs": [
    {
     "data": {
      "text/html": [
       "<div>\n",
       "<style scoped>\n",
       "    .dataframe tbody tr th:only-of-type {\n",
       "        vertical-align: middle;\n",
       "    }\n",
       "\n",
       "    .dataframe tbody tr th {\n",
       "        vertical-align: top;\n",
       "    }\n",
       "\n",
       "    .dataframe thead th {\n",
       "        text-align: right;\n",
       "    }\n",
       "</style>\n",
       "<table border=\"1\" class=\"dataframe\">\n",
       "  <thead>\n",
       "    <tr style=\"text-align: right;\">\n",
       "      <th></th>\n",
       "      <th>id_registro</th>\n",
       "      <th>periodo</th>\n",
       "      <th>id_cli</th>\n",
       "      <th>fecha_nacimiento</th>\n",
       "      <th>edad</th>\n",
       "      <th>genero</th>\n",
       "      <th>estado_civil</th>\n",
       "      <th>nivel_academico</th>\n",
       "      <th>profesion</th>\n",
       "      <th>ocupacion</th>\n",
       "      <th>...</th>\n",
       "      <th>saldo_no_rot_mdo</th>\n",
       "      <th>cuota_libranza_sf</th>\n",
       "      <th>cant_oblig_tot_sf</th>\n",
       "      <th>cant_cast_ult_12m_sr</th>\n",
       "      <th>ind</th>\n",
       "      <th>rep_calif_cred</th>\n",
       "      <th>pol_centr_ext</th>\n",
       "      <th>convenio_lib</th>\n",
       "      <th>ingreso_nomina</th>\n",
       "      <th>ingreso_segurida_social</th>\n",
       "    </tr>\n",
       "  </thead>\n",
       "  <tbody>\n",
       "    <tr>\n",
       "      <th>0</th>\n",
       "      <td>12154#201902</td>\n",
       "      <td>201902</td>\n",
       "      <td>12154</td>\n",
       "      <td>19430621</td>\n",
       "      <td>75.575633</td>\n",
       "      <td>M</td>\n",
       "      <td>CASADO</td>\n",
       "      <td>BACHILLER</td>\n",
       "      <td>None</td>\n",
       "      <td>Desempleado con Ingresos</td>\n",
       "      <td>...</td>\n",
       "      <td>262000</td>\n",
       "      <td>0</td>\n",
       "      <td>1</td>\n",
       "      <td>0</td>\n",
       "      <td>6.412382e+06</td>\n",
       "      <td>H</td>\n",
       "      <td>1</td>\n",
       "      <td>None</td>\n",
       "      <td>NaN</td>\n",
       "      <td>NaN</td>\n",
       "    </tr>\n",
       "    <tr>\n",
       "      <th>1</th>\n",
       "      <td>374#201902</td>\n",
       "      <td>201902</td>\n",
       "      <td>374</td>\n",
       "      <td>19810909</td>\n",
       "      <td>37.355236</td>\n",
       "      <td>F</td>\n",
       "      <td>SOLTERO</td>\n",
       "      <td>NO INFORMA</td>\n",
       "      <td>None</td>\n",
       "      <td>Empleado</td>\n",
       "      <td>...</td>\n",
       "      <td>0</td>\n",
       "      <td>0</td>\n",
       "      <td>1</td>\n",
       "      <td>0</td>\n",
       "      <td>1.323586e+05</td>\n",
       "      <td>C</td>\n",
       "      <td>0</td>\n",
       "      <td>None</td>\n",
       "      <td>NaN</td>\n",
       "      <td>NaN</td>\n",
       "    </tr>\n",
       "    <tr>\n",
       "      <th>2</th>\n",
       "      <td>7365#201902</td>\n",
       "      <td>201902</td>\n",
       "      <td>7365</td>\n",
       "      <td>19810311</td>\n",
       "      <td>37.853525</td>\n",
       "      <td>F</td>\n",
       "      <td>NO INFORMA</td>\n",
       "      <td>NO INFORMA</td>\n",
       "      <td>None</td>\n",
       "      <td>Empleado</td>\n",
       "      <td>...</td>\n",
       "      <td>0</td>\n",
       "      <td>0</td>\n",
       "      <td>1</td>\n",
       "      <td>0</td>\n",
       "      <td>1.394262e+06</td>\n",
       "      <td>D</td>\n",
       "      <td>0</td>\n",
       "      <td>None</td>\n",
       "      <td>NaN</td>\n",
       "      <td>NaN</td>\n",
       "    </tr>\n",
       "    <tr>\n",
       "      <th>3</th>\n",
       "      <td>16314#201902</td>\n",
       "      <td>201902</td>\n",
       "      <td>16314</td>\n",
       "      <td>19781030</td>\n",
       "      <td>40.216290</td>\n",
       "      <td>F</td>\n",
       "      <td>CASADO</td>\n",
       "      <td>UNIVERSITARIO</td>\n",
       "      <td>CONTADURIA</td>\n",
       "      <td>Empleado</td>\n",
       "      <td>...</td>\n",
       "      <td>8323000</td>\n",
       "      <td>0</td>\n",
       "      <td>0</td>\n",
       "      <td>44</td>\n",
       "      <td>3.483775e+06</td>\n",
       "      <td>H</td>\n",
       "      <td>8</td>\n",
       "      <td>None</td>\n",
       "      <td>NaN</td>\n",
       "      <td>NaN</td>\n",
       "    </tr>\n",
       "    <tr>\n",
       "      <th>4</th>\n",
       "      <td>19374#201902</td>\n",
       "      <td>201902</td>\n",
       "      <td>19374</td>\n",
       "      <td>19790903</td>\n",
       "      <td>39.373032</td>\n",
       "      <td>F</td>\n",
       "      <td>CASADO</td>\n",
       "      <td>ESPECIALIZACION</td>\n",
       "      <td>PSICOLOGIA</td>\n",
       "      <td>Profesional Independiente</td>\n",
       "      <td>...</td>\n",
       "      <td>0</td>\n",
       "      <td>0</td>\n",
       "      <td>12</td>\n",
       "      <td>0</td>\n",
       "      <td>5.554769e+07</td>\n",
       "      <td>A</td>\n",
       "      <td>0</td>\n",
       "      <td>None</td>\n",
       "      <td>NaN</td>\n",
       "      <td>NaN</td>\n",
       "    </tr>\n",
       "  </tbody>\n",
       "</table>\n",
       "<p>5 rows × 65 columns</p>\n",
       "</div>"
      ],
      "text/plain": [
       "    id_registro  periodo  id_cli  fecha_nacimiento       edad genero  \\\n",
       "0  12154#201902   201902   12154          19430621  75.575633      M   \n",
       "1    374#201902   201902     374          19810909  37.355236      F   \n",
       "2   7365#201902   201902    7365          19810311  37.853525      F   \n",
       "3  16314#201902   201902   16314          19781030  40.216290      F   \n",
       "4  19374#201902   201902   19374          19790903  39.373032      F   \n",
       "\n",
       "  estado_civil  nivel_academico   profesion                  ocupacion  ...  \\\n",
       "0       CASADO        BACHILLER        None   Desempleado con Ingresos  ...   \n",
       "1      SOLTERO       NO INFORMA        None                   Empleado  ...   \n",
       "2   NO INFORMA       NO INFORMA        None                   Empleado  ...   \n",
       "3       CASADO    UNIVERSITARIO  CONTADURIA                   Empleado  ...   \n",
       "4       CASADO  ESPECIALIZACION  PSICOLOGIA  Profesional Independiente  ...   \n",
       "\n",
       "  saldo_no_rot_mdo  cuota_libranza_sf  cant_oblig_tot_sf  \\\n",
       "0           262000                  0                  1   \n",
       "1                0                  0                  1   \n",
       "2                0                  0                  1   \n",
       "3          8323000                  0                  0   \n",
       "4                0                  0                 12   \n",
       "\n",
       "   cant_cast_ult_12m_sr           ind rep_calif_cred pol_centr_ext  \\\n",
       "0                     0  6.412382e+06              H             1   \n",
       "1                     0  1.323586e+05              C             0   \n",
       "2                     0  1.394262e+06              D             0   \n",
       "3                    44  3.483775e+06              H             8   \n",
       "4                     0  5.554769e+07              A             0   \n",
       "\n",
       "  convenio_lib ingreso_nomina ingreso_segurida_social  \n",
       "0         None            NaN                     NaN  \n",
       "1         None            NaN                     NaN  \n",
       "2         None            NaN                     NaN  \n",
       "3         None            NaN                     NaN  \n",
       "4         None            NaN                     NaN  \n",
       "\n",
       "[5 rows x 65 columns]"
      ]
     },
     "execution_count": 21,
     "metadata": {},
     "output_type": "execute_result"
    }
   ],
   "source": [
    "df.limit(5).toPandas().head()"
   ]
  },
  {
   "cell_type": "markdown",
   "metadata": {},
   "source": [
    "## PRE-PROCESSING"
   ]
  },
  {
   "cell_type": "markdown",
   "metadata": {},
   "source": [
    "### Imputations"
   ]
  },
  {
   "cell_type": "code",
   "execution_count": 22,
   "metadata": {},
   "outputs": [],
   "source": [
    "data_imputation = df.fillna(0)"
   ]
  },
  {
   "cell_type": "markdown",
   "metadata": {},
   "source": [
    "## Limpieza de variables"
   ]
  },
  {
   "cell_type": "code",
   "execution_count": 23,
   "metadata": {},
   "outputs": [],
   "source": [
    "data_clean = data_imputation"
   ]
  },
  {
   "cell_type": "code",
   "execution_count": 24,
   "metadata": {},
   "outputs": [],
   "source": [
    "# Estas son las que tienen X o \\N, pero son flags, entonces hay que cambiar \n",
    "# X por 1\n",
    "flags = ['tiene_consumo', \n",
    "         'tiene_crediagil', \n",
    "         'tiene_ctas_activas', \n",
    "         'tiene_ctas_embargadas', \n",
    "         'pension_fopep', \n",
    "         'tiene_cred_hipo_1', \n",
    "         'tiene_cred_hipo_2']"
   ]
  },
  {
   "cell_type": "code",
   "execution_count": 25,
   "metadata": {},
   "outputs": [],
   "source": [
    "for var in flags:\n",
    "    data_clean =  data_clean.withColumn(var, when(col(var) == \"X\", \"1\").otherwise(0))"
   ]
  },
  {
   "cell_type": "code",
   "execution_count": 26,
   "metadata": {},
   "outputs": [],
   "source": [
    "# Estas son varibles con respuesta S, N\n",
    "# ind_mora_vigente N, S, \\N\n",
    "# cartera_castigada N, S, \\N\n",
    "sn_vars = ['ind_mora_vigente', 'cartera_castigada']"
   ]
  },
  {
   "cell_type": "code",
   "execution_count": 27,
   "metadata": {},
   "outputs": [],
   "source": [
    "for var in sn_vars:\n",
    "    #print (flag)\n",
    "    #data = df.withColumn(flag, when(col(flag) == 'X', 1))\n",
    "    data_clean =  data_clean.withColumn(var, when(col(var) == \"S\", \"1\").otherwise(0))"
   ]
  },
  {
   "cell_type": "code",
   "execution_count": 28,
   "metadata": {},
   "outputs": [],
   "source": [
    "data_clean =  data_clean.withColumn(\"tenencia_tc\", when(col(\"tenencia_tc\") == \"SI\", \"1\").otherwise(0))"
   ]
  },
  {
   "cell_type": "code",
   "execution_count": 29,
   "metadata": {},
   "outputs": [],
   "source": [
    "var_drop = [\n",
    "    'genero',\n",
    "    'profesion',\n",
    "    'ult_actual',\n",
    "    'codigo_ciiu',\n",
    "    'ciudad_residencia',\n",
    "    'ciudad_laboral',\n",
    "    'departamento_laboral',\n",
    "    'convenio_lib']"
   ]
  },
  {
   "cell_type": "code",
   "execution_count": 30,
   "metadata": {},
   "outputs": [],
   "source": [
    "# Drop \n",
    "data_clean = data_clean.drop(*var_drop)"
   ]
  },
  {
   "cell_type": "code",
   "execution_count": 31,
   "metadata": {},
   "outputs": [],
   "source": [
    "# Estado civil\n",
    "data_clean = data_clean.withColumn(\"estado_civil\"\n",
    "                                   ,when(col(\"estado_civil\") == \"VIUDO\",4)\n",
    "                                   .when(col(\"estado_civil\") == \"SOLTERO\",1)\n",
    "                                   .when(col(\"estado_civil\") == \"NO INFORMA\",0)\n",
    "                                   .when(col(\"estado_civil\") == \"OTRO\",0)\n",
    "                                   .when(col(\"estado_civil\") == \"CASADO\",3)\n",
    "                                   .when(col(\"estado_civil\") == \"DIVORCIADO\",5)\n",
    "                                   .when(col(\"estado_civil\") == \"UNION LIBRE\",2)\n",
    "                                   .otherwise(0)\n",
    "                                  )"
   ]
  },
  {
   "cell_type": "code",
   "execution_count": 32,
   "metadata": {},
   "outputs": [],
   "source": [
    "# Nivel academico\n",
    "data_clean = data_clean.withColumn(\"nivel_academico\"\n",
    "                                   ,when(col(\"nivel_academico\") == \"SIN INFORMACION\",4)\n",
    "                                   .when(col(\"nivel_academico\") == \"BACHILLER\",1)\n",
    "                                   .when(col(\"nivel_academico\") == \"NO INFORMA\",0)\n",
    "                                   .when(col(\"nivel_academico\") == \"ESPECIALIZACION\",0)\n",
    "                                   .when(col(\"nivel_academico\") == \"NINGUNO\",3)\n",
    "                                   .when(col(\"nivel_academico\") == \"TECNOLOGO\",5)\n",
    "                                   .when(col(\"nivel_academico\") == \"UNIVERSITARIO\",2)\n",
    "                                   .when(col(\"nivel_academico\") == \"PRIMARIO\",2)\n",
    "                                   .otherwise(0)\n",
    "                                  )\n"
   ]
  },
  {
   "cell_type": "code",
   "execution_count": 33,
   "metadata": {},
   "outputs": [],
   "source": [
    "#Ocupación\n",
    "data_clean = data_clean.withColumn(\"ocupacion\"\n",
    "                                   ,when(col('ocupacion')=='Empleado','Empleado')\n",
    "                                   .when(col('ocupacion')=='Independiente','Independiente')\n",
    "                                   .when(col('ocupacion')=='Estudiante','Estudiante')\n",
    "                                   .when(col('ocupacion')=='Profesional Independiente','Independiente')\n",
    "                                   .when(col('ocupacion')=='Jubilado','Pensionado')\n",
    "                                   .when(col('ocupacion')=='Comerciante','Independiente')\n",
    "                                   .when(col('ocupacion')=='Socio Empleado - Socio','Empleado')\n",
    "                                   .when(col('ocupacion')=='Ama de Casa','Independiente')\n",
    "                                   .when(col('ocupacion')=='Otro','Indefinida')\n",
    "                                   .when(col('ocupacion')=='Rentista de Capital','Independiente')\n",
    "                                   .when(col('ocupacion')=='Pensionado','Pensionado')\n",
    "                                   .when(col('ocupacion')=='Desempleado sin Ingresos','Desempleado')\n",
    "                                   .when(col('ocupacion')=='Sin Ocupacion Asignada','Indefinida')\n",
    "                                   .when(col('ocupacion')=='Desempleado con Ingresos','Independiente')\n",
    "                                   .when(col('ocupacion')=='Ganadero','Independiente')\n",
    "                                   .when(col('ocupacion')=='Agricultor','Independiente')\n",
    "                                   .otherwise(\"Indefinida\")\n",
    "                                  )"
   ]
  },
  {
   "cell_type": "code",
   "execution_count": 34,
   "metadata": {},
   "outputs": [],
   "source": [
    "# Tipo de vivienda\n",
    "data_clean = data_clean.withColumn(\"tipo_vivienda\"\n",
    "                                   ,when(col(\"tipo_vivienda\") == \"ALQUILADA\",1)\n",
    "                                   .when(col(\"tipo_vivienda\") == \"NO INFORMA\",0)\n",
    "                                   .when(col(\"tipo_vivienda\") == \"PROPIA\",3)\n",
    "                                   .when(col(\"tipo_vivienda\") == \"FAMILIAR\",2)\n",
    "                                   .otherwise(0)\n",
    "                                  )"
   ]
  },
  {
   "cell_type": "code",
   "execution_count": 35,
   "metadata": {},
   "outputs": [],
   "source": [
    "# Rechazo Crédito\n",
    "data_clean = data_clean.withColumn('rechazo_credito',\n",
    "                                   when(col('rechazo_credito')=='RECHAZO BANCO',1)\n",
    "                                   .when(col('rechazo_credito')=='RECHAZO FACTORING',1)\n",
    "                                   .when(col('rechazo_credito')=='RECHAZO SUFI',1)\n",
    "                                   .when(col('rechazo_credito')=='RECHAZO BIZAGI',1)\n",
    "                                   .otherwise(0)\n",
    "                                  )"
   ]
  },
  {
   "cell_type": "code",
   "execution_count": 36,
   "metadata": {},
   "outputs": [],
   "source": [
    "#  Categoria de ingreso\n",
    "data_clean = data_clean.withColumn('cat_ingreso'\n",
    "                                   ,when(col('cat_ingreso') == \"NOM\",1)\n",
    "                                   .when(col('cat_ingreso') == \"PEN\",2)\n",
    "                                   .when(col('cat_ingreso') == \"NOM PEN\",3)\n",
    "                                   .otherwise(0)\n",
    "                                  )"
   ]
  },
  {
   "cell_type": "code",
   "execution_count": 37,
   "metadata": {},
   "outputs": [],
   "source": [
    "# rep_calif_cred\n",
    "data_clean = data_clean.withColumn('rep_calif_cred'\n",
    "                                   ,when(col('rep_calif_cred') == \"A\",1)\n",
    "                                   .when(col('rep_calif_cred') == \"B\",2)\n",
    "                                   .when(col('rep_calif_cred') == \"C\",3)\n",
    "                                   .when(col('rep_calif_cred') == \"D\",4)\n",
    "                                   .when(col('rep_calif_cred') == \"E\",5)\n",
    "                                   .when(col('rep_calif_cred') == \"F\",6)\n",
    "                                   .when(col('rep_calif_cred') == \"G\",7)\n",
    "                                   .when(col('rep_calif_cred') == \"H\",8)\n",
    "                                   .otherwise(0)\n",
    "                                  )"
   ]
  },
  {
   "cell_type": "code",
   "execution_count": 38,
   "metadata": {},
   "outputs": [],
   "source": [
    "# Departamento\n",
    "data_clean = data_clean.withColumn('departamento_residencia'\n",
    "                                   ,when(col('departamento_residencia')=='ANTIOQUIA                                         ', 'ANDINA')\n",
    "                                   .when(col('departamento_residencia')=='VALLE                                             ' , 'PACIFICO')\n",
    "                                   .when(col('departamento_residencia')=='RISARALDA                                         ', 'ANDINA')\n",
    "                                   .when(col('departamento_residencia')=='SANTANDER                                         ', 'ANDINA')\n",
    "                                   .when(col('departamento_residencia')=='BOGOTA D.C.                                       ', 'ANDINA')\n",
    "                                   .when(col('departamento_residencia')=='ESTADO EXTERIOR                                   ' , 'EXTERIOR')\n",
    "                                   .when(col('departamento_residencia')=='QUINDIO                                           ', 'ANDINA')\n",
    "                                   .when(col('departamento_residencia')=='BOLIVAR                                           ', 'CARIBE')\n",
    "                                   .when(col('departamento_residencia')=='CORDOBA                                           ', 'CARIBE')\n",
    "                                   .when(col('departamento_residencia')=='NORTE DE SANTANDER                                ', 'ANDINA')\n",
    "                                   .when(col('departamento_residencia')=='ATLANTICO                                         ', 'CARIBE')\n",
    "                                   .when(col('departamento_residencia')=='MAGDALENA                                         ' , 'CARIBE')\n",
    "                                   .when(col('departamento_residencia')=='CUNDINAMARCA                                      ', 'ANDINA')\n",
    "                                   .when(col('departamento_residencia')=='TOLIMA                                            ', 'ANDINA')\n",
    "                                   .when(col('departamento_residencia')=='SUCRE                                             ', 'CARIBE')\n",
    "                                   .when(col('departamento_residencia')=='CAUCA                                             ' , 'PACIFICO')\n",
    "                                   .when(col('departamento_residencia')=='META                                              ' , 'ORINOQUIA')\n",
    "                                   .when(col('departamento_residencia')=='CESAR                                             ' , 'CARIBE')\n",
    "                                   .when(col('departamento_residencia')=='NARINO                                            ' , 'PACIFICO')\n",
    "                                   .when(col('departamento_residencia')=='NI', 'NI')\n",
    "                                   .when(col('departamento_residencia')=='BOYACA                                            ', 'ANDINA')\n",
    "                                   .when(col('departamento_residencia')=='CAQUETA                                           ', 'AMAZONIA')\n",
    "                                   .when(col('departamento_residencia')=='CALDAS                                            ', 'ANDINA')\n",
    "                                   .when(col('departamento_residencia')=='HUILA                                             ', 'ANDINA')\n",
    "                                   .when(col('departamento_residencia')=='CASANARE                                          ', 'ORINOQUIA')\n",
    "                                   .when(col('departamento_residencia')=='SAN ANDRES Y PROVID                               ' , 'CARIBE')\n",
    "                                   .when(col('departamento_residencia')=='NI                                   ', 'NI')\n",
    "                                   .when(col('departamento_residencia')=='LA GUAJIRA                                        ', 'CARIBE')\n",
    "                                   .when(col('departamento_residencia')=='CHOCO                                             ', 'PACIFICO')\n",
    "                                   .when(col('departamento_residencia')=='ARAUCA                                            ', 'ORINOQUIA')\n",
    "                                   .when(col('departamento_residencia')=='PUTUMAYO                                          ', 'AMAZONIA')\n",
    "                                   .when(col('departamento_residencia')=='GUANIA                                            ', 'AMAZONIA')\n",
    "                                   .when(col('departamento_residencia')=='GUAVIARE                                          ', 'AMAZONIA')\n",
    "                                   .when(col('departamento_residencia')=='VAUPES                                            ', 'AMAZONIA')\n",
    "                                   .when(col('departamento_residencia')=='AMAZONAS                                          ', 'AMAZONIA')\n",
    "                                   .when(col('departamento_residencia')=='VICHADA                                           ', 'ORINOQUIA')\n",
    "                                   .when(col('departamento_residencia')=='MADRID                                            ', 'EXTERIOR')\n",
    "                                   .when(col('departamento_residencia')=='ESTADO DE LA FLORIDA                              ', 'EXTERIOR')\n",
    "                                  )\n"
   ]
  },
  {
   "cell_type": "code",
   "execution_count": 39,
   "metadata": {},
   "outputs": [],
   "source": [
    "data_dummy = data_clean"
   ]
  },
  {
   "cell_type": "code",
   "execution_count": 40,
   "metadata": {},
   "outputs": [],
   "source": [
    "# Ocupación\n",
    "data_dummy = (data_dummy\n",
    "              .withColumn(\"Empleado\",when(col(\"ocupacion\")==\"Empleado\",1).otherwise(0))\n",
    "              .withColumn(\"Independiente\",when(col(\"ocupacion\")==\"Independiente\",1).otherwise(0))\n",
    "              .withColumn(\"Estudiante\",when(col(\"ocupacion\")==\"Estudiante\",1).otherwise(0))\n",
    "              .withColumn(\"Pensionado\",when(col(\"ocupacion\")==\"Pensionado\",1).otherwise(0))\n",
    "              .withColumn(\"Indefinida\",when(col(\"ocupacion\")==\"Indefinida\",1).otherwise(0))\n",
    "              .withColumn(\"Desempleado\",when(col(\"ocupacion\")==\"Desempleado\",1).otherwise(0))\n",
    "              .drop(\"ocupacion\")\n",
    "             )"
   ]
  },
  {
   "cell_type": "code",
   "execution_count": 41,
   "metadata": {},
   "outputs": [],
   "source": [
    "# Departamento\n",
    "data_dummy = (data_dummy\n",
    "              .withColumn('ANDINA',when(col('departamento_residencia')==\"ANDINA\",1).otherwise(0))\n",
    "              .withColumn('PACIFICO',when(col('departamento_residencia')==\"PACIFICO\",1).otherwise(0))\n",
    "              .withColumn('EXTERIOR',when(col('departamento_residencia')==\"EXTERIOR\",1).otherwise(0))\n",
    "              .withColumn('CARIBE',when(col('departamento_residencia')==\"CARIBE\",1).otherwise(0))\n",
    "              .withColumn('ORINOQUIA',when(col('departamento_residencia')==\"ORINOQUIA\",1).otherwise(0))\n",
    "              .withColumn('NI',when(col('departamento_residencia')==\"NI\",1).otherwise(0))\n",
    "              .withColumn('AMAZONIA',when(col('departamento_residencia')==\"AMAZONIA\",1).otherwise(0))\n",
    "              .drop(\"departamento_residencia\")\n",
    "             )"
   ]
  },
  {
   "cell_type": "code",
   "execution_count": 42,
   "metadata": {},
   "outputs": [],
   "source": [
    "data_preprocessed = data_dummy"
   ]
  },
  {
   "cell_type": "code",
   "execution_count": 43,
   "metadata": {},
   "outputs": [
    {
     "data": {
      "text/plain": [
       "281666"
      ]
     },
     "execution_count": 43,
     "metadata": {},
     "output_type": "execute_result"
    }
   ],
   "source": [
    "data_preprocessed.count()"
   ]
  },
  {
   "cell_type": "code",
   "execution_count": 45,
   "metadata": {},
   "outputs": [],
   "source": [
    "# Save as parquet file\n",
    "data_preprocessed.write.parquet(\"output/preprocessing/preprocessing_data_test\")"
   ]
  }
 ],
 "metadata": {
  "kernelspec": {
   "display_name": "Python 3",
   "language": "python",
   "name": "python3"
  },
  "language_info": {
   "codemirror_mode": {
    "name": "ipython",
    "version": 3
   },
   "file_extension": ".py",
   "mimetype": "text/x-python",
   "name": "python",
   "nbconvert_exporter": "python",
   "pygments_lexer": "ipython3",
   "version": "3.8.3"
  }
 },
 "nbformat": 4,
 "nbformat_minor": 4
}
