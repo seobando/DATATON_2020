{
 "cells": [
  {
   "cell_type": "markdown",
   "metadata": {},
   "source": [
    "# TRAIN - LINEAR REGRESSION"
   ]
  },
  {
   "cell_type": "markdown",
   "metadata": {},
   "source": [
    "The objective of this notebook is to train a multiple regression model to apply it to the test data."
   ]
  },
  {
   "cell_type": "markdown",
   "metadata": {},
   "source": [
    "## SET UP"
   ]
  },
  {
   "cell_type": "code",
   "execution_count": 1,
   "metadata": {},
   "outputs": [
    {
     "name": "stdout",
     "output_type": "stream",
     "text": [
      "Requirement already satisfied: findspark in c:\\users\\sobando\\anaconda3\\lib\\site-packages (1.3.0)\n"
     ]
    }
   ],
   "source": [
    "!pip install findspark\n",
    "\n",
    "import findspark\n",
    "findspark.init()"
   ]
  },
  {
   "cell_type": "markdown",
   "metadata": {},
   "source": [
    "## LIBRARIES"
   ]
  },
  {
   "cell_type": "code",
   "execution_count": 2,
   "metadata": {},
   "outputs": [],
   "source": [
    "# Cargar Pyspark\n",
    "from pyspark.sql import SparkSession\n",
    "from pyspark import SparkContext\n",
    "from pyspark import SparkConf\n",
    "from pyspark.sql.functions import *\n",
    "\n",
    "spark = SparkSession.builder.appName(\"model\").master(\"local[*]\").getOrCreate()"
   ]
  },
  {
   "cell_type": "code",
   "execution_count": 3,
   "metadata": {},
   "outputs": [],
   "source": [
    "from pyspark.sql.functions import *\n",
    "from pyspark.sql import Window\n",
    "from pyspark.sql.types import *\n",
    "from pyspark.ml.feature import VectorAssembler\n",
    "from pyspark.ml.regression import LinearRegression \n",
    "from pyspark.mllib.regression import LabeledPoint\n",
    "from pyspark.mllib.util import MLUtils"
   ]
  },
  {
   "cell_type": "code",
   "execution_count": 4,
   "metadata": {},
   "outputs": [],
   "source": [
    "import pandas as pd\n",
    "import numpy as np\n",
    "import seaborn as sns\n",
    "import matplotlib.pyplot as plt\n",
    "import warnings\n",
    "import math\n",
    "import time\n",
    "\n",
    "warnings.filterwarnings('ignore')"
   ]
  },
  {
   "cell_type": "markdown",
   "metadata": {},
   "source": [
    "## LOAD DATA"
   ]
  },
  {
   "cell_type": "code",
   "execution_count": 1,
   "metadata": {},
   "outputs": [],
   "source": [
    "# Path definition\n",
    "path = \"output/preprocessing/preprocessing_data\""
   ]
  },
  {
   "cell_type": "code",
   "execution_count": 6,
   "metadata": {},
   "outputs": [],
   "source": [
    "# Read dataframe\n",
    "train = spark.read.parquet(path, header= True, inferSchema=True)"
   ]
  },
  {
   "cell_type": "code",
   "execution_count": 7,
   "metadata": {},
   "outputs": [],
   "source": [
    "# Cast binary variables\n",
    "train = (train\n",
    "         .withColumn(\"ind_mora_vigente\",col(\"ind_mora_vigente\").cast(\"integer\"))\n",
    "         .withColumn(\"cartera_castigada\",col(\"cartera_castigada\").cast(\"integer\"))\n",
    "         .withColumn(\"tenencia_tc\",col(\"tenencia_tc\").cast(\"integer\"))\n",
    "         .withColumn(\"tiene_consumo\",col(\"tiene_consumo\").cast(\"integer\"))\n",
    "         .withColumn(\"tiene_crediagil\",col(\"tiene_crediagil\").cast(\"integer\"))\n",
    "         .withColumn(\"tiene_ctas_activas\",col(\"tiene_ctas_activas\").cast(\"integer\"))\n",
    "         .withColumn(\"tiene_ctas_embargadas\",col(\"tiene_ctas_embargadas\").cast(\"integer\"))\n",
    "         .withColumn(\"tiene_cred_hipo_1\",col(\"tiene_cred_hipo_1\").cast(\"integer\"))\n",
    "         .withColumn(\"tiene_cred_hipo_2\",col(\"tiene_cred_hipo_2\").cast(\"integer\"))\n",
    "         .withColumn(\"pension_fopep\",col(\"pension_fopep\").cast(\"integer\"))\n",
    "        )"
   ]
  },
  {
   "cell_type": "code",
   "execution_count": 8,
   "metadata": {},
   "outputs": [
    {
     "data": {
      "text/plain": [
       "9670308"
      ]
     },
     "execution_count": 8,
     "metadata": {},
     "output_type": "execute_result"
    }
   ],
   "source": [
    "# Verify rows\n",
    "train.count()"
   ]
  },
  {
   "cell_type": "markdown",
   "metadata": {},
   "source": [
    "## FEATURE ENGINEER"
   ]
  },
  {
   "cell_type": "code",
   "execution_count": 9,
   "metadata": {},
   "outputs": [],
   "source": [
    "train = (train\n",
    "        .withColumn(\"gastos\"\n",
    "                    , col('cuota_cred_hipot') \n",
    "                    + col('cuota_de_vivienda') \n",
    "                    + col('cuota_de_consumo')\n",
    "                    + col('cuota_rotativos')\n",
    "                    + col('cuota_tarjeta_de_credito')\n",
    "                    + col('cuota_de_sector_solidario')\n",
    "                    + col('cuota_sector_real_comercio')\n",
    "                    + col('cuota_tc_mdo')\n",
    "                    + col('cuota_libranza_sf')\n",
    "                   )\n",
    "        .withColumn(\"ingresos\" \n",
    "                    ,col('ingreso_nompen')\n",
    "                    + col('ingreso_final')\n",
    "                    + col('ingreso_nomina')\n",
    "                    + col('ingreso_segurida_social')\n",
    "                   )\n",
    "       )"
   ]
  },
  {
   "cell_type": "code",
   "execution_count": 10,
   "metadata": {},
   "outputs": [],
   "source": [
    "# Clean input variables\n",
    "input_features = [\n",
    "    'ingreso_final',\n",
    "    'cuota_cred_hipot',\n",
    "    'gastos',\n",
    "    'ingresos',\n",
    "    'Independiente',\n",
    "    'EXTERIOR',\n",
    "    'edad',\n",
    "    'estado_civil',\n",
    "    'ctas_activas',\n",
    "    'tipo_vivienda',\n",
    "    'ingreso_segurida_social',\n",
    "    'tiene_cred_hipo_2',\n",
    "    'ind_mora_vigente',\n",
    "    'cuota_de_consumo',\n",
    "    'cant_moras_90_ult_12_meses',\n",
    "    'cant_moras_30_ult_12_meses',\n",
    "    'tiene_crediagil',\n",
    "    'cant_oblig_tot_sf',\n",
    "    'ANDINA',\n",
    "    'pension_fopep',\n",
    "    'pol_centr_ext',\n",
    "    'cant_cast_ult_12m_sr',\n",
    "    'cuota_de_sector_solidario',\n",
    "    'cuota_libranza_sf',\n",
    "    'saldo_no_rot_mdo',\n",
    "    'cuota_tc_mdo',\n",
    "    'saldo_prom3_tdc_mdo',\n",
    "    'cuota_tarjeta_de_credito',\n",
    "    'mediana_pen3',\n",
    "    'tenencia_tc',\n",
    "    'Pensionado',\n",
    "    'nivel_academico',\n",
    "    'Empleado',\n",
    "    'Estudiante',\n",
    "    'cat_ingreso'\n",
    "]"
   ]
  },
  {
   "cell_type": "markdown",
   "metadata": {},
   "source": [
    "## MODELING"
   ]
  },
  {
   "cell_type": "code",
   "execution_count": 11,
   "metadata": {},
   "outputs": [],
   "source": [
    "# Vectorize variables to define the features column\n",
    "feat_vector = VectorAssembler(inputCols=input_features, outputCol= \"features\")"
   ]
  },
  {
   "cell_type": "code",
   "execution_count": 12,
   "metadata": {},
   "outputs": [],
   "source": [
    "# Appply vectorization to train\n",
    "transTrain = feat_vector.transform(train)"
   ]
  },
  {
   "cell_type": "code",
   "execution_count": 13,
   "metadata": {},
   "outputs": [],
   "source": [
    "# select variables for the train model\n",
    "train_model = transTrain.select(\"id_cli\",\"periodo\",\"features\",\"gasto_familiar\")"
   ]
  },
  {
   "cell_type": "code",
   "execution_count": 14,
   "metadata": {},
   "outputs": [],
   "source": [
    "# Split\n",
    "splits = train_model.randomSplit([0.7, 0.3])\n",
    "train_df = splits[0]\n",
    "test_df = splits[1]"
   ]
  },
  {
   "cell_type": "code",
   "execution_count": 15,
   "metadata": {},
   "outputs": [],
   "source": [
    "# Apply statistical learning\n",
    "regression = LinearRegression(labelCol='gasto_familiar')\n",
    "regression = regression.fit(train_df)"
   ]
  },
  {
   "cell_type": "code",
   "execution_count": 16,
   "metadata": {},
   "outputs": [],
   "source": [
    "# Predict\n",
    "predictions = regression.transform(test_df)"
   ]
  },
  {
   "cell_type": "code",
   "execution_count": 17,
   "metadata": {},
   "outputs": [
    {
     "name": "stdout",
     "output_type": "stream",
     "text": [
      "+------+-------+--------------------+--------------+------------------+\n",
      "|id_cli|periodo|            features|gasto_familiar|        prediction|\n",
      "+------+-------+--------------------+--------------+------------------+\n",
      "|   192| 201908|(35,[0,3,4,6,7,8,...|      333581.0| 1056716.367480738|\n",
      "|   192| 201910|(35,[0,3,4,6,7,8,...|      803590.0| 1056716.367480738|\n",
      "|   192| 201911|(35,[0,3,4,6,7,8,...|           0.0| 1056716.367480738|\n",
      "|   213| 201911|(35,[0,2,3,6,7,8,...|      196736.0| 556577.9833860581|\n",
      "|   274| 202011|(35,[0,3,4,6,7,8,...|     1201628.0|  934212.336194071|\n",
      "|   332| 201907|(35,[0,1,2,3,6,8,...|     152067.95| 703019.8025187006|\n",
      "|   332| 201909|(35,[0,1,2,3,6,8,...|     152067.95| 703146.1537436687|\n",
      "|   400| 201905|(35,[0,2,3,6,7,8,...|      135138.0|419268.98690919403|\n",
      "|   400| 201910|(35,[0,2,3,6,7,9,...|      273541.0|438116.49097787787|\n",
      "|   400| 202003|(35,[0,3,6,7,8,9,...|     457000.98|  522401.459744308|\n",
      "|   400| 202007|(35,[0,2,3,6,7,8,...|      673909.0| 544999.7306580774|\n",
      "|   400| 202009|(35,[0,3,6,7,8,9,...|     302588.02| 566819.2601487285|\n",
      "|   400| 202011|(35,[0,3,6,7,8,9,...|     283340.98| 576754.5414588015|\n",
      "|   402| 201907|(35,[0,1,2,3,6,7,...|    1589625.54| 1456261.524292106|\n",
      "|   402| 201909|(35,[0,1,2,3,6,7,...|    1589625.54|1457240.4098041623|\n",
      "|   630| 201902|(35,[0,2,3,6,7,8,...|      524195.0|  755087.351797668|\n",
      "|   630| 201908|(35,[0,2,3,6,7,8,...|      353143.0| 739974.6836319609|\n",
      "|   630| 202010|(35,[0,2,3,6,7,8,...|     370046.17| 856562.6789921306|\n",
      "|   651| 201905|(35,[0,2,3,4,6,7,...|      505823.0|423622.02396753326|\n",
      "|   651| 201908|(35,[0,2,3,4,6,7,...|      536648.0|  586651.232558979|\n",
      "+------+-------+--------------------+--------------+------------------+\n",
      "only showing top 20 rows\n",
      "\n"
     ]
    }
   ],
   "source": [
    "# Show prediction\n",
    "predictions.select(\"id_cli\",\"periodo\",\"features\",\"gasto_familiar\",\"prediction\").show()"
   ]
  },
  {
   "cell_type": "code",
   "execution_count": 18,
   "metadata": {},
   "outputs": [
    {
     "data": {
      "text/plain": [
       "2899767"
      ]
     },
     "execution_count": 18,
     "metadata": {},
     "output_type": "execute_result"
    }
   ],
   "source": [
    "# Count rows\n",
    "predictions.count()"
   ]
  },
  {
   "cell_type": "markdown",
   "metadata": {},
   "source": [
    "## EVALUATION"
   ]
  },
  {
   "cell_type": "code",
   "execution_count": 19,
   "metadata": {},
   "outputs": [
    {
     "name": "stdout",
     "output_type": "stream",
     "text": [
      "+-------+-------------------+\n",
      "|summary|         difference|\n",
      "+-------+-------------------+\n",
      "|  count|            2720706|\n",
      "|   mean| 132.68873241530306|\n",
      "| stddev|   53124.6520251922|\n",
      "|    min| -8.411494796379241|\n",
      "|    max|4.667591396242523E7|\n",
      "+-------+-------------------+\n",
      "\n"
     ]
    }
   ],
   "source": [
    "# Show mean (MAPE)\n",
    "evaluation = predictions.withColumn(\"difference\",abs(col(\"gasto_familiar\")-col(\"prediction\"))/col(\"gasto_familiar\"))\n",
    "evaluation[[\"difference\"]].describe().show()"
   ]
  },
  {
   "cell_type": "code",
   "execution_count": 20,
   "metadata": {},
   "outputs": [
    {
     "name": "stdout",
     "output_type": "stream",
     "text": [
      "RMSE: 1310282.750686\n",
      "r2: 0.041740\n"
     ]
    }
   ],
   "source": [
    "# Show evaluation metrics\n",
    "regression_summary = regression.summary\n",
    "print(\"RMSE: %f\" % regression_summary.rootMeanSquaredError)\n",
    "print(\"r2: %f\" % regression_summary.r2)"
   ]
  },
  {
   "cell_type": "code",
   "execution_count": 21,
   "metadata": {},
   "outputs": [],
   "source": [
    "coefficients = regression.coefficients.values\n",
    "intercept = regression.intercept"
   ]
  },
  {
   "cell_type": "code",
   "execution_count": 22,
   "metadata": {},
   "outputs": [],
   "source": [
    "index_values = train.columns.remove(\"gasto_familiar\")"
   ]
  },
  {
   "cell_type": "code",
   "execution_count": 23,
   "metadata": {},
   "outputs": [],
   "source": [
    "df_equation = pd.DataFrame(coefficients,index=index_values,columns=[\"coefficients\"])"
   ]
  },
  {
   "cell_type": "code",
   "execution_count": 24,
   "metadata": {},
   "outputs": [],
   "source": [
    "#df_equation.to_csv(\"output/equations/equation_analysis.csv\")"
   ]
  },
  {
   "cell_type": "code",
   "execution_count": 25,
   "metadata": {},
   "outputs": [
    {
     "data": {
      "text/plain": [
       "327957.080005972"
      ]
     },
     "execution_count": 25,
     "metadata": {},
     "output_type": "execute_result"
    }
   ],
   "source": [
    "intercept"
   ]
  },
  {
   "cell_type": "code",
   "execution_count": 26,
   "metadata": {},
   "outputs": [],
   "source": [
    "# Check mape levels\n",
    "revision = (evaluation.withColumn(\"categoria\",\n",
    "                                   when(col(\"difference\")>10,10)\n",
    "                                   .when(col(\"difference\")>9,9)\n",
    "                                   .when(col(\"difference\")>8,8)\n",
    "                                   .when(col(\"difference\")>7,7)\n",
    "                                   .when(col(\"difference\")>6,6)\n",
    "                                   .when(col(\"difference\")>5,5)\n",
    "                                   .when(col(\"difference\")>4,4)\n",
    "                                   .when(col(\"difference\")>3,3)\n",
    "                                   .when(col(\"difference\")>2,2)\n",
    "                                   .when(col(\"difference\")>1,1)\n",
    "                                   .otherwise(0)))"
   ]
  },
  {
   "cell_type": "code",
   "execution_count": 27,
   "metadata": {},
   "outputs": [],
   "source": [
    "# get total of prediction row\n",
    "rows = revision.count()"
   ]
  },
  {
   "cell_type": "code",
   "execution_count": 28,
   "metadata": {},
   "outputs": [],
   "source": [
    "# Estimate frecuency and percentage per category\n",
    "participation = revision.groupby(\"categoria\").count()\n",
    "participation = participation.withColumn(\"%\",round(col(\"count\")/rows,2))"
   ]
  },
  {
   "cell_type": "code",
   "execution_count": 29,
   "metadata": {},
   "outputs": [
    {
     "name": "stdout",
     "output_type": "stream",
     "text": [
      "+---------+-------+----+\n",
      "|categoria|  count|   %|\n",
      "+---------+-------+----+\n",
      "|        6|  35758|0.01|\n",
      "|        7|  26982|0.01|\n",
      "|        8|  21309|0.01|\n",
      "|        9|  16705|0.01|\n",
      "|        4|  72058|0.02|\n",
      "|        5|  48991|0.02|\n",
      "|        3| 116226|0.04|\n",
      "|       10| 132117|0.05|\n",
      "|        2| 198261|0.07|\n",
      "|        1| 372289|0.13|\n",
      "|        0|1859071|0.64|\n",
      "+---------+-------+----+\n",
      "\n"
     ]
    }
   ],
   "source": [
    "# Show results\n",
    "participation.orderBy(\"%\").show()"
   ]
  },
  {
   "cell_type": "markdown",
   "metadata": {},
   "source": [
    "## IMPLEMENTATION"
   ]
  },
  {
   "cell_type": "code",
   "execution_count": 30,
   "metadata": {},
   "outputs": [
    {
     "data": {
      "text/plain": [
       "281666"
      ]
     },
     "execution_count": 30,
     "metadata": {},
     "output_type": "execute_result"
    }
   ],
   "source": [
    "# Set testing path\n",
    "path = \"output/preprocessing/preprocessing_data_test\"\n",
    "# Read dataframe\n",
    "test = spark.read.parquet(path, header= True, inferSchema=True)\n",
    "# Verify rows\n",
    "test.count()"
   ]
  },
  {
   "cell_type": "code",
   "execution_count": 31,
   "metadata": {},
   "outputs": [],
   "source": [
    "# Cast binary variables\n",
    "test = (test\n",
    "         .withColumn(\"ind_mora_vigente\",col(\"ind_mora_vigente\").cast(\"integer\"))\n",
    "         .withColumn(\"cartera_castigada\",col(\"cartera_castigada\").cast(\"integer\"))\n",
    "         .withColumn(\"tenencia_tc\",col(\"tenencia_tc\").cast(\"integer\"))\n",
    "         .withColumn(\"tiene_consumo\",col(\"tiene_consumo\").cast(\"integer\"))\n",
    "         .withColumn(\"tiene_crediagil\",col(\"tiene_crediagil\").cast(\"integer\"))\n",
    "         .withColumn(\"tiene_ctas_activas\",col(\"tiene_ctas_activas\").cast(\"integer\"))\n",
    "         .withColumn(\"tiene_ctas_embargadas\",col(\"tiene_ctas_embargadas\").cast(\"integer\"))\n",
    "         .withColumn(\"tiene_cred_hipo_1\",col(\"tiene_cred_hipo_1\").cast(\"integer\"))\n",
    "         .withColumn(\"tiene_cred_hipo_2\",col(\"tiene_cred_hipo_2\").cast(\"integer\"))\n",
    "         .withColumn(\"pension_fopep\",col(\"pension_fopep\").cast(\"integer\"))\n",
    "        )"
   ]
  },
  {
   "cell_type": "code",
   "execution_count": 32,
   "metadata": {},
   "outputs": [],
   "source": [
    "test = (test\n",
    "        .withColumn(\"gastos\"\n",
    "                    , col('cuota_cred_hipot') \n",
    "                    + col('cuota_de_vivienda') \n",
    "                    + col('cuota_de_consumo')\n",
    "                    + col('cuota_rotativos')\n",
    "                    + col('cuota_tarjeta_de_credito')\n",
    "                    + col('cuota_de_sector_solidario')\n",
    "                    + col('cuota_sector_real_comercio')\n",
    "                    + col('cuota_tc_mdo')\n",
    "                    + col('cuota_libranza_sf')\n",
    "                   )\n",
    "        .withColumn(\"ingresos\" \n",
    "                    ,col('ingreso_nompen')\n",
    "                    + col('ingreso_final')\n",
    "                    + col('ingreso_nomina')\n",
    "                    + col('ingreso_segurida_social')\n",
    "                   )\n",
    "       )"
   ]
  },
  {
   "cell_type": "code",
   "execution_count": 33,
   "metadata": {},
   "outputs": [],
   "source": [
    "# Appply vectorization to test\n",
    "transTest = feat_vector.transform(test)"
   ]
  },
  {
   "cell_type": "code",
   "execution_count": 34,
   "metadata": {},
   "outputs": [],
   "source": [
    "# select variables for the test model\n",
    "test_model = transTest.select(\"id_cli\",\"periodo\",\"features\")"
   ]
  },
  {
   "cell_type": "code",
   "execution_count": 35,
   "metadata": {},
   "outputs": [],
   "source": [
    "# Apply statistical learning\n",
    "regression = LinearRegression(labelCol='gasto_familiar',maxIter=10,regParam=0.3, elasticNetParam=0.8)\n",
    "regression = regression.fit(train_model)"
   ]
  },
  {
   "cell_type": "code",
   "execution_count": 36,
   "metadata": {},
   "outputs": [
    {
     "name": "stdout",
     "output_type": "stream",
     "text": [
      "+-------+-------+--------------------+\n",
      "| id_cli|periodo|            features|\n",
      "+-------+-------+--------------------+\n",
      "|1165927| 201908|(35,[0,1,2,3,4,6,...|\n",
      "|1172919| 201908|(35,[0,2,3,6,7,8,...|\n",
      "|1538512| 201909|(35,[0,1,2,3,6,7,...|\n",
      "|3371270| 202004|(35,[0,2,3,6,7,8,...|\n",
      "|2784853| 202003|(35,[0,2,3,6,7,8,...|\n",
      "+-------+-------+--------------------+\n",
      "only showing top 5 rows\n",
      "\n"
     ]
    }
   ],
   "source": [
    "test_model.show(5)"
   ]
  },
  {
   "cell_type": "code",
   "execution_count": 37,
   "metadata": {},
   "outputs": [],
   "source": [
    "# Predict\n",
    "predictionsImpl = regression.transform(test_model)"
   ]
  },
  {
   "cell_type": "code",
   "execution_count": 38,
   "metadata": {},
   "outputs": [
    {
     "data": {
      "text/plain": [
       "281666"
      ]
     },
     "execution_count": 38,
     "metadata": {},
     "output_type": "execute_result"
    }
   ],
   "source": [
    "predictionsImpl.count()"
   ]
  },
  {
   "cell_type": "code",
   "execution_count": 39,
   "metadata": {},
   "outputs": [
    {
     "name": "stdout",
     "output_type": "stream",
     "text": [
      "+--------------+------------------+\n",
      "|   id_registro|    gasto_familiar|\n",
      "+--------------+------------------+\n",
      "|1165927#201908| 6655819.418661765|\n",
      "|1172919#201908| 948302.5570941041|\n",
      "|1538512#201909| 585794.6239035076|\n",
      "|3371270#202004|451142.66094330663|\n",
      "|2784853#202003| 703600.4682528283|\n",
      "|2219310#202001|424675.23457814334|\n",
      "|2220638#202001|  780116.984847947|\n",
      "|1568926#201909| 576971.8169634055|\n",
      "|1573039#201909| 716146.3453313763|\n",
      "|2430420#202002| 2332585.678762756|\n",
      "|1455662#201909| 827507.7547779795|\n",
      "|1461386#201909| 1415758.370124515|\n",
      "|1463134#201909|1155552.4174266548|\n",
      "|1477680#201909| 606432.0771466385|\n",
      "|1361632#201909| 1602208.591673243|\n",
      "|1362813#201909| 641402.3415134074|\n",
      "|1379397#201909|1343564.2055354752|\n",
      "| 834901#201905| 546603.3825196422|\n",
      "| 839363#201905|1133867.9198002308|\n",
      "| 842749#201905|2490104.7897326313|\n",
      "+--------------+------------------+\n",
      "only showing top 20 rows\n",
      "\n"
     ]
    }
   ],
   "source": [
    "# Show prediction\n",
    "df_final = predictionsImpl.select(concat(str(\"id_cli\"),lit('#'),str(\"periodo\")).alias(\"id_registro\"),col(\"prediction\").alias(\"gasto_familiar\"))\n",
    "df_final.show()"
   ]
  },
  {
   "cell_type": "code",
   "execution_count": null,
   "metadata": {},
   "outputs": [],
   "source": [
    "ts = time.strftime('%Y%m%d%H%M%S')\n",
    "path = \"output/implementations/model_LR_\" + str(ts) + \".csv\""
   ]
  },
  {
   "cell_type": "code",
   "execution_count": 40,
   "metadata": {},
   "outputs": [],
   "source": [
    "df_final.toPandas().to_csv(path, index=False)"
   ]
  },
  {
   "cell_type": "markdown",
   "metadata": {},
   "source": [
    "## ANALYSIS"
   ]
  },
  {
   "cell_type": "code",
   "execution_count": 41,
   "metadata": {},
   "outputs": [],
   "source": [
    "coefficients = regression.coefficients.values\n",
    "intercept = regression.intercept"
   ]
  },
  {
   "cell_type": "code",
   "execution_count": 42,
   "metadata": {},
   "outputs": [],
   "source": [
    "df_equation = pd.DataFrame(coefficients,index=index_values,columns=[\"coefficients\"])"
   ]
  },
  {
   "cell_type": "code",
   "execution_count": 43,
   "metadata": {},
   "outputs": [],
   "source": [
    "#df_equation.to_csv(\"output/equations/equation_implementation.csv\")"
   ]
  },
  {
   "cell_type": "code",
   "execution_count": 44,
   "metadata": {},
   "outputs": [
    {
     "data": {
      "text/plain": [
       "339138.22780574876"
      ]
     },
     "execution_count": 44,
     "metadata": {},
     "output_type": "execute_result"
    }
   ],
   "source": [
    "intercept"
   ]
  }
 ],
 "metadata": {
  "kernelspec": {
   "display_name": "Python 3",
   "language": "python",
   "name": "python3"
  },
  "language_info": {
   "codemirror_mode": {
    "name": "ipython",
    "version": 3
   },
   "file_extension": ".py",
   "mimetype": "text/x-python",
   "name": "python",
   "nbconvert_exporter": "python",
   "pygments_lexer": "ipython3",
   "version": "3.8.3"
  }
 },
 "nbformat": 4,
 "nbformat_minor": 4
}
