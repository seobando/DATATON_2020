{
 "cells": [
  {
   "cell_type": "markdown",
   "metadata": {},
   "source": [
    "# TRAINING - RANDOM FOREST"
   ]
  },
  {
   "cell_type": "markdown",
   "metadata": {},
   "source": [
    "The objective of this notebook is to train a Random Forest model to apply it to the test data."
   ]
  },
  {
   "cell_type": "markdown",
   "metadata": {},
   "source": [
    "## SET UP"
   ]
  },
  {
   "cell_type": "code",
   "execution_count": 32,
   "metadata": {},
   "outputs": [
    {
     "name": "stdout",
     "output_type": "stream",
     "text": [
      "Requirement already satisfied: findspark in c:\\users\\sobando\\anaconda3\\lib\\site-packages (1.3.0)\n"
     ]
    }
   ],
   "source": [
    "!pip install findspark\n",
    "\n",
    "import findspark\n",
    "findspark.init()"
   ]
  },
  {
   "cell_type": "markdown",
   "metadata": {},
   "source": [
    "## LIBRARIES"
   ]
  },
  {
   "cell_type": "code",
   "execution_count": 33,
   "metadata": {},
   "outputs": [],
   "source": [
    "# Cargar Pyspark\n",
    "from pyspark.sql import SparkSession\n",
    "from pyspark import SparkContext\n",
    "from pyspark import SparkConf\n",
    "from pyspark.sql.functions import *\n",
    "\n",
    "spark = SparkSession.builder.appName(\"model\").master(\"local[*]\").getOrCreate()"
   ]
  },
  {
   "cell_type": "code",
   "execution_count": 34,
   "metadata": {},
   "outputs": [],
   "source": [
    "from pyspark.sql.functions import *\n",
    "from pyspark.sql import Window\n",
    "from pyspark.sql.types import *\n",
    "from pyspark.ml.feature import VectorAssembler\n",
    "from pyspark.ml import Pipeline\n",
    "from pyspark.ml.regression import RandomForestRegressor\n",
    "from pyspark.ml.feature import VectorIndexer\n",
    "from pyspark.ml.evaluation import RegressionEvaluator"
   ]
  },
  {
   "cell_type": "code",
   "execution_count": 35,
   "metadata": {},
   "outputs": [],
   "source": [
    "import time\n",
    "import pandas as pd\n",
    "import numpy as np\n",
    "import seaborn as sns\n",
    "import matplotlib.pyplot as plt\n",
    "import warnings\n",
    "import math\n",
    "import time\n",
    "\n",
    "warnings.filterwarnings('ignore')"
   ]
  },
  {
   "cell_type": "markdown",
   "metadata": {},
   "source": [
    "## LOAD DATA"
   ]
  },
  {
   "cell_type": "code",
   "execution_count": 36,
   "metadata": {},
   "outputs": [],
   "source": [
    "# Path definition\n",
    "path = \"output/preprocessing/preprocessing_data\""
   ]
  },
  {
   "cell_type": "code",
   "execution_count": 37,
   "metadata": {},
   "outputs": [],
   "source": [
    "# Read dataframe\n",
    "train = spark.read.parquet(path, header= True, inferSchema=True)"
   ]
  },
  {
   "cell_type": "code",
   "execution_count": 38,
   "metadata": {},
   "outputs": [
    {
     "data": {
      "text/plain": [
       "9670308"
      ]
     },
     "execution_count": 38,
     "metadata": {},
     "output_type": "execute_result"
    }
   ],
   "source": [
    "# Verify rows\n",
    "train.count()"
   ]
  },
  {
   "cell_type": "code",
   "execution_count": 39,
   "metadata": {},
   "outputs": [],
   "source": [
    "# Cast binary variables\n",
    "train = (train\n",
    "         .withColumn(\"ind_mora_vigente\",col(\"ind_mora_vigente\").cast(\"integer\"))\n",
    "         .withColumn(\"cartera_castigada\",col(\"cartera_castigada\").cast(\"integer\"))\n",
    "         .withColumn(\"tenencia_tc\",col(\"tenencia_tc\").cast(\"integer\"))\n",
    "         .withColumn(\"tiene_consumo\",col(\"tiene_consumo\").cast(\"integer\"))\n",
    "         .withColumn(\"tiene_crediagil\",col(\"tiene_crediagil\").cast(\"integer\"))\n",
    "         .withColumn(\"tiene_ctas_activas\",col(\"tiene_ctas_activas\").cast(\"integer\"))\n",
    "         .withColumn(\"tiene_ctas_embargadas\",col(\"tiene_ctas_embargadas\").cast(\"integer\"))\n",
    "         .withColumn(\"tiene_cred_hipo_1\",col(\"tiene_cred_hipo_1\").cast(\"integer\"))\n",
    "         .withColumn(\"tiene_cred_hipo_2\",col(\"tiene_cred_hipo_2\").cast(\"integer\"))\n",
    "         .withColumn(\"pension_fopep\",col(\"pension_fopep\").cast(\"integer\"))\n",
    "        )"
   ]
  },
  {
   "cell_type": "code",
   "execution_count": 41,
   "metadata": {},
   "outputs": [
    {
     "data": {
      "text/plain": [
       "281666"
      ]
     },
     "execution_count": 41,
     "metadata": {},
     "output_type": "execute_result"
    }
   ],
   "source": [
    "# Set testing path\n",
    "path = \"output/preprocessing/preprocessing_data_test\"\n",
    "# Read dataframe\n",
    "test = spark.read.parquet(path, header= True, inferSchema=True)\n",
    "# Verify rows\n",
    "test.count()"
   ]
  },
  {
   "cell_type": "code",
   "execution_count": 42,
   "metadata": {},
   "outputs": [],
   "source": [
    "test = (test\n",
    "         .withColumn(\"ind_mora_vigente\",col(\"ind_mora_vigente\").cast(\"integer\"))\n",
    "         .withColumn(\"cartera_castigada\",col(\"cartera_castigada\").cast(\"integer\"))\n",
    "         .withColumn(\"tenencia_tc\",col(\"tenencia_tc\").cast(\"integer\"))\n",
    "         .withColumn(\"tiene_consumo\",col(\"tiene_consumo\").cast(\"integer\"))\n",
    "         .withColumn(\"tiene_crediagil\",col(\"tiene_crediagil\").cast(\"integer\"))\n",
    "         .withColumn(\"tiene_ctas_activas\",col(\"tiene_ctas_activas\").cast(\"integer\"))\n",
    "         .withColumn(\"tiene_ctas_embargadas\",col(\"tiene_ctas_embargadas\").cast(\"integer\"))\n",
    "         .withColumn(\"tiene_cred_hipo_1\",col(\"tiene_cred_hipo_1\").cast(\"integer\"))\n",
    "         .withColumn(\"tiene_cred_hipo_2\",col(\"tiene_cred_hipo_2\").cast(\"integer\"))\n",
    "         .withColumn(\"pension_fopep\",col(\"pension_fopep\").cast(\"integer\"))\n",
    "        )"
   ]
  },
  {
   "cell_type": "markdown",
   "metadata": {},
   "source": [
    "## FEATURE ENGINEER"
   ]
  },
  {
   "cell_type": "code",
   "execution_count": 43,
   "metadata": {},
   "outputs": [],
   "source": [
    "train = (train\n",
    "        .withColumn(\"gastos\"\n",
    "                    , col('cuota_cred_hipot') \n",
    "                    + col('cuota_de_vivienda') \n",
    "                    + col('cuota_de_consumo')\n",
    "                    + col('cuota_rotativos')\n",
    "                    + col('cuota_tarjeta_de_credito')\n",
    "                    + col('cuota_de_sector_solidario')\n",
    "                    + col('cuota_sector_real_comercio')\n",
    "                    + col('cuota_tc_mdo')\n",
    "                    + col('cuota_libranza_sf')\n",
    "                   )\n",
    "        .withColumn(\"ingresos\" \n",
    "                    ,col('ingreso_nompen')\n",
    "                    + col('ingreso_final')\n",
    "                    + col('ingreso_nomina')\n",
    "                    + col('ingreso_segurida_social')\n",
    "                   )\n",
    "       )"
   ]
  },
  {
   "cell_type": "code",
   "execution_count": 44,
   "metadata": {},
   "outputs": [],
   "source": [
    "test = (test\n",
    "        .withColumn(\"gastos\"\n",
    "                    , col('cuota_cred_hipot') \n",
    "                    + col('cuota_de_vivienda') \n",
    "                    + col('cuota_de_consumo')\n",
    "                    + col('cuota_rotativos')\n",
    "                    + col('cuota_tarjeta_de_credito')\n",
    "                    + col('cuota_de_sector_solidario')\n",
    "                    + col('cuota_sector_real_comercio')\n",
    "                    + col('cuota_tc_mdo')\n",
    "                    + col('cuota_libranza_sf')\n",
    "                   )\n",
    "        .withColumn(\"ingresos\" \n",
    "                    ,col('ingreso_nompen')\n",
    "                    + col('ingreso_final')\n",
    "                    + col('ingreso_nomina')\n",
    "                    + col('ingreso_segurida_social')\n",
    "                   )\n",
    "       )"
   ]
  },
  {
   "cell_type": "code",
   "execution_count": 45,
   "metadata": {},
   "outputs": [],
   "source": [
    "# Clean input variables\n",
    "input_features = [\n",
    "    'ingreso_final',\n",
    "    'cuota_cred_hipot',\n",
    "    'gastos',\n",
    "    'ingresos',\n",
    "    'Independiente',\n",
    "    'EXTERIOR',\n",
    "    'edad',\n",
    "    'estado_civil',\n",
    "    'ctas_activas',\n",
    "    'tipo_vivienda',\n",
    "    'ingreso_segurida_social',\n",
    "    'tiene_cred_hipo_2',\n",
    "    'ind_mora_vigente',\n",
    "    'cuota_de_consumo',\n",
    "    'cant_moras_90_ult_12_meses',\n",
    "    'cant_moras_30_ult_12_meses',\n",
    "    'tiene_crediagil',\n",
    "    'cant_oblig_tot_sf',\n",
    "    'ANDINA',\n",
    "    'pension_fopep',\n",
    "    'pol_centr_ext',\n",
    "    'cant_cast_ult_12m_sr',\n",
    "    'cuota_de_sector_solidario',\n",
    "    'cuota_libranza_sf',\n",
    "    'saldo_no_rot_mdo',\n",
    "    'cuota_tc_mdo',\n",
    "    'saldo_prom3_tdc_mdo',\n",
    "    'cuota_tarjeta_de_credito',\n",
    "    'mediana_pen3',\n",
    "    'tenencia_tc',\n",
    "    'Pensionado',\n",
    "    'nivel_academico',\n",
    "    'Empleado',\n",
    "    'Estudiante',\n",
    "    'cat_ingreso'\n",
    "]"
   ]
  },
  {
   "cell_type": "markdown",
   "metadata": {},
   "source": [
    "## MODELING"
   ]
  },
  {
   "cell_type": "code",
   "execution_count": 46,
   "metadata": {},
   "outputs": [],
   "source": [
    "# Vectorize variables to define the features column\n",
    "feat_vector = VectorAssembler(inputCols=input_features, outputCol= \"features\")"
   ]
  },
  {
   "cell_type": "code",
   "execution_count": 47,
   "metadata": {},
   "outputs": [],
   "source": [
    "# Appply vectorization to train\n",
    "transTrain = feat_vector.transform(train)"
   ]
  },
  {
   "cell_type": "code",
   "execution_count": 48,
   "metadata": {},
   "outputs": [],
   "source": [
    "# select variables for the train model\n",
    "train_model = transTrain.select(\"id_cli\",\"periodo\",\"features\",\"gasto_familiar\")"
   ]
  },
  {
   "cell_type": "code",
   "execution_count": 49,
   "metadata": {},
   "outputs": [],
   "source": [
    "# Appply vectorization to test\n",
    "transTest = feat_vector.transform(test)"
   ]
  },
  {
   "cell_type": "code",
   "execution_count": 50,
   "metadata": {},
   "outputs": [],
   "source": [
    "# select variables for the test model\n",
    "test_model = transTest.select(\"id_cli\",\"periodo\",\"features\")"
   ]
  },
  {
   "cell_type": "code",
   "execution_count": 51,
   "metadata": {},
   "outputs": [
    {
     "name": "stdout",
     "output_type": "stream",
     "text": [
      "+-------+-------+--------------------+\n",
      "| id_cli|periodo|            features|\n",
      "+-------+-------+--------------------+\n",
      "|1165927| 201908|(35,[0,1,2,3,4,6,...|\n",
      "|1172919| 201908|(35,[0,2,3,6,7,8,...|\n",
      "|1538512| 201909|(35,[0,1,2,3,6,7,...|\n",
      "|3371270| 202004|(35,[0,2,3,6,7,8,...|\n",
      "|2784853| 202003|(35,[0,2,3,6,7,8,...|\n",
      "+-------+-------+--------------------+\n",
      "only showing top 5 rows\n",
      "\n"
     ]
    }
   ],
   "source": [
    "test_model.show(5)"
   ]
  },
  {
   "cell_type": "code",
   "execution_count": 52,
   "metadata": {},
   "outputs": [],
   "source": [
    "# Homologate target variable to label\n",
    "trainingData = train_model.withColumnRenamed(\"gasto_familiar\",\"label\")"
   ]
  },
  {
   "cell_type": "code",
   "execution_count": 53,
   "metadata": {},
   "outputs": [],
   "source": [
    "# Homologate target variable to label\n",
    "testData = test_model.withColumnRenamed(\"gasto_familiar\",\"label\")"
   ]
  },
  {
   "cell_type": "code",
   "execution_count": 54,
   "metadata": {},
   "outputs": [],
   "source": [
    "# https://spark.apache.org/docs/latest/ml-classification-regression.html#random-forest-regression\n",
    "# Automatically identify categorical features, and index them.\n",
    "# Set maxCategories so features with > 4 distinct values are treated as continuous.\n",
    "featureIndexer =\\\n",
    "    VectorIndexer(inputCol=\"features\", outputCol=\"indexedFeatures\", maxCategories=4).fit(trainingData)"
   ]
  },
  {
   "cell_type": "code",
   "execution_count": 55,
   "metadata": {},
   "outputs": [],
   "source": [
    "# Train a RandomForest model.\n",
    "rf = RandomForestRegressor(featuresCol=\"indexedFeatures\")"
   ]
  },
  {
   "cell_type": "code",
   "execution_count": 56,
   "metadata": {},
   "outputs": [],
   "source": [
    "# Chain indexer and forest in a Pipeline\n",
    "pipeline = Pipeline(stages=[featureIndexer, rf])"
   ]
  },
  {
   "cell_type": "code",
   "execution_count": 57,
   "metadata": {},
   "outputs": [],
   "source": [
    "# Train model.  This also runs the indexer.\n",
    "model = pipeline.fit(trainingData)"
   ]
  },
  {
   "cell_type": "code",
   "execution_count": 58,
   "metadata": {},
   "outputs": [],
   "source": [
    "# Make predictions.\n",
    "predictions = model.transform(testData)"
   ]
  },
  {
   "cell_type": "code",
   "execution_count": 59,
   "metadata": {},
   "outputs": [],
   "source": [
    "# Select example rows to display.\n",
    "predictions = predictions.withColumnRenamed(\"label\",\"gasto_familiar\")"
   ]
  },
  {
   "cell_type": "code",
   "execution_count": 60,
   "metadata": {},
   "outputs": [
    {
     "data": {
      "text/plain": [
       "281666"
      ]
     },
     "execution_count": 60,
     "metadata": {},
     "output_type": "execute_result"
    }
   ],
   "source": [
    "predictions.count()"
   ]
  },
  {
   "cell_type": "code",
   "execution_count": 61,
   "metadata": {},
   "outputs": [
    {
     "name": "stdout",
     "output_type": "stream",
     "text": [
      "+--------------+------------------+\n",
      "|   id_registro|    gasto_familiar|\n",
      "+--------------+------------------+\n",
      "|1165927#201908|2059832.5359667938|\n",
      "|1172919#201908|1001361.6224041565|\n",
      "|1538512#201909| 589659.1832191929|\n",
      "|3371270#202004| 575940.4571666874|\n",
      "|2784853#202003| 699491.6204102885|\n",
      "|2219310#202001| 554293.8887390872|\n",
      "|2220638#202001|  728263.084622402|\n",
      "|1568926#201909| 664262.6429371256|\n",
      "|1573039#201909| 794636.4739709541|\n",
      "|2430420#202002| 986137.3669881342|\n",
      "|1455662#201909|  899511.938925623|\n",
      "|1461386#201909|1161394.0904536599|\n",
      "|1463134#201909|1592455.1125530212|\n",
      "|1477680#201909| 580233.6830473272|\n",
      "|1361632#201909| 1771518.104507753|\n",
      "|1362813#201909| 680326.7691991692|\n",
      "|1379397#201909|1265892.1155196384|\n",
      "| 834901#201905| 624556.8201242986|\n",
      "| 839363#201905|1201493.6403914555|\n",
      "| 842749#201905|2271207.6035069595|\n",
      "+--------------+------------------+\n",
      "only showing top 20 rows\n",
      "\n"
     ]
    }
   ],
   "source": [
    "# Show prediction\n",
    "df_final = predictions.select(concat(str(\"id_cli\"),lit('#'),str(\"periodo\")).alias(\"id_registro\"),col(\"prediction\").alias(\"gasto_familiar\"))\n",
    "df_final.show()"
   ]
  },
  {
   "cell_type": "code",
   "execution_count": 62,
   "metadata": {},
   "outputs": [],
   "source": [
    "# Time mark\n",
    "ts = time.strftime('%Y%m%d%H%M%S')\n",
    "path = \"output/implementations/model_RF_\" + str(ts) + \".csv\""
   ]
  },
  {
   "cell_type": "code",
   "execution_count": 63,
   "metadata": {},
   "outputs": [],
   "source": [
    "# Save\n",
    "df_final.toPandas().to_csv(path, index=False)"
   ]
  }
 ],
 "metadata": {
  "kernelspec": {
   "display_name": "Python 3",
   "language": "python",
   "name": "python3"
  },
  "language_info": {
   "codemirror_mode": {
    "name": "ipython",
    "version": 3
   },
   "file_extension": ".py",
   "mimetype": "text/x-python",
   "name": "python",
   "nbconvert_exporter": "python",
   "pygments_lexer": "ipython3",
   "version": "3.8.3"
  }
 },
 "nbformat": 4,
 "nbformat_minor": 4
}
