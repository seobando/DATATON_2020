{
 "cells": [
  {
   "cell_type": "markdown",
   "metadata": {},
   "source": [
    "# ENTRENAMIENTO - GRADIENT BOOSTING TREES"
   ]
  },
  {
   "cell_type": "markdown",
   "metadata": {},
   "source": [
    "El objetivo del presente notebook consiste en entrenar un modelo de Gradient Boosting Trees para aplicarlo a los datos de prueba."
   ]
  },
  {
   "cell_type": "markdown",
   "metadata": {},
   "source": [
    "## SET UP"
   ]
  },
  {
   "cell_type": "code",
   "execution_count": 1,
   "metadata": {},
   "outputs": [
    {
     "name": "stdout",
     "output_type": "stream",
     "text": [
      "Requirement already satisfied: findspark in c:\\users\\sobando\\anaconda3\\lib\\site-packages (1.3.0)\n"
     ]
    }
   ],
   "source": [
    "!pip install findspark\n",
    "\n",
    "import findspark\n",
    "findspark.init()"
   ]
  },
  {
   "cell_type": "markdown",
   "metadata": {},
   "source": [
    "## LIBRERIAS"
   ]
  },
  {
   "cell_type": "code",
   "execution_count": 2,
   "metadata": {},
   "outputs": [],
   "source": [
    "# Cargar Pyspark\n",
    "from pyspark.sql import SparkSession\n",
    "from pyspark import SparkContext\n",
    "from pyspark import SparkConf\n",
    "from pyspark.sql.functions import *\n",
    "\n",
    "spark = SparkSession.builder.appName(\"model\").master(\"local[*]\").getOrCreate()"
   ]
  },
  {
   "cell_type": "code",
   "execution_count": 3,
   "metadata": {},
   "outputs": [],
   "source": [
    "from pyspark.sql.functions import *\n",
    "from pyspark.sql import Window\n",
    "from pyspark.sql.types import *\n",
    "from pyspark.ml.feature import VectorAssembler\n",
    "from pyspark.ml.regression import GBTRegressor "
   ]
  },
  {
   "cell_type": "code",
   "execution_count": 4,
   "metadata": {},
   "outputs": [],
   "source": [
    "import pandas as pd\n",
    "import numpy as np\n",
    "import seaborn as sns\n",
    "import matplotlib.pyplot as plt\n",
    "import warnings\n",
    "import math\n",
    "warnings.filterwarnings('ignore')"
   ]
  },
  {
   "cell_type": "markdown",
   "metadata": {},
   "source": [
    "## CARGAR DATOS"
   ]
  },
  {
   "cell_type": "code",
   "execution_count": 5,
   "metadata": {},
   "outputs": [],
   "source": [
    "# Path definition\n",
    "path = \"output/preprocessing/preprocessing_data.parquet\""
   ]
  },
  {
   "cell_type": "code",
   "execution_count": 6,
   "metadata": {},
   "outputs": [],
   "source": [
    "# Read dataframe\n",
    "train = spark.read.parquet(path, header= True, inferSchema=True)"
   ]
  },
  {
   "cell_type": "code",
   "execution_count": 7,
   "metadata": {},
   "outputs": [
    {
     "data": {
      "text/plain": [
       "9670308"
      ]
     },
     "execution_count": 7,
     "metadata": {},
     "output_type": "execute_result"
    }
   ],
   "source": [
    "# Verify rows\n",
    "train.count()"
   ]
  },
  {
   "cell_type": "code",
   "execution_count": 8,
   "metadata": {},
   "outputs": [],
   "source": [
    "# Cast binary variables\n",
    "train = (train\n",
    "         .withColumn(\"ind_mora_vigente\",col(\"ind_mora_vigente\").cast(\"integer\"))\n",
    "         .withColumn(\"cartera_castigada\",col(\"cartera_castigada\").cast(\"integer\"))\n",
    "         .withColumn(\"tenencia_tc\",col(\"tenencia_tc\").cast(\"integer\"))\n",
    "         .withColumn(\"tiene_consumo\",col(\"tiene_consumo\").cast(\"integer\"))\n",
    "         .withColumn(\"tiene_crediagil\",col(\"tiene_crediagil\").cast(\"integer\"))\n",
    "         .withColumn(\"tiene_ctas_activas\",col(\"tiene_ctas_activas\").cast(\"integer\"))\n",
    "         .withColumn(\"tiene_ctas_embargadas\",col(\"tiene_ctas_embargadas\").cast(\"integer\"))\n",
    "         .withColumn(\"tiene_cred_hipo_1\",col(\"tiene_cred_hipo_1\").cast(\"integer\"))\n",
    "         .withColumn(\"tiene_cred_hipo_2\",col(\"tiene_cred_hipo_2\").cast(\"integer\"))\n",
    "         .withColumn(\"pension_fopep\",col(\"pension_fopep\").cast(\"integer\"))\n",
    "        )"
   ]
  },
  {
   "cell_type": "code",
   "execution_count": 9,
   "metadata": {},
   "outputs": [],
   "source": [
    "# Set input and drop variables\n",
    "input_values = train.columns\n",
    "drop_values = ['periodo','id_cli','fecha_nacimiento','ult_actual','gasto_familiar','genero_dummy','codigo_ciiu','NI','rep_calif_cred']"
   ]
  },
  {
   "cell_type": "code",
   "execution_count": 10,
   "metadata": {},
   "outputs": [],
   "source": [
    "# Clean input variables\n",
    "input_features = [x for x in input_values if x not in drop_values]"
   ]
  },
  {
   "cell_type": "code",
   "execution_count": 11,
   "metadata": {},
   "outputs": [
    {
     "data": {
      "text/plain": [
       "281666"
      ]
     },
     "execution_count": 11,
     "metadata": {},
     "output_type": "execute_result"
    }
   ],
   "source": [
    "# Set testing path\n",
    "path = \"output/preprocessing/preprocessing_data_test.parquet\"\n",
    "# Read dataframe\n",
    "test = spark.read.parquet(path, header= True, inferSchema=True)\n",
    "# Verify rows\n",
    "test.count()"
   ]
  },
  {
   "cell_type": "code",
   "execution_count": 12,
   "metadata": {},
   "outputs": [],
   "source": [
    "test = (test\n",
    "         .withColumn(\"ind_mora_vigente\",col(\"ind_mora_vigente\").cast(\"integer\"))\n",
    "         .withColumn(\"cartera_castigada\",col(\"cartera_castigada\").cast(\"integer\"))\n",
    "         .withColumn(\"tenencia_tc\",col(\"tenencia_tc\").cast(\"integer\"))\n",
    "         .withColumn(\"tiene_consumo\",col(\"tiene_consumo\").cast(\"integer\"))\n",
    "         .withColumn(\"tiene_crediagil\",col(\"tiene_crediagil\").cast(\"integer\"))\n",
    "         .withColumn(\"tiene_ctas_activas\",col(\"tiene_ctas_activas\").cast(\"integer\"))\n",
    "         .withColumn(\"tiene_ctas_embargadas\",col(\"tiene_ctas_embargadas\").cast(\"integer\"))\n",
    "         .withColumn(\"tiene_cred_hipo_1\",col(\"tiene_cred_hipo_1\").cast(\"integer\"))\n",
    "         .withColumn(\"tiene_cred_hipo_2\",col(\"tiene_cred_hipo_2\").cast(\"integer\"))\n",
    "         .withColumn(\"pension_fopep\",col(\"pension_fopep\").cast(\"integer\"))\n",
    "        )"
   ]
  },
  {
   "cell_type": "markdown",
   "metadata": {},
   "source": [
    "## MODELADO"
   ]
  },
  {
   "cell_type": "markdown",
   "metadata": {},
   "source": [
    "### Vectorizar - Train"
   ]
  },
  {
   "cell_type": "code",
   "execution_count": 13,
   "metadata": {},
   "outputs": [],
   "source": [
    "# Vectorize variables to define the features column\n",
    "feat_vector = VectorAssembler(inputCols=input_features, outputCol= \"features\")"
   ]
  },
  {
   "cell_type": "code",
   "execution_count": 14,
   "metadata": {},
   "outputs": [],
   "source": [
    "# Appply vectorization to train\n",
    "transTrain = feat_vector.transform(train)"
   ]
  },
  {
   "cell_type": "code",
   "execution_count": 15,
   "metadata": {},
   "outputs": [],
   "source": [
    "# select variables for the train model\n",
    "train_model = transTrain.select(\"id_cli\",\"periodo\",\"features\",\"gasto_familiar\")"
   ]
  },
  {
   "cell_type": "code",
   "execution_count": 16,
   "metadata": {},
   "outputs": [],
   "source": [
    "# Appply vectorization to test\n",
    "transTest = feat_vector.transform(test)"
   ]
  },
  {
   "cell_type": "code",
   "execution_count": 17,
   "metadata": {},
   "outputs": [],
   "source": [
    "# select variables for the test model\n",
    "test_model = transTest.select(\"id_cli\",\"periodo\",\"features\")"
   ]
  },
  {
   "cell_type": "code",
   "execution_count": 18,
   "metadata": {},
   "outputs": [
    {
     "name": "stdout",
     "output_type": "stream",
     "text": [
      "+-------+-------+--------------------+\n",
      "| id_cli|periodo|            features|\n",
      "+-------+-------+--------------------+\n",
      "|1165927| 201908|(62,[0,1,3,4,8,12...|\n",
      "|1172919| 201908|(62,[0,1,2,4,17,1...|\n",
      "|1538512| 201909|(62,[0,1,2,3,4,17...|\n",
      "|3371270| 202004|(62,[0,1,2,4,5,8,...|\n",
      "|2784853| 202003|(62,[0,1,2,4,12,1...|\n",
      "+-------+-------+--------------------+\n",
      "only showing top 5 rows\n",
      "\n"
     ]
    }
   ],
   "source": [
    "test_model.show(5)"
   ]
  },
  {
   "cell_type": "code",
   "execution_count": 19,
   "metadata": {},
   "outputs": [],
   "source": [
    "# Apply statistical learning\n",
    "gbt = GBTRegressor(featuresCol = 'features', labelCol = 'gasto_familiar', maxIter=10)\n",
    "gbt_model = gbt.fit(train_model)"
   ]
  },
  {
   "cell_type": "code",
   "execution_count": 20,
   "metadata": {},
   "outputs": [],
   "source": [
    "# Predict\n",
    "predictions = gbt_model.transform(test_model)"
   ]
  },
  {
   "cell_type": "code",
   "execution_count": 21,
   "metadata": {},
   "outputs": [
    {
     "data": {
      "text/plain": [
       "281666"
      ]
     },
     "execution_count": 21,
     "metadata": {},
     "output_type": "execute_result"
    }
   ],
   "source": [
    "predictions.count()"
   ]
  },
  {
   "cell_type": "code",
   "execution_count": 22,
   "metadata": {},
   "outputs": [
    {
     "name": "stdout",
     "output_type": "stream",
     "text": [
      "+--------------+------------------+\n",
      "|   id_registro|    gasto_familiar|\n",
      "+--------------+------------------+\n",
      "|1165927#201908|1908153.4082411348|\n",
      "|1172919#201908|1043598.1025032308|\n",
      "|1538512#201909| 533523.6525717461|\n",
      "|3371270#202004| 559804.2486788722|\n",
      "|2784853#202003| 545032.3047431569|\n",
      "|2219310#202001|484943.65334678243|\n",
      "|2220638#202001| 637330.7321198647|\n",
      "|1568926#201909| 645213.3154352331|\n",
      "|1573039#201909| 715729.7898393531|\n",
      "|2430420#202002| 1261099.398877888|\n",
      "|1455662#201909| 965390.3112039503|\n",
      "|1461386#201909|1215270.7181463738|\n",
      "|1463134#201909|  897654.904836935|\n",
      "|1477680#201909| 566263.5597818812|\n",
      "|1361632#201909|1385525.0527353412|\n",
      "|1362813#201909| 644618.1801736299|\n",
      "|1379397#201909| 986222.7562428153|\n",
      "| 834901#201905| 600845.9716702942|\n",
      "| 839363#201905| 971400.3325544841|\n",
      "| 842749#201905|1934200.0683489041|\n",
      "+--------------+------------------+\n",
      "only showing top 20 rows\n",
      "\n"
     ]
    }
   ],
   "source": [
    "# Show prediction\n",
    "df_final = predictions.select(concat(str(\"id_cli\"),lit('#'),str(\"periodo\")).alias(\"id_registro\"),col(\"prediction\").alias(\"gasto_familiar\"))\n",
    "df_final.show()"
   ]
  },
  {
   "cell_type": "code",
   "execution_count": 23,
   "metadata": {},
   "outputs": [],
   "source": [
    "df_final.toPandas().to_csv(\"output/implementations/model_GBT_20200128.csv\", index=False)"
   ]
  }
 ],
 "metadata": {
  "kernelspec": {
   "display_name": "Python 3",
   "language": "python",
   "name": "python3"
  },
  "language_info": {
   "codemirror_mode": {
    "name": "ipython",
    "version": 3
   },
   "file_extension": ".py",
   "mimetype": "text/x-python",
   "name": "python",
   "nbconvert_exporter": "python",
   "pygments_lexer": "ipython3",
   "version": "3.8.3"
  }
 },
 "nbformat": 4,
 "nbformat_minor": 4
}
