{
 "cells": [
  {
   "cell_type": "markdown",
   "metadata": {},
   "source": [
    "# PREPROCESAMIENTO - TRAIN"
   ]
  },
  {
   "cell_type": "markdown",
   "metadata": {},
   "source": [
    "El objetivo del presente notebook consiste en la eliminación de outliers con base en variables previamente seleccionadas mediante análisis del diccionario de datos y tipo de datos por variable, junto con la dumización de las variables categóricas."
   ]
  },
  {
   "cell_type": "markdown",
   "metadata": {},
   "source": [
    "## SET UP"
   ]
  },
  {
   "cell_type": "code",
   "execution_count": 1,
   "metadata": {},
   "outputs": [
    {
     "name": "stdout",
     "output_type": "stream",
     "text": [
      "Requirement already satisfied: findspark in c:\\users\\sobando\\anaconda3\\lib\\site-packages (1.3.0)\n"
     ]
    }
   ],
   "source": [
    "!pip install findspark\n",
    "\n",
    "import findspark\n",
    "findspark.init()"
   ]
  },
  {
   "cell_type": "markdown",
   "metadata": {},
   "source": [
    "## LIBRERIAS"
   ]
  },
  {
   "cell_type": "code",
   "execution_count": 2,
   "metadata": {},
   "outputs": [],
   "source": [
    "# Cargar Pyspark\n",
    "from pyspark.sql import SparkSession\n",
    "from pyspark import SparkContext\n",
    "from pyspark import SparkConf\n",
    "from pyspark.sql.functions import *\n",
    "\n",
    "spark = SparkSession.builder.appName(\"Test_spark\").master(\"local[*]\").getOrCreate()"
   ]
  },
  {
   "cell_type": "code",
   "execution_count": 3,
   "metadata": {},
   "outputs": [],
   "source": [
    "from pyspark.sql.functions import *\n",
    "from pyspark.sql import Window\n",
    "from pyspark.sql.types import *\n",
    "from pyspark.ml.feature import StringIndexer\n",
    "from pyspark.ml.feature import OneHotEncoder"
   ]
  },
  {
   "cell_type": "code",
   "execution_count": 4,
   "metadata": {},
   "outputs": [],
   "source": [
    "import pandas as pd\n",
    "import numpy as np\n",
    "import seaborn as sns\n",
    "import matplotlib.pyplot as plt"
   ]
  },
  {
   "cell_type": "markdown",
   "metadata": {},
   "source": [
    "## CARGAR DATOS"
   ]
  },
  {
   "cell_type": "code",
   "execution_count": 5,
   "metadata": {},
   "outputs": [],
   "source": [
    "schema = StructType([\n",
    "    StructField('periodo',IntegerType(), True),\n",
    "    StructField('id_cli',IntegerType(), True),\n",
    "    StructField('fecha_nacimiento',IntegerType(), True),\n",
    "    StructField('edad',DoubleType(), True),\n",
    "    StructField('genero',IntegerType(), True),\n",
    "    StructField('estado_civil',StringType(), True),\n",
    "    StructField('nivel_academico',StringType(), True),\n",
    "    StructField('profesion',StringType(), True),\n",
    "    StructField('ocupacion',StringType(), True),\n",
    "    StructField('tipo_vivienda',StringType(), True),\n",
    "    StructField('ult_actual',IntegerType(), True),\n",
    "    StructField('categoria',DoubleType(), True),\n",
    "    StructField('codigo_ciiu',IntegerType(), True),\n",
    "    StructField('ind_mora_vigente',StringType(), True),\n",
    "    StructField('cartera_castigada',StringType(), True),\n",
    "    StructField('ciudad_residencia',StringType(), True),\n",
    "    StructField('departamento_residencia',StringType(), True),\n",
    "    StructField('ciudad_laboral',StringType(), True),\n",
    "    StructField('departamento_laboral',StringType(), True),\n",
    "    StructField('rechazo_credito',StringType(), True),\n",
    "    StructField('mora_max',DoubleType(), True),\n",
    "    StructField('cant_moras_30_ult_12_meses',DoubleType(), True),\n",
    "    StructField('cant_moras_60_ult_12_meses',DoubleType(), True),\n",
    "    StructField('cant_moras_90_ult_12_meses',DoubleType(), True),\n",
    "    StructField('cupo_total_tc',DoubleType(), True),\n",
    "    StructField('tenencia_tc',StringType(), True),\n",
    "    StructField('cuota_tc_bancolombia',DoubleType(), True),\n",
    "    StructField('tiene_consumo',StringType(), True),\n",
    "    StructField('tiene_crediagil',StringType(), True),\n",
    "    StructField('nro_tot_cuentas',IntegerType(), True),\n",
    "    StructField('ctas_activas',IntegerType(), True),\n",
    "    StructField('tiene_ctas_activas',StringType(), True),\n",
    "    StructField('ctas_embargadas',IntegerType(), True),\n",
    "    StructField('tiene_ctas_embargadas',StringType(), True),\n",
    "    StructField('pension_fopep',StringType(), True),\n",
    "    StructField('cuota_cred_hipot',DoubleType(), True),\n",
    "    StructField('tiene_cred_hipo_1',StringType(), True),\n",
    "    StructField('tiene_cred_hipo_2',StringType(), True),\n",
    "    StructField('mediana_nom3',DoubleType(), True),\n",
    "    StructField('mediana_pen3',DoubleType(), True),\n",
    "    StructField('ingreso_nompen',DoubleType(), True),\n",
    "    StructField('cat_ingreso',StringType(), True),\n",
    "    StructField('ingreso_final',DoubleType(), True),\n",
    "    StructField('cant_mora_30_tdc_ult_3m_sf',DoubleType(), True),\n",
    "    StructField('cant_mora_30_consum_ult_3m_sf',DoubleType(), True),\n",
    "    StructField('cuota_de_vivienda',DoubleType(), True),\n",
    "    StructField('cuota_de_consumo',DoubleType(), True),\n",
    "    StructField('cuota_rotativos',DoubleType(), True),\n",
    "    StructField('cuota_tarjeta_de_credito',DoubleType(), True),\n",
    "    StructField('cuota_de_sector_solidario',DoubleType(), True),\n",
    "    StructField('cuota_sector_real_comercio',DoubleType(), True),\n",
    "    StructField('cupo_tc_mdo',DoubleType(), True),\n",
    "    StructField('saldo_prom3_tdc_mdo',DoubleType(), True),\n",
    "    StructField('cuota_tc_mdo',DoubleType(), True),\n",
    "    StructField('saldo_no_rot_mdo',DoubleType(), True),\n",
    "    StructField('cuota_libranza_sf',DoubleType(), True),\n",
    "    StructField('cant_oblig_tot_sf',DoubleType(), True),\n",
    "    StructField('cant_cast_ult_12m_sr',DoubleType(), True),\n",
    "    StructField('ind',DoubleType(), True),\n",
    "    StructField('rep_calif_cred',IntegerType(), True),\n",
    "    StructField('pol_centr_ext',DoubleType(), True),\n",
    "    StructField('convenio_lib',StringType(), True),\n",
    "    StructField('ingreso_nomina',DoubleType(), True),\n",
    "    StructField('ingreso_segurida_social',DoubleType(), True),\n",
    "    StructField('gasto_familiar',DoubleType(), True)\n",
    "])"
   ]
  },
  {
   "cell_type": "code",
   "execution_count": 6,
   "metadata": {},
   "outputs": [],
   "source": [
    "df = spark.read.schema(schema).option(\"delimiter\", \";\").option(\"nullValue\", \"\\\\N\").csv(\"../iteration_1/input/Dataton_train_semicolon.csv\")"
   ]
  },
  {
   "cell_type": "code",
   "execution_count": 7,
   "metadata": {},
   "outputs": [
    {
     "data": {
      "text/plain": [
       "20988748"
      ]
     },
     "execution_count": 7,
     "metadata": {},
     "output_type": "execute_result"
    }
   ],
   "source": [
    "df.count()"
   ]
  },
  {
   "cell_type": "markdown",
   "metadata": {},
   "source": [
    "## PREPROCESAMIENTO"
   ]
  },
  {
   "cell_type": "markdown",
   "metadata": {},
   "source": [
    "### Resumen estadístico por variable para obtener la reglas a aplicar en los outliers"
   ]
  },
  {
   "cell_type": "code",
   "execution_count": 8,
   "metadata": {},
   "outputs": [],
   "source": [
    "summary = pd.read_csv(\"../iteration_1/output/statistics/summary.csv\")\n",
    "summary = summary.rename(columns={'Unnamed: 0': 'summary'})\n",
    "summary = summary.set_index(\"summary\")"
   ]
  },
  {
   "cell_type": "code",
   "execution_count": 9,
   "metadata": {},
   "outputs": [
    {
     "data": {
      "text/html": [
       "<div>\n",
       "<style scoped>\n",
       "    .dataframe tbody tr th:only-of-type {\n",
       "        vertical-align: middle;\n",
       "    }\n",
       "\n",
       "    .dataframe tbody tr th {\n",
       "        vertical-align: top;\n",
       "    }\n",
       "\n",
       "    .dataframe thead th {\n",
       "        text-align: right;\n",
       "    }\n",
       "</style>\n",
       "<table border=\"1\" class=\"dataframe\">\n",
       "  <thead>\n",
       "    <tr style=\"text-align: right;\">\n",
       "      <th></th>\n",
       "      <th>count</th>\n",
       "      <th>mean</th>\n",
       "      <th>stddev</th>\n",
       "      <th>min</th>\n",
       "      <th>25%</th>\n",
       "      <th>50%</th>\n",
       "      <th>75%</th>\n",
       "      <th>max</th>\n",
       "      <th>IQR</th>\n",
       "      <th>upper</th>\n",
       "      <th>lower</th>\n",
       "    </tr>\n",
       "    <tr>\n",
       "      <th>summary</th>\n",
       "      <th></th>\n",
       "      <th></th>\n",
       "      <th></th>\n",
       "      <th></th>\n",
       "      <th></th>\n",
       "      <th></th>\n",
       "      <th></th>\n",
       "      <th></th>\n",
       "      <th></th>\n",
       "      <th></th>\n",
       "      <th></th>\n",
       "    </tr>\n",
       "  </thead>\n",
       "  <tbody>\n",
       "    <tr>\n",
       "      <th>mora_max</th>\n",
       "      <td>15017120</td>\n",
       "      <td>5.008723e+00</td>\n",
       "      <td>2.371134e+01</td>\n",
       "      <td>0.0</td>\n",
       "      <td>0.0</td>\n",
       "      <td>0.0</td>\n",
       "      <td>1.0</td>\n",
       "      <td>999.000</td>\n",
       "      <td>1.0</td>\n",
       "      <td>2.5</td>\n",
       "      <td>-1.5</td>\n",
       "    </tr>\n",
       "    <tr>\n",
       "      <th>cupo_total_tc</th>\n",
       "      <td>20988748</td>\n",
       "      <td>4.426551e+06</td>\n",
       "      <td>1.093624e+07</td>\n",
       "      <td>0.0</td>\n",
       "      <td>0.0</td>\n",
       "      <td>0.0</td>\n",
       "      <td>4700000.0</td>\n",
       "      <td>9999999.000</td>\n",
       "      <td>4700000.0</td>\n",
       "      <td>11750000.0</td>\n",
       "      <td>-7050000.0</td>\n",
       "    </tr>\n",
       "    <tr>\n",
       "      <th>cuota_tc_bancolombia</th>\n",
       "      <td>20988748</td>\n",
       "      <td>1.949875e+05</td>\n",
       "      <td>6.079431e+05</td>\n",
       "      <td>0.0</td>\n",
       "      <td>0.0</td>\n",
       "      <td>0.0</td>\n",
       "      <td>197200.0</td>\n",
       "      <td>999999.999</td>\n",
       "      <td>197200.0</td>\n",
       "      <td>493000.0</td>\n",
       "      <td>-295800.0</td>\n",
       "    </tr>\n",
       "    <tr>\n",
       "      <th>nro_tot_cuentas</th>\n",
       "      <td>20988520</td>\n",
       "      <td>1.077879e+00</td>\n",
       "      <td>4.400288e-01</td>\n",
       "      <td>0.0</td>\n",
       "      <td>1.0</td>\n",
       "      <td>1.0</td>\n",
       "      <td>1.0</td>\n",
       "      <td>9.000</td>\n",
       "      <td>0.0</td>\n",
       "      <td>1.0</td>\n",
       "      <td>1.0</td>\n",
       "    </tr>\n",
       "    <tr>\n",
       "      <th>ctas_activas</th>\n",
       "      <td>20988520</td>\n",
       "      <td>1.020634e+00</td>\n",
       "      <td>4.069990e-01</td>\n",
       "      <td>0.0</td>\n",
       "      <td>1.0</td>\n",
       "      <td>1.0</td>\n",
       "      <td>1.0</td>\n",
       "      <td>9.000</td>\n",
       "      <td>0.0</td>\n",
       "      <td>1.0</td>\n",
       "      <td>1.0</td>\n",
       "    </tr>\n",
       "  </tbody>\n",
       "</table>\n",
       "</div>"
      ],
      "text/plain": [
       "                         count          mean        stddev  min  25%  50%  \\\n",
       "summary                                                                     \n",
       "mora_max              15017120  5.008723e+00  2.371134e+01  0.0  0.0  0.0   \n",
       "cupo_total_tc         20988748  4.426551e+06  1.093624e+07  0.0  0.0  0.0   \n",
       "cuota_tc_bancolombia  20988748  1.949875e+05  6.079431e+05  0.0  0.0  0.0   \n",
       "nro_tot_cuentas       20988520  1.077879e+00  4.400288e-01  0.0  1.0  1.0   \n",
       "ctas_activas          20988520  1.020634e+00  4.069990e-01  0.0  1.0  1.0   \n",
       "\n",
       "                            75%          max        IQR       upper      lower  \n",
       "summary                                                                         \n",
       "mora_max                    1.0      999.000        1.0         2.5       -1.5  \n",
       "cupo_total_tc         4700000.0  9999999.000  4700000.0  11750000.0 -7050000.0  \n",
       "cuota_tc_bancolombia   197200.0   999999.999   197200.0    493000.0  -295800.0  \n",
       "nro_tot_cuentas             1.0        9.000        0.0         1.0        1.0  \n",
       "ctas_activas                1.0        9.000        0.0         1.0        1.0  "
      ]
     },
     "execution_count": 9,
     "metadata": {},
     "output_type": "execute_result"
    }
   ],
   "source": [
    "summary.head()"
   ]
  },
  {
   "cell_type": "code",
   "execution_count": 10,
   "metadata": {},
   "outputs": [
    {
     "data": {
      "text/plain": [
       "['mora_max',\n",
       " 'cupo_total_tc',\n",
       " 'cuota_tc_bancolombia',\n",
       " 'nro_tot_cuentas',\n",
       " 'ctas_activas',\n",
       " 'mediana_nom3',\n",
       " 'mediana_pen3',\n",
       " 'ingreso_final',\n",
       " 'cuota_de_vivienda',\n",
       " 'cuota_de_consumo',\n",
       " 'cuota_rotativos',\n",
       " 'cuota_tarjeta_de_credito',\n",
       " 'cuota_de_sector_solidario',\n",
       " 'cuota_sector_real_comercio',\n",
       " 'cupo_tc_mdo',\n",
       " 'saldo_prom3_tdc_mdo',\n",
       " 'cuota_tc_mdo',\n",
       " 'saldo_no_rot_mdo',\n",
       " 'cuota_libranza_sf',\n",
       " 'cant_oblig_tot_sf',\n",
       " 'cant_cast_ult_12m_sr',\n",
       " 'ind',\n",
       " 'gasto_familiar']"
      ]
     },
     "execution_count": 10,
     "metadata": {},
     "output_type": "execute_result"
    }
   ],
   "source": [
    "summary.index.tolist()"
   ]
  },
  {
   "cell_type": "markdown",
   "metadata": {},
   "source": [
    "### Imputaciones"
   ]
  },
  {
   "cell_type": "code",
   "execution_count": 11,
   "metadata": {},
   "outputs": [],
   "source": [
    "data_imputation = df"
   ]
  },
  {
   "cell_type": "code",
   "execution_count": 12,
   "metadata": {},
   "outputs": [],
   "source": [
    "# Zero\n",
    "var_zero = [\n",
    "    'categoria',\n",
    "    'mora_max',\n",
    "    'cant_moras_30_ult_12_meses',\n",
    "    'cant_moras_60_ult_12_meses',\n",
    "    'cant_moras_90_ult_12_meses',\n",
    "    'nro_tot_cuentas',\n",
    "    'ctas_activas',\n",
    "    'ctas_embargadas',\n",
    "    'cuota_cred_hipot',\n",
    "    'cant_mora_30_tdc_ult_3m_sf',\n",
    "    'cant_mora_30_consum_ult_3m_sf',\n",
    "    'cuota_de_vivienda',\n",
    "    'cuota_de_consumo',\n",
    "    'cuota_rotativos',\n",
    "    'cuota_tarjeta_de_credito',\n",
    "    'cuota_sector_real_comercio',\n",
    "    'cupo_tc_mdo',\n",
    "    'saldo_prom3_tdc_mdo',\n",
    "    'cuota_tc_mdo',\n",
    "    'saldo_no_rot_mdo',\n",
    "    'cuota_libranza_sf',\n",
    "    'cant_oblig_tot_sf',\n",
    "    'cant_cast_ult_12m_sr',\n",
    "    'pol_centr_ext',\n",
    "    'ingreso_segurida_social',\n",
    "    'ingreso_nompen',\n",
    "    'ingreso_nomina'\n",
    "]"
   ]
  },
  {
   "cell_type": "code",
   "execution_count": 13,
   "metadata": {},
   "outputs": [],
   "source": [
    "data_imputation = data_imputation.fillna(0,subset=var_zero)"
   ]
  },
  {
   "cell_type": "code",
   "execution_count": 14,
   "metadata": {},
   "outputs": [],
   "source": [
    "# Median\n",
    "var_med =[\n",
    "    'cupo_total_tc',\n",
    "    'cuota_tc_bancolombia',\n",
    "    'mediana_nom3',\n",
    "    'mediana_pen3',\n",
    "    'ingreso_final',\n",
    "    'ind',\n",
    "]"
   ]
  },
  {
   "cell_type": "code",
   "execution_count": 15,
   "metadata": {},
   "outputs": [],
   "source": [
    "for var in var_med:\n",
    "    med = summary[summary.index == var].iloc[0][\"50%\"].astype(\"float64\")\n",
    "    data_imputation = data_imputation.fillna(med,subset=var)"
   ]
  },
  {
   "cell_type": "markdown",
   "metadata": {},
   "source": [
    "### Eliminación de outliers"
   ]
  },
  {
   "cell_type": "code",
   "execution_count": 16,
   "metadata": {},
   "outputs": [],
   "source": [
    "data_outliers = data_imputation"
   ]
  },
  {
   "cell_type": "code",
   "execution_count": 17,
   "metadata": {},
   "outputs": [],
   "source": [
    "variables = ['ind',\n",
    "             'ingreso_final',\n",
    "             'cupo_total_tc',\n",
    "             'cuota_tc_bancolombia',\n",
    "             'mediana_nom3',\n",
    "             'cuota_de_consumo',\n",
    "             'cuota_tarjeta_de_credito',\n",
    "             'cupo_tc_mdo',\n",
    "             'saldo_prom3_tdc_mdo',\n",
    "             'cuota_tc_mdo',\n",
    "             'saldo_no_rot_mdo']"
   ]
  },
  {
   "cell_type": "code",
   "execution_count": 18,
   "metadata": {},
   "outputs": [
    {
     "name": "stdout",
     "output_type": "stream",
     "text": [
      "variable: ind ,rows: 18361490\n",
      "variable: ingreso_final ,rows: 17991726\n",
      "variable: cupo_total_tc ,rows: 16360120\n",
      "variable: cuota_tc_bancolombia ,rows: 15851845\n",
      "variable: mediana_nom3 ,rows: 14914775\n",
      "variable: cuota_de_consumo ,rows: 13976470\n",
      "variable: cuota_tarjeta_de_credito ,rows: 13641098\n",
      "variable: cupo_tc_mdo ,rows: 12979634\n",
      "variable: saldo_prom3_tdc_mdo ,rows: 12100609\n",
      "variable: cuota_tc_mdo ,rows: 11526291\n",
      "variable: saldo_no_rot_mdo ,rows: 10768162\n"
     ]
    }
   ],
   "source": [
    "# Getting summary of variables\n",
    "# Initialize missing variables\n",
    "error = []\n",
    "# Get the path\n",
    "for var in variables:\n",
    "    try:\n",
    "        # Getting parameters\n",
    "        upper =summary[summary.index == var].iloc[0][\"upper\"].astype(\"float64\")\n",
    "        lower = summary[summary.index == var].iloc[0][\"lower\"].astype(\"float64\")\n",
    "        # Dropping outliers\n",
    "        data_outliers = data_outliers.where((col(var)>lower) & (col(var)<upper))\n",
    "        print(\"variable: \" + str(var),\",rows: \" + str(data_outliers.count()))\n",
    "    except:\n",
    "        # Getting missing variables\n",
    "        error.append(var)\n",
    "        pass "
   ]
  },
  {
   "cell_type": "code",
   "execution_count": 19,
   "metadata": {},
   "outputs": [
    {
     "name": "stdout",
     "output_type": "stream",
     "text": [
      "[]\n"
     ]
    }
   ],
   "source": [
    "print(error)"
   ]
  },
  {
   "cell_type": "code",
   "execution_count": 20,
   "metadata": {},
   "outputs": [
    {
     "data": {
      "text/plain": [
       "10763851"
      ]
     },
     "execution_count": 20,
     "metadata": {},
     "output_type": "execute_result"
    }
   ],
   "source": [
    "# Dropping outliers of Edad\n",
    "data_outliers = data_outliers.withColumn(\"edad\",round(col(\"edad\"),0))\n",
    "data_outliers = data_outliers.where((col(\"edad\")<99) & (col(\"edad\")>=18))\n",
    "data_outliers.count()"
   ]
  },
  {
   "cell_type": "code",
   "execution_count": 21,
   "metadata": {},
   "outputs": [],
   "source": [
    "# Drop rows with values smaller than zero\n",
    "vars_smaller_zero = [\n",
    "                  'cuota_de_vivienda',\n",
    "                  'cuota_de_consumo',\n",
    "                  'ind']"
   ]
  },
  {
   "cell_type": "code",
   "execution_count": 22,
   "metadata": {},
   "outputs": [],
   "source": [
    "data_non_negatives = data_outliers"
   ]
  },
  {
   "cell_type": "code",
   "execution_count": 23,
   "metadata": {},
   "outputs": [
    {
     "name": "stdout",
     "output_type": "stream",
     "text": [
      "variable: cuota_de_vivienda ,rows: 10763848\n",
      "variable: cuota_de_consumo ,rows: 10761905\n",
      "variable: ind ,rows: 9670308\n"
     ]
    }
   ],
   "source": [
    "error = []\n",
    "for var in vars_smaller_zero:\n",
    "    try:\n",
    "        data_non_negatives = data_non_negatives.where(col(var)>= 0)\n",
    "        print(\"variable: \" + str(var),\",rows: \" + str(data_non_negatives.count()))\n",
    "    except:\n",
    "    # Getting missing variables\n",
    "        error.append(var)\n",
    "        pass"
   ]
  },
  {
   "cell_type": "code",
   "execution_count": 24,
   "metadata": {},
   "outputs": [
    {
     "name": "stdout",
     "output_type": "stream",
     "text": [
      "[]\n"
     ]
    }
   ],
   "source": [
    "print(error)"
   ]
  },
  {
   "cell_type": "markdown",
   "metadata": {},
   "source": [
    "## Limpieza de variables"
   ]
  },
  {
   "cell_type": "code",
   "execution_count": 46,
   "metadata": {},
   "outputs": [],
   "source": [
    "data_clean = data_non_negatives"
   ]
  },
  {
   "cell_type": "code",
   "execution_count": 47,
   "metadata": {},
   "outputs": [],
   "source": [
    "# Estas son las que tienen X o \\N, pero son flags, entonces hay que cambiar \n",
    "# X por 1\n",
    "flags = ['tiene_consumo', \n",
    "         'tiene_crediagil', \n",
    "         'tiene_ctas_activas', \n",
    "         'tiene_ctas_embargadas', \n",
    "         'pension_fopep', \n",
    "         'tiene_cred_hipo_1', \n",
    "         'tiene_cred_hipo_2']"
   ]
  },
  {
   "cell_type": "code",
   "execution_count": 48,
   "metadata": {},
   "outputs": [],
   "source": [
    "for var in flags:\n",
    "    data_clean =  data_clean.withColumn(var, when(col(var) == \"X\", \"1\").otherwise(0))"
   ]
  },
  {
   "cell_type": "code",
   "execution_count": 49,
   "metadata": {},
   "outputs": [],
   "source": [
    "# Estas son varibles con respuesta S, N\n",
    "# ind_mora_vigente N, S, \\N\n",
    "# cartera_castigada N, S, \\N\n",
    "sn_vars = ['ind_mora_vigente', 'cartera_castigada']"
   ]
  },
  {
   "cell_type": "code",
   "execution_count": 50,
   "metadata": {},
   "outputs": [],
   "source": [
    "for var in sn_vars:\n",
    "    #print (flag)\n",
    "    #data = df.withColumn(flag, when(col(flag) == 'X', 1))\n",
    "    data_clean =  data_clean.withColumn(var, when(col(var) == \"S\", \"1\").otherwise(0))"
   ]
  },
  {
   "cell_type": "code",
   "execution_count": 51,
   "metadata": {},
   "outputs": [],
   "source": [
    "data_clean =  data_clean.withColumn(\"tenencia_tc\", when(col(\"tenencia_tc\") == \"SI\", \"1\").otherwise(0))"
   ]
  },
  {
   "cell_type": "code",
   "execution_count": 52,
   "metadata": {},
   "outputs": [],
   "source": [
    "var_drop = [\n",
    "    'genero',\n",
    "    'profesion',\n",
    "    'ult_actual',\n",
    "    'codigo_ciiu',\n",
    "    'ciudad_residencia',\n",
    "    'ciudad_laboral',\n",
    "    'departamento_laboral',\n",
    "    'convenio_lib']"
   ]
  },
  {
   "cell_type": "code",
   "execution_count": 53,
   "metadata": {},
   "outputs": [],
   "source": [
    "# Drop \n",
    "data_clean = data_clean.drop(*var_drop)"
   ]
  },
  {
   "cell_type": "code",
   "execution_count": 54,
   "metadata": {},
   "outputs": [],
   "source": [
    "# Estado civil\n",
    "data_clean = data_clean.withColumn(\"estado_civil\"\n",
    "                                   ,when(col(\"estado_civil\") == \"VIUDO\",4)\n",
    "                                   .when(col(\"estado_civil\") == \"SOLTERO\",1)\n",
    "                                   .when(col(\"estado_civil\") == \"NO INFORMA\",0)\n",
    "                                   .when(col(\"estado_civil\") == \"OTRO\",0)\n",
    "                                   .when(col(\"estado_civil\") == \"CASADO\",3)\n",
    "                                   .when(col(\"estado_civil\") == \"DIVORCIADO\",5)\n",
    "                                   .when(col(\"estado_civil\") == \"UNION LIBRE\",2)\n",
    "                                   .otherwise(0)\n",
    "                                  )"
   ]
  },
  {
   "cell_type": "code",
   "execution_count": 55,
   "metadata": {},
   "outputs": [],
   "source": [
    "# Nivel academico\n",
    "data_clean = data_clean.withColumn(\"nivel_academico\"\n",
    "                                   ,when(col(\"nivel_academico\") == \"SIN INFORMACION\",4)\n",
    "                                   .when(col(\"nivel_academico\") == \"BACHILLER\",1)\n",
    "                                   .when(col(\"nivel_academico\") == \"NO INFORMA\",0)\n",
    "                                   .when(col(\"nivel_academico\") == \"ESPECIALIZACION\",0)\n",
    "                                   .when(col(\"nivel_academico\") == \"NINGUNO\",3)\n",
    "                                   .when(col(\"nivel_academico\") == \"TECNOLOGO\",5)\n",
    "                                   .when(col(\"nivel_academico\") == \"UNIVERSITARIO\",2)\n",
    "                                   .when(col(\"nivel_academico\") == \"PRIMARIO\",2)\n",
    "                                   .otherwise(0)\n",
    "                                  )\n"
   ]
  },
  {
   "cell_type": "code",
   "execution_count": 56,
   "metadata": {},
   "outputs": [],
   "source": [
    "#Ocupación\n",
    "data_clean = data_clean.withColumn(\"ocupacion\"\n",
    "                                   ,when(col('ocupacion')=='Empleado','Empleado')\n",
    "                                   .when(col('ocupacion')=='Independiente','Independiente')\n",
    "                                   .when(col('ocupacion')=='Estudiante','Estudiante')\n",
    "                                   .when(col('ocupacion')=='Profesional Independiente','Independiente')\n",
    "                                   .when(col('ocupacion')=='Jubilado','Pensionado')\n",
    "                                   .when(col('ocupacion')=='Comerciante','Independiente')\n",
    "                                   .when(col('ocupacion')=='Socio Empleado - Socio','Empleado')\n",
    "                                   .when(col('ocupacion')=='Ama de Casa','Independiente')\n",
    "                                   .when(col('ocupacion')=='Otro','Indefinida')\n",
    "                                   .when(col('ocupacion')=='Rentista de Capital','Independiente')\n",
    "                                   .when(col('ocupacion')=='Pensionado','Pensionado')\n",
    "                                   .when(col('ocupacion')=='Desempleado sin Ingresos','Desempleado')\n",
    "                                   .when(col('ocupacion')=='Sin Ocupacion Asignada','Indefinida')\n",
    "                                   .when(col('ocupacion')=='Desempleado con Ingresos','Independiente')\n",
    "                                   .when(col('ocupacion')=='Ganadero','Independiente')\n",
    "                                   .when(col('ocupacion')=='Agricultor','Independiente')\n",
    "                                   .otherwise(\"Indefinida\")\n",
    "                                  )"
   ]
  },
  {
   "cell_type": "code",
   "execution_count": 57,
   "metadata": {},
   "outputs": [],
   "source": [
    "# Tipo de vivienda\n",
    "data_clean = data_clean.withColumn(\"tipo_vivienda\"\n",
    "                                   ,when(col(\"tipo_vivienda\") == \"ALQUILADA\",1)\n",
    "                                   .when(col(\"tipo_vivienda\") == \"NO INFORMA\",0)\n",
    "                                   .when(col(\"tipo_vivienda\") == \"PROPIA\",3)\n",
    "                                   .when(col(\"tipo_vivienda\") == \"FAMILIAR\",2)\n",
    "                                   .otherwise(0)\n",
    "                                  )"
   ]
  },
  {
   "cell_type": "code",
   "execution_count": 58,
   "metadata": {},
   "outputs": [],
   "source": [
    "# Rechazo Crédito\n",
    "data_clean = data_clean.withColumn('rechazo_credito',\n",
    "                                   when(col('rechazo_credito')=='RECHAZO BANCO',1)\n",
    "                                   .when(col('rechazo_credito')=='RECHAZO FACTORING',1)\n",
    "                                   .when(col('rechazo_credito')=='RECHAZO SUFI',1)\n",
    "                                   .when(col('rechazo_credito')=='RECHAZO BIZAGI',1)\n",
    "                                   .otherwise(0)\n",
    "                                  )"
   ]
  },
  {
   "cell_type": "code",
   "execution_count": 59,
   "metadata": {},
   "outputs": [],
   "source": [
    "#  Categoria de ingreso\n",
    "data_clean = data_clean.withColumn('cat_ingreso'\n",
    "                                   ,when(col('cat_ingreso') == \"NOM\",1)\n",
    "                                   .when(col('cat_ingreso') == \"PEN\",2)\n",
    "                                   .when(col('cat_ingreso') == \"NOM PEN\",3)\n",
    "                                   .otherwise(0)\n",
    "                                  )"
   ]
  },
  {
   "cell_type": "code",
   "execution_count": 60,
   "metadata": {},
   "outputs": [],
   "source": [
    "# rep_calif_cred\n",
    "data_clean = data_clean.withColumn('rep_calif_cred'\n",
    "                                   ,when(col('rep_calif_cred') == \"A\",1)\n",
    "                                   .when(col('rep_calif_cred') == \"B\",2)\n",
    "                                   .when(col('rep_calif_cred') == \"C\",3)\n",
    "                                   .when(col('rep_calif_cred') == \"D\",4)\n",
    "                                   .when(col('rep_calif_cred') == \"E\",5)\n",
    "                                   .when(col('rep_calif_cred') == \"F\",6)\n",
    "                                   .when(col('rep_calif_cred') == \"G\",7)\n",
    "                                   .when(col('rep_calif_cred') == \"H\",8)\n",
    "                                   .otherwise(0)\n",
    "                                  )"
   ]
  },
  {
   "cell_type": "code",
   "execution_count": 61,
   "metadata": {},
   "outputs": [],
   "source": [
    "# Departamento\n",
    "data_clean = data_clean.withColumn('departamento_residencia'\n",
    "                                   ,when(col('departamento_residencia')=='ANTIOQUIA                                         ', 'ANDINA')\n",
    "                                   .when(col('departamento_residencia')=='VALLE                                             ' , 'PACIFICO')\n",
    "                                   .when(col('departamento_residencia')=='RISARALDA                                         ', 'ANDINA')\n",
    "                                   .when(col('departamento_residencia')=='SANTANDER                                         ', 'ANDINA')\n",
    "                                   .when(col('departamento_residencia')=='BOGOTA D.C.                                       ', 'ANDINA')\n",
    "                                   .when(col('departamento_residencia')=='ESTADO EXTERIOR                                   ' , 'EXTERIOR')\n",
    "                                   .when(col('departamento_residencia')=='QUINDIO                                           ', 'ANDINA')\n",
    "                                   .when(col('departamento_residencia')=='BOLIVAR                                           ', 'CARIBE')\n",
    "                                   .when(col('departamento_residencia')=='CORDOBA                                           ', 'CARIBE')\n",
    "                                   .when(col('departamento_residencia')=='NORTE DE SANTANDER                                ', 'ANDINA')\n",
    "                                   .when(col('departamento_residencia')=='ATLANTICO                                         ', 'CARIBE')\n",
    "                                   .when(col('departamento_residencia')=='MAGDALENA                                         ' , 'CARIBE')\n",
    "                                   .when(col('departamento_residencia')=='CUNDINAMARCA                                      ', 'ANDINA')\n",
    "                                   .when(col('departamento_residencia')=='TOLIMA                                            ', 'ANDINA')\n",
    "                                   .when(col('departamento_residencia')=='SUCRE                                             ', 'CARIBE')\n",
    "                                   .when(col('departamento_residencia')=='CAUCA                                             ' , 'PACIFICO')\n",
    "                                   .when(col('departamento_residencia')=='META                                              ' , 'ORINOQUIA')\n",
    "                                   .when(col('departamento_residencia')=='CESAR                                             ' , 'CARIBE')\n",
    "                                   .when(col('departamento_residencia')=='NARINO                                            ' , 'PACIFICO')\n",
    "                                   .when(col('departamento_residencia')=='NI', 'NI')\n",
    "                                   .when(col('departamento_residencia')=='BOYACA                                            ', 'ANDINA')\n",
    "                                   .when(col('departamento_residencia')=='CAQUETA                                           ', 'AMAZONIA')\n",
    "                                   .when(col('departamento_residencia')=='CALDAS                                            ', 'ANDINA')\n",
    "                                   .when(col('departamento_residencia')=='HUILA                                             ', 'ANDINA')\n",
    "                                   .when(col('departamento_residencia')=='CASANARE                                          ', 'ORINOQUIA')\n",
    "                                   .when(col('departamento_residencia')=='SAN ANDRES Y PROVID                               ' , 'CARIBE')\n",
    "                                   .when(col('departamento_residencia')=='NI                                   ', 'NI')\n",
    "                                   .when(col('departamento_residencia')=='LA GUAJIRA                                        ', 'CARIBE')\n",
    "                                   .when(col('departamento_residencia')=='CHOCO                                             ', 'PACIFICO')\n",
    "                                   .when(col('departamento_residencia')=='ARAUCA                                            ', 'ORINOQUIA')\n",
    "                                   .when(col('departamento_residencia')=='PUTUMAYO                                          ', 'AMAZONIA')\n",
    "                                   .when(col('departamento_residencia')=='GUANIA                                            ', 'AMAZONIA')\n",
    "                                   .when(col('departamento_residencia')=='GUAVIARE                                          ', 'AMAZONIA')\n",
    "                                   .when(col('departamento_residencia')=='VAUPES                                            ', 'AMAZONIA')\n",
    "                                   .when(col('departamento_residencia')=='AMAZONAS                                          ', 'AMAZONIA')\n",
    "                                   .when(col('departamento_residencia')=='VICHADA                                           ', 'ORINOQUIA')\n",
    "                                   .when(col('departamento_residencia')=='MADRID                                            ', 'EXTERIOR')\n",
    "                                   .when(col('departamento_residencia')=='ESTADO DE LA FLORIDA                              ', 'EXTERIOR')\n",
    "                                  )\n"
   ]
  },
  {
   "cell_type": "code",
   "execution_count": 62,
   "metadata": {},
   "outputs": [],
   "source": [
    "data_dummy = data_clean"
   ]
  },
  {
   "cell_type": "code",
   "execution_count": 63,
   "metadata": {},
   "outputs": [],
   "source": [
    "# Ocupación\n",
    "data_dummy = (data_dummy\n",
    "              .withColumn(\"Empleado\",when(col(\"ocupacion\")==\"Empleado\",1).otherwise(0))\n",
    "              .withColumn(\"Independiente\",when(col(\"ocupacion\")==\"Independiente\",1).otherwise(0))\n",
    "              .withColumn(\"Estudiante\",when(col(\"ocupacion\")==\"Estudiante\",1).otherwise(0))\n",
    "              .withColumn(\"Pensionado\",when(col(\"ocupacion\")==\"Pensionado\",1).otherwise(0))\n",
    "              .withColumn(\"Indefinida\",when(col(\"ocupacion\")==\"Indefinida\",1).otherwise(0))\n",
    "              .withColumn(\"Desempleado\",when(col(\"ocupacion\")==\"Desempleado\",1).otherwise(0))\n",
    "              .drop(\"ocupacion\")\n",
    "             )"
   ]
  },
  {
   "cell_type": "code",
   "execution_count": 64,
   "metadata": {},
   "outputs": [],
   "source": [
    "# Departamento\n",
    "data_dummy = (data_dummy\n",
    "              .withColumn('ANDINA',when(col('departamento_residencia')==\"ANDINA\",1).otherwise(0))\n",
    "              .withColumn('PACIFICO',when(col('departamento_residencia')==\"PACIFICO\",1).otherwise(0))\n",
    "              .withColumn('EXTERIOR',when(col('departamento_residencia')==\"EXTERIOR\",1).otherwise(0))\n",
    "              .withColumn('CARIBE',when(col('departamento_residencia')==\"CARIBE\",1).otherwise(0))\n",
    "              .withColumn('ORINOQUIA',when(col('departamento_residencia')==\"ORINOQUIA\",1).otherwise(0))\n",
    "              .withColumn('NI',when(col('departamento_residencia')==\"NI\",1).otherwise(0))\n",
    "              .withColumn('AMAZONIA',when(col('departamento_residencia')==\"AMAZONIA\",1).otherwise(0))\n",
    "              .drop(\"departamento_residencia\")\n",
    "             )"
   ]
  },
  {
   "cell_type": "code",
   "execution_count": 65,
   "metadata": {},
   "outputs": [],
   "source": [
    "data_preprocessed = data_dummy"
   ]
  },
  {
   "cell_type": "code",
   "execution_count": 66,
   "metadata": {},
   "outputs": [
    {
     "data": {
      "text/plain": [
       "9670308"
      ]
     },
     "execution_count": 66,
     "metadata": {},
     "output_type": "execute_result"
    }
   ],
   "source": [
    "data_preprocessed.count()"
   ]
  },
  {
   "cell_type": "code",
   "execution_count": 67,
   "metadata": {},
   "outputs": [],
   "source": [
    "# Save as parquet file\n",
    "data_preprocessed.write.parquet(\"output/preprocessing/preprocessing_data.parquet\")"
   ]
  }
 ],
 "metadata": {
  "kernelspec": {
   "display_name": "Python 3",
   "language": "python",
   "name": "python3"
  },
  "language_info": {
   "codemirror_mode": {
    "name": "ipython",
    "version": 3
   },
   "file_extension": ".py",
   "mimetype": "text/x-python",
   "name": "python",
   "nbconvert_exporter": "python",
   "pygments_lexer": "ipython3",
   "version": "3.8.3"
  }
 },
 "nbformat": 4,
 "nbformat_minor": 4
}
