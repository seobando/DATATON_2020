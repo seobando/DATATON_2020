{
 "cells": [
  {
   "cell_type": "markdown",
   "metadata": {},
   "source": [
    "# ENTRENAMIENTO - LINEAR REGRESSION"
   ]
  },
  {
   "cell_type": "markdown",
   "metadata": {},
   "source": [
    "El objetivo del presente notebook consiste en entrenar un modelo de regression multiple para aplicarlo a los datos de prueba."
   ]
  },
  {
   "cell_type": "markdown",
   "metadata": {},
   "source": [
    "## SET UP"
   ]
  },
  {
   "cell_type": "code",
   "execution_count": 13,
   "metadata": {},
   "outputs": [
    {
     "name": "stdout",
     "output_type": "stream",
     "text": [
      "Requirement already satisfied: findspark in c:\\users\\sobando\\anaconda3\\lib\\site-packages (1.3.0)\n"
     ]
    }
   ],
   "source": [
    "!pip install findspark\n",
    "\n",
    "import findspark\n",
    "findspark.init()"
   ]
  },
  {
   "cell_type": "markdown",
   "metadata": {},
   "source": [
    "## LIBRERIAS"
   ]
  },
  {
   "cell_type": "code",
   "execution_count": 14,
   "metadata": {},
   "outputs": [],
   "source": [
    "# Cargar Pyspark\n",
    "from pyspark.sql import SparkSession\n",
    "from pyspark import SparkContext\n",
    "from pyspark import SparkConf\n",
    "from pyspark.sql.functions import *\n",
    "\n",
    "spark = SparkSession.builder.appName(\"model\").master(\"local[*]\").getOrCreate()"
   ]
  },
  {
   "cell_type": "code",
   "execution_count": 15,
   "metadata": {},
   "outputs": [],
   "source": [
    "from pyspark.sql.functions import *\n",
    "from pyspark.sql import Window\n",
    "from pyspark.sql.types import *\n",
    "from pyspark.ml.feature import VectorAssembler\n",
    "from pyspark.ml.regression import LinearRegression \n",
    "from pyspark.mllib.regression import LabeledPoint\n",
    "from pyspark.mllib.util import MLUtils"
   ]
  },
  {
   "cell_type": "code",
   "execution_count": 16,
   "metadata": {},
   "outputs": [],
   "source": [
    "import pandas as pd\n",
    "import numpy as np\n",
    "import seaborn as sns\n",
    "import matplotlib.pyplot as plt\n",
    "import warnings\n",
    "import math\n",
    "warnings.filterwarnings('ignore')"
   ]
  },
  {
   "cell_type": "markdown",
   "metadata": {},
   "source": [
    "## CARGAR DATOS"
   ]
  },
  {
   "cell_type": "code",
   "execution_count": 17,
   "metadata": {},
   "outputs": [],
   "source": [
    "# Path definition\n",
    "path = \"output/preprocessing/preprocessing_data.parquet\""
   ]
  },
  {
   "cell_type": "code",
   "execution_count": 18,
   "metadata": {},
   "outputs": [],
   "source": [
    "# Read dataframe\n",
    "train = spark.read.parquet(path, header= True, inferSchema=True)"
   ]
  },
  {
   "cell_type": "code",
   "execution_count": 19,
   "metadata": {},
   "outputs": [],
   "source": [
    "# Cast binary variables\n",
    "train = (train\n",
    "         .withColumn(\"ind_mora_vigente\",col(\"ind_mora_vigente\").cast(\"integer\"))\n",
    "         .withColumn(\"cartera_castigada\",col(\"cartera_castigada\").cast(\"integer\"))\n",
    "         .withColumn(\"tenencia_tc\",col(\"tenencia_tc\").cast(\"integer\"))\n",
    "         .withColumn(\"tiene_consumo\",col(\"tiene_consumo\").cast(\"integer\"))\n",
    "         .withColumn(\"tiene_crediagil\",col(\"tiene_crediagil\").cast(\"integer\"))\n",
    "         .withColumn(\"tiene_ctas_activas\",col(\"tiene_ctas_activas\").cast(\"integer\"))\n",
    "         .withColumn(\"tiene_ctas_embargadas\",col(\"tiene_ctas_embargadas\").cast(\"integer\"))\n",
    "         .withColumn(\"tiene_cred_hipo_1\",col(\"tiene_cred_hipo_1\").cast(\"integer\"))\n",
    "         .withColumn(\"tiene_cred_hipo_2\",col(\"tiene_cred_hipo_2\").cast(\"integer\"))\n",
    "         .withColumn(\"pension_fopep\",col(\"pension_fopep\").cast(\"integer\"))\n",
    "        )"
   ]
  },
  {
   "cell_type": "code",
   "execution_count": 20,
   "metadata": {},
   "outputs": [
    {
     "data": {
      "text/plain": [
       "9670308"
      ]
     },
     "execution_count": 20,
     "metadata": {},
     "output_type": "execute_result"
    }
   ],
   "source": [
    "# Verify rows\n",
    "train.count()"
   ]
  },
  {
   "cell_type": "code",
   "execution_count": 21,
   "metadata": {},
   "outputs": [],
   "source": [
    "# Set input and drop variables\n",
    "input_values = train.columns\n",
    "drop_values = ['periodo','id_cli','fecha_nacimiento','ult_actual','gasto_familiar','genero_dummy','codigo_ciiu','NI','rep_calif_cred']"
   ]
  },
  {
   "cell_type": "code",
   "execution_count": 22,
   "metadata": {},
   "outputs": [],
   "source": [
    "# Clean input variables\n",
    "input_features = [x for x in input_values if x not in drop_values]"
   ]
  },
  {
   "cell_type": "markdown",
   "metadata": {},
   "source": [
    "## MODELADO"
   ]
  },
  {
   "cell_type": "markdown",
   "metadata": {},
   "source": [
    "### Vectorizar - Train"
   ]
  },
  {
   "cell_type": "code",
   "execution_count": 23,
   "metadata": {},
   "outputs": [],
   "source": [
    "# Vectorize variables to define the features column\n",
    "feat_vector = VectorAssembler(inputCols=input_features, outputCol= \"features\")"
   ]
  },
  {
   "cell_type": "code",
   "execution_count": 24,
   "metadata": {},
   "outputs": [],
   "source": [
    "# Appply vectorization to train\n",
    "transTrain = feat_vector.transform(train)"
   ]
  },
  {
   "cell_type": "code",
   "execution_count": 25,
   "metadata": {},
   "outputs": [],
   "source": [
    "# select variables for the train model\n",
    "train_model = transTrain.select(\"id_cli\",\"periodo\",\"features\",\"gasto_familiar\")"
   ]
  },
  {
   "cell_type": "code",
   "execution_count": 26,
   "metadata": {},
   "outputs": [],
   "source": [
    "# Split\n",
    "splits = train_model.randomSplit([0.7, 0.3])\n",
    "train_df = splits[0]\n",
    "test_df = splits[1]"
   ]
  },
  {
   "cell_type": "code",
   "execution_count": 27,
   "metadata": {},
   "outputs": [],
   "source": [
    "# Apply statistical learning\n",
    "regression = LinearRegression(labelCol='gasto_familiar')\n",
    "regression = regression.fit(train_df)"
   ]
  },
  {
   "cell_type": "code",
   "execution_count": 28,
   "metadata": {},
   "outputs": [],
   "source": [
    "# Predict\n",
    "predictions = regression.transform(test_df)"
   ]
  },
  {
   "cell_type": "code",
   "execution_count": 29,
   "metadata": {},
   "outputs": [
    {
     "name": "stdout",
     "output_type": "stream",
     "text": [
      "+------+-------+--------------------+--------------+------------------+\n",
      "|id_cli|periodo|            features|gasto_familiar|        prediction|\n",
      "+------+-------+--------------------+--------------+------------------+\n",
      "|   192| 201905|(62,[0,1,2,3,4,17...|      418000.0| 1090093.431740284|\n",
      "|   192| 201908|(62,[0,1,2,3,4,17...|      333581.0| 1090093.431740284|\n",
      "|   192| 201909|(62,[0,1,2,3,4,17...|      347490.0| 1090093.431740284|\n",
      "|   192| 201911|(62,[0,1,2,3,4,17...|           0.0| 1090093.431740284|\n",
      "|   213| 202010|(62,[0,1,2,3,4,17...|     527998.67|498967.22339105606|\n",
      "|   332| 201910|(62,[0,4,8,12,13,...|     152067.95| 583714.2970309258|\n",
      "|   332| 202007|(62,[0,4,8,12,13,...|     154427.03| 673544.5618057251|\n",
      "|   332| 202008|(62,[0,4,5,12,13,...|     156373.35| 690064.5860490799|\n",
      "|   371| 201903|(62,[0,1,4,17,18,...|      595836.0|1208236.0570220947|\n",
      "|   400| 201903|(62,[0,1,2,3,4,8,...|        6700.0| 281990.0342140198|\n",
      "|   400| 201904|(62,[0,1,2,3,4,8,...|       74100.0| 354339.5066347122|\n",
      "|   400| 202002|(62,[0,1,2,3,4,17...|     326913.34| 543024.9117393494|\n",
      "|   400| 202003|(62,[0,1,2,3,4,17...|     457000.98| 544998.2936115265|\n",
      "|   400| 202004|(62,[0,1,2,3,4,26...|      480231.5| 451544.7660732269|\n",
      "|   400| 202005|(62,[0,1,2,3,4,17...|     3571240.5| 553928.6338262558|\n",
      "|   400| 202008|(62,[0,1,2,3,4,17...|      422118.0| 547124.5082187653|\n",
      "|   402| 201905|(62,[0,1,2,4,17,1...|     794812.77|1394115.4172458649|\n",
      "|   402| 201909|(62,[0,1,2,4,17,1...|    1589625.54|1382349.9840025902|\n",
      "|   402| 201910|(62,[0,1,2,4,17,1...|     794812.77|1382349.9840025902|\n",
      "|   402| 202001|(62,[0,1,2,4,17,1...|    1581263.54|1382349.9840025902|\n",
      "+------+-------+--------------------+--------------+------------------+\n",
      "only showing top 20 rows\n",
      "\n"
     ]
    }
   ],
   "source": [
    "# Show prediction\n",
    "predictions.select(\"id_cli\",\"periodo\",\"features\",\"gasto_familiar\",\"prediction\").show()"
   ]
  },
  {
   "cell_type": "code",
   "execution_count": 30,
   "metadata": {},
   "outputs": [
    {
     "data": {
      "text/plain": [
       "2899779"
      ]
     },
     "execution_count": 30,
     "metadata": {},
     "output_type": "execute_result"
    }
   ],
   "source": [
    "# Count rows\n",
    "predictions.count()"
   ]
  },
  {
   "cell_type": "markdown",
   "metadata": {},
   "source": [
    "## EVALUACIÓN"
   ]
  },
  {
   "cell_type": "code",
   "execution_count": 31,
   "metadata": {},
   "outputs": [
    {
     "name": "stdout",
     "output_type": "stream",
     "text": [
      "+-------+-------------------+\n",
      "|summary|         difference|\n",
      "+-------+-------------------+\n",
      "|  count|            2720434|\n",
      "|   mean| 169.15687409550472|\n",
      "| stddev|  79086.14484680894|\n",
      "|    min|-3.0094063191267795|\n",
      "|    max|8.860992813050652E7|\n",
      "+-------+-------------------+\n",
      "\n"
     ]
    }
   ],
   "source": [
    "# Show mean (MAPE)\n",
    "evaluation = predictions.withColumn(\"difference\",abs(col(\"gasto_familiar\")-col(\"prediction\"))/col(\"gasto_familiar\"))\n",
    "evaluation[[\"difference\"]].describe().show()"
   ]
  },
  {
   "cell_type": "code",
   "execution_count": 32,
   "metadata": {},
   "outputs": [
    {
     "name": "stdout",
     "output_type": "stream",
     "text": [
      "RMSE: 1338594.816451\n",
      "r2: 0.041836\n"
     ]
    }
   ],
   "source": [
    "# Show evaluation metrics\n",
    "regression_summary = regression.summary\n",
    "print(\"RMSE: %f\" % regression_summary.rootMeanSquaredError)\n",
    "print(\"r2: %f\" % regression_summary.r2)"
   ]
  },
  {
   "cell_type": "code",
   "execution_count": 40,
   "metadata": {},
   "outputs": [],
   "source": [
    "coefficients = regression.coefficients.values\n",
    "intercept = regression.intercept"
   ]
  },
  {
   "cell_type": "code",
   "execution_count": 38,
   "metadata": {},
   "outputs": [],
   "source": [
    "index_values = train.columns.remove(\"gasto_familiar\")"
   ]
  },
  {
   "cell_type": "code",
   "execution_count": 41,
   "metadata": {},
   "outputs": [],
   "source": [
    "df_equation = pd.DataFrame(coefficients,index=index_values,columns=[\"coefficients\"])"
   ]
  },
  {
   "cell_type": "code",
   "execution_count": 42,
   "metadata": {},
   "outputs": [],
   "source": [
    "df_equation.to_csv(\"output/equations/equation_analysis.csv\")"
   ]
  },
  {
   "cell_type": "code",
   "execution_count": 43,
   "metadata": {},
   "outputs": [
    {
     "data": {
      "text/plain": [
       "-2320221901.6527786"
      ]
     },
     "execution_count": 43,
     "metadata": {},
     "output_type": "execute_result"
    }
   ],
   "source": [
    "intercept"
   ]
  },
  {
   "cell_type": "code",
   "execution_count": 44,
   "metadata": {},
   "outputs": [],
   "source": [
    "# Check mape levels\n",
    "revision = (evaluation.withColumn(\"categoria\",\n",
    "                                   when(col(\"difference\")>10,10)\n",
    "                                   .when(col(\"difference\")>9,9)\n",
    "                                   .when(col(\"difference\")>8,8)\n",
    "                                   .when(col(\"difference\")>7,7)\n",
    "                                   .when(col(\"difference\")>6,6)\n",
    "                                   .when(col(\"difference\")>5,5)\n",
    "                                   .when(col(\"difference\")>4,4)\n",
    "                                   .when(col(\"difference\")>3,3)\n",
    "                                   .when(col(\"difference\")>2,2)\n",
    "                                   .when(col(\"difference\")>1,1)\n",
    "                                   .otherwise(0)))"
   ]
  },
  {
   "cell_type": "code",
   "execution_count": 45,
   "metadata": {},
   "outputs": [],
   "source": [
    "# get total of prediction row\n",
    "rows = revision.count()"
   ]
  },
  {
   "cell_type": "code",
   "execution_count": 46,
   "metadata": {},
   "outputs": [],
   "source": [
    "# Estimate frecuency and percentage per category\n",
    "participation = revision.groupby(\"categoria\").count()\n",
    "participation = participation.withColumn(\"%\",round(col(\"count\")/rows,2))"
   ]
  },
  {
   "cell_type": "code",
   "execution_count": 47,
   "metadata": {},
   "outputs": [
    {
     "name": "stdout",
     "output_type": "stream",
     "text": [
      "+---------+-------+----+\n",
      "|categoria|  count|   %|\n",
      "+---------+-------+----+\n",
      "|        9|  16698|0.01|\n",
      "|        6|  35960|0.01|\n",
      "|        8|  21232|0.01|\n",
      "|        7|  27251|0.01|\n",
      "|        5|  49191|0.02|\n",
      "|        4|  72545|0.03|\n",
      "|        3| 114845|0.04|\n",
      "|       10| 131910|0.05|\n",
      "|        2| 196002|0.07|\n",
      "|        1| 369979|0.13|\n",
      "|        0|1864166|0.64|\n",
      "+---------+-------+----+\n",
      "\n"
     ]
    }
   ],
   "source": [
    "# Show results\n",
    "participation.orderBy(\"%\").show()"
   ]
  },
  {
   "cell_type": "markdown",
   "metadata": {},
   "source": [
    "## IMPLEMENTACIÓN"
   ]
  },
  {
   "cell_type": "code",
   "execution_count": 83,
   "metadata": {},
   "outputs": [
    {
     "data": {
      "text/plain": [
       "281666"
      ]
     },
     "execution_count": 83,
     "metadata": {},
     "output_type": "execute_result"
    }
   ],
   "source": [
    "# Set testing path\n",
    "path = \"output/preprocessing/preprocessing_data_test.parquet\"\n",
    "# Read dataframe\n",
    "test = spark.read.parquet(path, header= True, inferSchema=True)\n",
    "# Verify rows\n",
    "test.count()"
   ]
  },
  {
   "cell_type": "code",
   "execution_count": 85,
   "metadata": {},
   "outputs": [],
   "source": [
    "# Cast binary variables\n",
    "test = (test\n",
    "         .withColumn(\"ind_mora_vigente\",col(\"ind_mora_vigente\").cast(\"integer\"))\n",
    "         .withColumn(\"cartera_castigada\",col(\"cartera_castigada\").cast(\"integer\"))\n",
    "         .withColumn(\"tenencia_tc\",col(\"tenencia_tc\").cast(\"integer\"))\n",
    "         .withColumn(\"tiene_consumo\",col(\"tiene_consumo\").cast(\"integer\"))\n",
    "         .withColumn(\"tiene_crediagil\",col(\"tiene_crediagil\").cast(\"integer\"))\n",
    "         .withColumn(\"tiene_ctas_activas\",col(\"tiene_ctas_activas\").cast(\"integer\"))\n",
    "         .withColumn(\"tiene_ctas_embargadas\",col(\"tiene_ctas_embargadas\").cast(\"integer\"))\n",
    "         .withColumn(\"tiene_cred_hipo_1\",col(\"tiene_cred_hipo_1\").cast(\"integer\"))\n",
    "         .withColumn(\"tiene_cred_hipo_2\",col(\"tiene_cred_hipo_2\").cast(\"integer\"))\n",
    "         .withColumn(\"pension_fopep\",col(\"pension_fopep\").cast(\"integer\"))\n",
    "        )"
   ]
  },
  {
   "cell_type": "code",
   "execution_count": 86,
   "metadata": {},
   "outputs": [],
   "source": [
    "# Appply vectorization to test\n",
    "transTest = feat_vector.transform(test)"
   ]
  },
  {
   "cell_type": "code",
   "execution_count": 87,
   "metadata": {},
   "outputs": [],
   "source": [
    "# select variables for the test model\n",
    "test_model = transTest.select(\"id_cli\",\"periodo\",\"features\")"
   ]
  },
  {
   "cell_type": "code",
   "execution_count": 88,
   "metadata": {},
   "outputs": [],
   "source": [
    "# Apply statistical learning\n",
    "regression = LinearRegression(labelCol='gasto_familiar',maxIter=10,regParam=0.3, elasticNetParam=0.8)\n",
    "regression = regression.fit(train_model)"
   ]
  },
  {
   "cell_type": "code",
   "execution_count": 89,
   "metadata": {},
   "outputs": [
    {
     "name": "stdout",
     "output_type": "stream",
     "text": [
      "+-------+-------+--------------------+\n",
      "| id_cli|periodo|            features|\n",
      "+-------+-------+--------------------+\n",
      "|1165927| 201908|(62,[0,1,3,4,8,12...|\n",
      "|1172919| 201908|(62,[0,1,2,4,17,1...|\n",
      "|1538512| 201909|(62,[0,1,2,3,4,17...|\n",
      "|3371270| 202004|(62,[0,1,2,4,5,8,...|\n",
      "|2784853| 202003|(62,[0,1,2,4,12,1...|\n",
      "+-------+-------+--------------------+\n",
      "only showing top 5 rows\n",
      "\n"
     ]
    }
   ],
   "source": [
    "test_model.show(5)"
   ]
  },
  {
   "cell_type": "code",
   "execution_count": 90,
   "metadata": {},
   "outputs": [],
   "source": [
    "# Predict\n",
    "predictionsImpl = regression.transform(test_model)"
   ]
  },
  {
   "cell_type": "code",
   "execution_count": 91,
   "metadata": {},
   "outputs": [
    {
     "data": {
      "text/plain": [
       "281666"
      ]
     },
     "execution_count": 91,
     "metadata": {},
     "output_type": "execute_result"
    }
   ],
   "source": [
    "predictionsImpl.count()"
   ]
  },
  {
   "cell_type": "code",
   "execution_count": 92,
   "metadata": {},
   "outputs": [
    {
     "name": "stdout",
     "output_type": "stream",
     "text": [
      "+--------------+------------------+\n",
      "|   id_registro|    gasto_familiar|\n",
      "+--------------+------------------+\n",
      "|1165927#201908| 6697111.195188613|\n",
      "|1172919#201908|1071127.8537389168|\n",
      "|1538512#201909|397318.42602455005|\n",
      "|3371270#202004| 504734.8045365114|\n",
      "|2784853#202003| 723898.7143897307|\n",
      "|2219310#202001| 404036.4295673901|\n",
      "|2220638#202001|   697352.35682594|\n",
      "|1568926#201909| 624878.8911242125|\n",
      "|1573039#201909| 754588.9431789878|\n",
      "|2430420#202002| 4458586.199835714|\n",
      "|1455662#201909| 825592.6695296242|\n",
      "|1461386#201909|1411427.3541204634|\n",
      "|1463134#201909|1034323.6044531914|\n",
      "|1477680#201909| 627417.0205473587|\n",
      "|1361632#201909|1579337.2494138726|\n",
      "|1362813#201909| 677649.8049222067|\n",
      "|1379397#201909| 1230200.768053591|\n",
      "| 834901#201905| 544779.1370414208|\n",
      "| 839363#201905|1078801.2176850596|\n",
      "| 842749#201905| 2691585.463587974|\n",
      "+--------------+------------------+\n",
      "only showing top 20 rows\n",
      "\n"
     ]
    }
   ],
   "source": [
    "# Show prediction\n",
    "df_final = predictionsImpl.select(concat(str(\"id_cli\"),lit('#'),str(\"periodo\")).alias(\"id_registro\"),col(\"prediction\").alias(\"gasto_familiar\"))\n",
    "df_final.show()"
   ]
  },
  {
   "cell_type": "code",
   "execution_count": 93,
   "metadata": {},
   "outputs": [],
   "source": [
    "df_final.toPandas().to_csv(\"output/implementations/model_LR_20200128.csv\", index=False)"
   ]
  },
  {
   "cell_type": "markdown",
   "metadata": {},
   "source": [
    "## ANÁLISIS"
   ]
  },
  {
   "cell_type": "code",
   "execution_count": 94,
   "metadata": {},
   "outputs": [],
   "source": [
    "coefficients = regression.coefficients.values\n",
    "intercept = regression.intercept"
   ]
  },
  {
   "cell_type": "code",
   "execution_count": 95,
   "metadata": {},
   "outputs": [],
   "source": [
    "df_equation = pd.DataFrame(coefficients,index=index_values,columns=[\"coefficients\"])"
   ]
  },
  {
   "cell_type": "code",
   "execution_count": 96,
   "metadata": {},
   "outputs": [],
   "source": [
    "df_equation.to_csv(\"output/equations/equation_implementation.csv\")"
   ]
  },
  {
   "cell_type": "code",
   "execution_count": 97,
   "metadata": {},
   "outputs": [
    {
     "data": {
      "text/plain": [
       "220941.60284442044"
      ]
     },
     "execution_count": 97,
     "metadata": {},
     "output_type": "execute_result"
    }
   ],
   "source": [
    "intercept"
   ]
  }
 ],
 "metadata": {
  "kernelspec": {
   "display_name": "Python 3",
   "language": "python",
   "name": "python3"
  },
  "language_info": {
   "codemirror_mode": {
    "name": "ipython",
    "version": 3
   },
   "file_extension": ".py",
   "mimetype": "text/x-python",
   "name": "python",
   "nbconvert_exporter": "python",
   "pygments_lexer": "ipython3",
   "version": "3.8.3"
  }
 },
 "nbformat": 4,
 "nbformat_minor": 4
}
